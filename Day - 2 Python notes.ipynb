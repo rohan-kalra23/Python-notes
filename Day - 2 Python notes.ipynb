{
 "cells": [
  {
   "cell_type": "markdown",
   "id": "ab001482",
   "metadata": {},
   "source": [
    "# Day -2 Python "
   ]
  },
  {
   "cell_type": "markdown",
   "id": "d572cf90",
   "metadata": {},
   "source": [
    "dynamic typing ->>>Dynamic Typing Python is a dynamically typed language. This means that the Python interpreter does type checking only as code runs, and that the type of a variable is allowed to change over its lifetime. "
   ]
  },
  {
   "cell_type": "markdown",
   "id": "c4b66c60",
   "metadata": {},
   "source": [
    "dynamic typing is basicallay when we write a= 10 , the compiler on the run time understand the datatype of the variable a "
   ]
  },
  {
   "cell_type": "code",
   "execution_count": 1,
   "id": "4408a0a3",
   "metadata": {},
   "outputs": [],
   "source": [
    "a=10"
   ]
  },
  {
   "cell_type": "markdown",
   "id": "64cd6807",
   "metadata": {},
   "source": [
    "because in all the other languages we have to declare the data type ....."
   ]
  },
  {
   "cell_type": "code",
   "execution_count": 2,
   "id": "d81d54a9",
   "metadata": {},
   "outputs": [],
   "source": [
    "a='c'"
   ]
  },
  {
   "cell_type": "code",
   "execution_count": 3,
   "id": "f98d650c",
   "metadata": {},
   "outputs": [
    {
     "data": {
      "text/plain": [
       "0"
      ]
     },
     "execution_count": 3,
     "metadata": {},
     "output_type": "execute_result"
    }
   ],
   "source": [
    "int()"
   ]
  },
  {
   "cell_type": "code",
   "execution_count": 4,
   "id": "235883fd",
   "metadata": {},
   "outputs": [],
   "source": [
    "#give 0 if no number is given ..."
   ]
  },
  {
   "cell_type": "code",
   "execution_count": 5,
   "id": "64b5c186",
   "metadata": {},
   "outputs": [
    {
     "data": {
      "text/plain": [
       "123"
      ]
     },
     "execution_count": 5,
     "metadata": {},
     "output_type": "execute_result"
    }
   ],
   "source": [
    "int('123') # it is typecasting "
   ]
  },
  {
   "cell_type": "markdown",
   "id": "f576cb98",
   "metadata": {},
   "source": [
    "# Typecasting-->>changing the data type of the data ...."
   ]
  },
  {
   "cell_type": "code",
   "execution_count": 6,
   "id": "b88e9114",
   "metadata": {},
   "outputs": [
    {
     "ename": "ValueError",
     "evalue": "invalid literal for int() with base 10: 'abcd'",
     "output_type": "error",
     "traceback": [
      "\u001b[1;31m---------------------------------------------------------------------------\u001b[0m",
      "\u001b[1;31mValueError\u001b[0m                                Traceback (most recent call last)",
      "\u001b[1;32m~\\AppData\\Local\\Temp\\ipykernel_15716\\3100266108.py\u001b[0m in \u001b[0;36m<module>\u001b[1;34m\u001b[0m\n\u001b[1;32m----> 1\u001b[1;33m \u001b[0mint\u001b[0m\u001b[1;33m(\u001b[0m\u001b[1;34m'abcd'\u001b[0m\u001b[1;33m)\u001b[0m\u001b[1;33m\u001b[0m\u001b[1;33m\u001b[0m\u001b[0m\n\u001b[0m",
      "\u001b[1;31mValueError\u001b[0m: invalid literal for int() with base 10: 'abcd'"
     ]
    }
   ],
   "source": [
    "int('abcd')"
   ]
  },
  {
   "cell_type": "markdown",
   "id": "ba8adb2e",
   "metadata": {},
   "source": [
    "if strings are in the form of the numbers only then we are able to do the typecasrting ...."
   ]
  },
  {
   "cell_type": "code",
   "execution_count": 7,
   "id": "a6145e48",
   "metadata": {},
   "outputs": [],
   "source": [
    "#let's learn the print statement ..."
   ]
  },
  {
   "cell_type": "code",
   "execution_count": 8,
   "id": "aa80b53c",
   "metadata": {},
   "outputs": [
    {
     "name": "stdout",
     "output_type": "stream",
     "text": [
      "\n"
     ]
    }
   ],
   "source": [
    "print() # end = \"\\n\" , sep = ''(blank)\n",
    "# file = sys.stdout(wherever is the output console it will print the output or result )"
   ]
  },
  {
   "cell_type": "code",
   "execution_count": 9,
   "id": "2e1e9e4c",
   "metadata": {},
   "outputs": [
    {
     "name": "stdout",
     "output_type": "stream",
     "text": [
      "hello world\n"
     ]
    }
   ],
   "source": [
    "print(\"hello world\")"
   ]
  },
  {
   "cell_type": "code",
   "execution_count": 10,
   "id": "d9897de4",
   "metadata": {},
   "outputs": [
    {
     "name": "stdout",
     "output_type": "stream",
     "text": [
      "12\n"
     ]
    }
   ],
   "source": [
    "print(12)"
   ]
  },
  {
   "cell_type": "code",
   "execution_count": 11,
   "id": "96b48234",
   "metadata": {},
   "outputs": [],
   "source": [
    "age = 32"
   ]
  },
  {
   "cell_type": "code",
   "execution_count": 14,
   "id": "52ba5b74",
   "metadata": {},
   "outputs": [
    {
     "name": "stdout",
     "output_type": "stream",
     "text": [
      "my age is : 32\n"
     ]
    }
   ],
   "source": [
    "print(\"my age is :\"  , age )"
   ]
  },
  {
   "cell_type": "code",
   "execution_count": 15,
   "id": "444af5bb",
   "metadata": {},
   "outputs": [
    {
     "name": "stdout",
     "output_type": "stream",
     "text": [
      "my age is {age}\n"
     ]
    }
   ],
   "source": [
    "print(\"my age is {age}\")"
   ]
  },
  {
   "cell_type": "code",
   "execution_count": 18,
   "id": "7528f99b",
   "metadata": {},
   "outputs": [
    {
     "name": "stdout",
     "output_type": "stream",
     "text": [
      "my age is 32\n"
     ]
    }
   ],
   "source": [
    "print(f\"my age is {age}\") # f value stands for format here....this is basically known as formating ..\n",
    "# this is known as F string in python "
   ]
  },
  {
   "cell_type": "code",
   "execution_count": 21,
   "id": "8d97ffe9",
   "metadata": {},
   "outputs": [
    {
     "name": "stdout",
     "output_type": "stream",
     "text": [
      "my name is krish and age is 32\n"
     ]
    }
   ],
   "source": [
    "# format way \n",
    "name = 'krish'\n",
    "age = 32\n",
    "print(\"my name is {} and age is {}\".format(name,age))"
   ]
  },
  {
   "cell_type": "code",
   "execution_count": 22,
   "id": "f719ef80",
   "metadata": {},
   "outputs": [
    {
     "name": "stdout",
     "output_type": "stream",
     "text": [
      "my name is Rohan and profession is god of Data and i am 25 years old\n"
     ]
    }
   ],
   "source": [
    "name = 'Rohan'\n",
    "profession = \"god of Data\"\n",
    "age = 25\n",
    "print(\"my name is {} and profession is {} and i am {} years old\".format(name , profession , age ))"
   ]
  },
  {
   "cell_type": "code",
   "execution_count": 23,
   "id": "64c6125f",
   "metadata": {},
   "outputs": [
    {
     "name": "stdout",
     "output_type": "stream",
     "text": [
      "my name is rohan and my age is 32\n"
     ]
    }
   ],
   "source": [
    "#placeholder \n",
    "name = \"rohan\"\n",
    "age = 32\n",
    "print(\"my name is {firstname} and my age is {firstage}\".format(firstname = name , firstage = age ))"
   ]
  },
  {
   "cell_type": "code",
   "execution_count": 24,
   "id": "a2c2416e",
   "metadata": {},
   "outputs": [
    {
     "name": "stdout",
     "output_type": "stream",
     "text": [
      "my age is 25 and i have completed my degree B.com with the name of  rohan\n"
     ]
    }
   ],
   "source": [
    "name = \"rohan\"\n",
    "degree = 'B.com'\n",
    "age = 25\n",
    "print(\"my age is {} and i have completed my degree {} with the name of  {}\".format(age , degree , name))"
   ]
  },
  {
   "cell_type": "code",
   "execution_count": 25,
   "id": "f57b7f63",
   "metadata": {},
   "outputs": [
    {
     "name": "stdout",
     "output_type": "stream",
     "text": [
      "my age is 25 and i have completed my degree in B.com with the name of rohan\n"
     ]
    }
   ],
   "source": [
    "print(f\"my age is {age} and i have completed my degree in {degree} with the name of {name}\")"
   ]
  },
  {
   "cell_type": "code",
   "execution_count": 27,
   "id": "47d77576",
   "metadata": {},
   "outputs": [
    {
     "name": "stdout",
     "output_type": "stream",
     "text": [
      "my age is : 25 and i have completed my degree in : B.com with the name of : rohan\n"
     ]
    }
   ],
   "source": [
    "print('my age is :' ,age , \"and i have completed my degree in :\" , degree , \"with the name of :\" , name )"
   ]
  },
  {
   "cell_type": "code",
   "execution_count": 29,
   "id": "e93c026c",
   "metadata": {},
   "outputs": [
    {
     "name": "stdout",
     "output_type": "stream",
     "text": [
      "my age is 25 and i have completed my degree in B.com with the name of rohan\n"
     ]
    }
   ],
   "source": [
    "print(\"my age is {firstname} and i have completed my degree in {fdegree} with the name of {fname}\".format(firstname = age , fdegree = degree ,fname = name  ))"
   ]
  },
  {
   "cell_type": "markdown",
   "id": "7b8ac855",
   "metadata": {},
   "source": [
    "# 4) Control Flow\n",
    "   **Here, we are going to review and learn the most fundamentals of Python control flow: Decision making statement and loops.**\n"
   ]
  },
  {
   "cell_type": "markdown",
   "id": "343a92d2",
   "metadata": {},
   "source": [
    "## 4.1 Decision Making Statement\n",
    "   * It is kind of making decision during occurred situation of program execution and action can be taken according to specified conditions.\n",
    "   * Structure of decision making evaluate several expressions that provide True or False as a result.\n",
    "   * It is up to you to decide which type of action want to take and execute the statements based upon True and False.\n",
    "   \n",
    "**These are several topics of decision making which going to be discussed below:**\n",
    "   1. **if**\n",
    "   2. **if else** \n",
    "   3. **if elif else**\n",
    "   4. **Nested if**\n",
    "   5. **Single Statement Suites**"
   ]
  },
  {
   "cell_type": "markdown",
   "id": "1095c666",
   "metadata": {},
   "source": [
    "### 4.1.1 If statement\n",
    "   - In python `if` statement is same as other languages.\n",
    "   - It is having a logical expression where data is getting compared and based upon comparison result a decision is made.\n",
    "   \n",
    "**Examples**"
   ]
  },
  {
   "cell_type": "code",
   "execution_count": 41,
   "id": "19435fbe",
   "metadata": {},
   "outputs": [
    {
     "name": "stdout",
     "output_type": "stream",
     "text": [
      "you can't vote\n"
     ]
    }
   ],
   "source": [
    "# if statement \n",
    "age = 14\n",
    "if age >18:\n",
    "    #by using this colon we are saying now you are inside the if block(if condition is True only then it will go inside block)\n",
    "    print(\"you can vote\")\n",
    "else:\n",
    "    \n",
    "    print(\"you can't vote\")"
   ]
  },
  {
   "cell_type": "code",
   "execution_count": 43,
   "id": "620e80f9",
   "metadata": {},
   "outputs": [],
   "source": [
    "age = 21\n",
    "if age <= 18:\n",
    "    print(\"you can't vote \") # when the condition is not fulfilled it is not giving any output "
   ]
  },
  {
   "cell_type": "code",
   "execution_count": 44,
   "id": "ecf46133",
   "metadata": {},
   "outputs": [
    {
     "name": "stdout",
     "output_type": "stream",
     "text": [
      "you can vote\n"
     ]
    }
   ],
   "source": [
    "age = 19\n",
    "if age >=18:\n",
    "    print(\"you can vote\")"
   ]
  },
  {
   "cell_type": "markdown",
   "id": "0a184785",
   "metadata": {},
   "source": [
    "# Input function "
   ]
  },
  {
   "cell_type": "markdown",
   "id": "f3625562",
   "metadata": {},
   "source": [
    "input function is used when we want to give information in the ouput console from our side ...."
   ]
  },
  {
   "cell_type": "code",
   "execution_count": 45,
   "id": "55972e73",
   "metadata": {},
   "outputs": [
    {
     "name": "stdout",
     "output_type": "stream",
     "text": [
      "rohan\n"
     ]
    },
    {
     "data": {
      "text/plain": [
       "'rohan'"
      ]
     },
     "execution_count": 45,
     "metadata": {},
     "output_type": "execute_result"
    }
   ],
   "source": [
    "input() # input is giving us prompt and asking for information it will print the given information is output console "
   ]
  },
  {
   "cell_type": "code",
   "execution_count": 46,
   "id": "c6992b8b",
   "metadata": {},
   "outputs": [],
   "source": [
    "# by default input ptint or collect the data as a string "
   ]
  },
  {
   "cell_type": "code",
   "execution_count": 47,
   "id": "2640d1a8",
   "metadata": {},
   "outputs": [
    {
     "name": "stdout",
     "output_type": "stream",
     "text": [
      "33\n"
     ]
    },
    {
     "data": {
      "text/plain": [
       "'33'"
      ]
     },
     "execution_count": 47,
     "metadata": {},
     "output_type": "execute_result"
    }
   ],
   "source": [
    "input() # 33 is string here "
   ]
  },
  {
   "cell_type": "code",
   "execution_count": 48,
   "id": "0a35dd0f",
   "metadata": {},
   "outputs": [
    {
     "name": "stdout",
     "output_type": "stream",
     "text": [
      "rohan\n"
     ]
    }
   ],
   "source": [
    "name = input()"
   ]
  },
  {
   "cell_type": "code",
   "execution_count": 49,
   "id": "e29a86aa",
   "metadata": {},
   "outputs": [
    {
     "data": {
      "text/plain": [
       "'rohan'"
      ]
     },
     "execution_count": 49,
     "metadata": {},
     "output_type": "execute_result"
    }
   ],
   "source": [
    "name  # our input will be save in the variable name "
   ]
  },
  {
   "cell_type": "code",
   "execution_count": 51,
   "id": "b3c6f4e4",
   "metadata": {},
   "outputs": [
    {
     "name": "stdout",
     "output_type": "stream",
     "text": [
      "enter your name krish naik\n"
     ]
    }
   ],
   "source": [
    "name = input('enter your name ')"
   ]
  },
  {
   "cell_type": "code",
   "execution_count": 52,
   "id": "4920bbe5",
   "metadata": {},
   "outputs": [
    {
     "data": {
      "text/plain": [
       "'krish naik'"
      ]
     },
     "execution_count": 52,
     "metadata": {},
     "output_type": "execute_result"
    }
   ],
   "source": [
    "name "
   ]
  },
  {
   "cell_type": "code",
   "execution_count": 53,
   "id": "fa020f17",
   "metadata": {},
   "outputs": [
    {
     "name": "stdout",
     "output_type": "stream",
     "text": [
      "enter your age 23\n"
     ]
    }
   ],
   "source": [
    "# if we have to convert the input data into the int we have to do the typecasting ...\n",
    "age = int(input(\"enter your age \"))"
   ]
  },
  {
   "cell_type": "code",
   "execution_count": 54,
   "id": "ce332819",
   "metadata": {},
   "outputs": [
    {
     "data": {
      "text/plain": [
       "23"
      ]
     },
     "execution_count": 54,
     "metadata": {},
     "output_type": "execute_result"
    }
   ],
   "source": [
    "age"
   ]
  },
  {
   "cell_type": "code",
   "execution_count": 55,
   "id": "9fd0cdfa",
   "metadata": {},
   "outputs": [
    {
     "data": {
      "text/plain": [
       "str"
      ]
     },
     "execution_count": 55,
     "metadata": {},
     "output_type": "execute_result"
    }
   ],
   "source": [
    "type(name)"
   ]
  },
  {
   "cell_type": "code",
   "execution_count": 56,
   "id": "e8c35f79",
   "metadata": {},
   "outputs": [
    {
     "data": {
      "text/plain": [
       "int"
      ]
     },
     "execution_count": 56,
     "metadata": {},
     "output_type": "execute_result"
    }
   ],
   "source": [
    "type(age)"
   ]
  },
  {
   "cell_type": "code",
   "execution_count": 57,
   "id": "70999db4",
   "metadata": {},
   "outputs": [
    {
     "name": "stdout",
     "output_type": "stream",
     "text": [
      "enter your age34\n",
      "you are young blood\n"
     ]
    }
   ],
   "source": [
    "age = int(input('enter your age'))\n",
    "if age >= 18 and age <=45:\n",
    "    print(\"you are young blood\")\n",
    "else:\n",
    "    print(\"take care of your health\")"
   ]
  },
  {
   "cell_type": "code",
   "execution_count": 58,
   "id": "a5fa059d",
   "metadata": {},
   "outputs": [
    {
     "name": "stdout",
     "output_type": "stream",
     "text": [
      "enter your age47\n",
      "take care of your health\n"
     ]
    }
   ],
   "source": [
    "age = int(input('enter your age'))\n",
    "if age >= 18 and age <=45:\n",
    "    print(\"you are young blood\")\n",
    "else:\n",
    "    print(\"take care of your health\")"
   ]
  },
  {
   "cell_type": "code",
   "execution_count": 59,
   "id": "2670e645",
   "metadata": {},
   "outputs": [
    {
     "name": "stdout",
     "output_type": "stream",
     "text": [
      "enter your age17\n",
      "take care of your health\n"
     ]
    }
   ],
   "source": [
    "age = int(input('enter your age'))\n",
    "if age >= 18 and age <=45:\n",
    "    print(\"you are young blood\")\n",
    "else:\n",
    "    print(\"take care of your health\")"
   ]
  },
  {
   "cell_type": "markdown",
   "id": "cb80c998",
   "metadata": {},
   "source": [
    "### 4.1.2 If-else statement\n",
    "\n",
    "   - With `if` statement an `else` statement is combined.\n",
    "   - `if-else` statement have a block of code, where `if` is executed when it is `1` or `True` and `else` when `if` is `0` or `False` \n",
    "   >**Note:** The `else` statement is consider to be an optional statement, so there could be only one `else` statement in block of code.\n",
    "   \n",
    "**Examples**"
   ]
  },
  {
   "cell_type": "code",
   "execution_count": 62,
   "id": "b469ee62",
   "metadata": {},
   "outputs": [
    {
     "name": "stdout",
     "output_type": "stream",
     "text": [
      "enter your age:90\n",
      "Thankyou your appplication is rejected \n"
     ]
    }
   ],
   "source": [
    "age = int(input('enter your age:'))\n",
    "if age >= 18 and age <=45:\n",
    "    print(\"you are young blood\")\n",
    "else:\n",
    "    print(\"Thankyou your appplication is rejected \")"
   ]
  },
  {
   "cell_type": "code",
   "execution_count": 64,
   "id": "979095a9",
   "metadata": {},
   "outputs": [
    {
     "name": "stdout",
     "output_type": "stream",
     "text": [
      "enter the product price1200\n",
      "you will get a discount of 20% and the value of your price is 960.0\n"
     ]
    }
   ],
   "source": [
    "amount =int(input(\"enter the product price\"))\n",
    "if amount > 1000:\n",
    "    print(f\"you will get a discount of 20% and the value of your price is {amount * .8}\")\n",
    "else:\n",
    "    print(F\"you will get a discount of 30% and the value of your product is {amount * .7}\")"
   ]
  },
  {
   "cell_type": "code",
   "execution_count": 65,
   "id": "d77b31ef",
   "metadata": {},
   "outputs": [
    {
     "name": "stdout",
     "output_type": "stream",
     "text": [
      "enter the product price800\n",
      "you will get a discount of 30% and the value of your product is 560.0\n"
     ]
    }
   ],
   "source": [
    "amount =int(input(\"enter the product price\"))\n",
    "if amount > 1000:\n",
    "    print(f\"you will get a discount of 20% and the value of your price is {amount * .8}\")\n",
    "else:\n",
    "    print(F\"you will get a discount of 30% and the value of your product is {amount * .7}\")"
   ]
  },
  {
   "cell_type": "markdown",
   "id": "453211ca",
   "metadata": {},
   "source": [
    "### 4.1.3 If-elif-else statement\n",
    "\n",
    "   - The `elif` statement is used to check for the multiple `True` expressions and so on if the condition is `True` it execute a block of code.\n",
    "   - Similar `elif` statement is consider to be an optional like `else` statement. \n",
    "   - Though, we can use `elif` statement multiple times in a block of code, but `else` statement can be used only ones\n",
    "   \n",
    "**Examples**"
   ]
  },
  {
   "cell_type": "code",
   "execution_count": 66,
   "id": "fdb3c144",
   "metadata": {},
   "outputs": [],
   "source": [
    "## mall - input the product price\n",
    "## product >3000 rs 20% off\n",
    "## price is ==4000 you get a trip to Goa\n",
    "## print the product price after removing the discount\n",
    "## product >=2000 rs and <=3000 30% off\n",
    "## print the product price after removing the discount\n",
    "## price ==2999  u will get adiitional gift\n",
    "## product 100 rs and <=2000 40% off\n",
    "## print the product price after removing the discount"
   ]
  },
  {
   "cell_type": "code",
   "execution_count": 75,
   "id": "7fb0a383",
   "metadata": {},
   "outputs": [
    {
     "name": "stdout",
     "output_type": "stream",
     "text": [
      "enter the product price1200\n",
      "you got the duscount of 40 % and the new price for your product is720.0\n"
     ]
    }
   ],
   "source": [
    "price= int(input(\"enter the product price\"))\n",
    "if price > 3000:\n",
    "    if price ==4000:\n",
    "        print(\"you got a trip to Goa congratulation\")\n",
    "    print(\"you got a discount of 20% and your product price is {}\".format(price *.8))\n",
    "elif price >2000 and price <=3000:\n",
    "    if price == 2999:\n",
    "        print('ypu got an extra gift congratulations ')\n",
    "    print(\"you got the discount of 30% and your product price is {}\".format(price * .7))\n",
    "elif price >=100 and price <=2000:\n",
    "    print('you got the duscount of 40 % and the new price for your product is{}'.format(price * .6))\n",
    "else:\n",
    "    print(\"psa kmao berojgaar logo\")\n",
    "    \n",
    "    "
   ]
  },
  {
   "cell_type": "markdown",
   "id": "8b016d06",
   "metadata": {},
   "source": [
    "suppose we use if condition only inplace of elif and else we use only if what it will do is even after fulfilling of a single condition it's keep on going to next condition again and again and it will not gonna stop but if we use if , else and else condition and if any one statements becomes True it will not go further to next condition and display the result instantly "
   ]
  },
  {
   "cell_type": "markdown",
   "id": "474f678f",
   "metadata": {},
   "source": [
    "Time complexity --->> time to execute the code will be more and more "
   ]
  },
  {
   "cell_type": "code",
   "execution_count": 76,
   "id": "fd13ce1d",
   "metadata": {},
   "outputs": [
    {
     "name": "stdout",
     "output_type": "stream",
     "text": [
      "enter the product price0\n",
      "psa kmao berojgaar logo\n"
     ]
    }
   ],
   "source": [
    "price= int(input(\"enter the product price\"))\n",
    "if price > 3000:\n",
    "    if price ==4000:\n",
    "        print(\"you got a trip to Goa congratulation\")\n",
    "    print(\"you got a discount of 20% and your product price is {}\".format(price *.8))\n",
    "elif price >2000 and price <=3000:\n",
    "    if price == 2999:\n",
    "        print('ypu got an extra gift congratulations ')\n",
    "    print(\"you got the discount of 30% and your product price is {}\".format(price * .7))\n",
    "elif price >=100 and price <=2000:\n",
    "    print('you got the duscount of 40 % and the new price for your product is{}'.format(price * .6))\n",
    "else:\n",
    "    print(\"psa kmao berojgaar logo\")\n",
    "    "
   ]
  },
  {
   "cell_type": "markdown",
   "id": "fc122e48",
   "metadata": {},
   "source": [
    "Nested if --->> inside the if or elif there is one more if ..."
   ]
  },
  {
   "cell_type": "code",
   "execution_count": 78,
   "id": "d943d416",
   "metadata": {},
   "outputs": [
    {
     "data": {
      "text/plain": [
       "True"
      ]
     },
     "execution_count": 78,
     "metadata": {},
     "output_type": "execute_result"
    }
   ],
   "source": [
    "#comparison operator \n",
    "True ==True"
   ]
  },
  {
   "cell_type": "code",
   "execution_count": 81,
   "id": "caee4683",
   "metadata": {},
   "outputs": [
    {
     "name": "stdout",
     "output_type": "stream",
     "text": [
      "enter your number 1200\n",
      "Go home\n"
     ]
    }
   ],
   "source": [
    "# single statement suites->> # writing if in a single statement \n",
    "val = int(input(\"enter your number \"))\n",
    "if val <=999:print(\"the value is less than or equal to 999\")\n",
    "else:\n",
    "    print(\"Go home\")"
   ]
  },
  {
   "cell_type": "markdown",
   "id": "406d770a",
   "metadata": {},
   "source": [
    "## 4.2 Loops Statements \n",
    "   * In loop, the statements are sequentially executed, execution of first function statement is done first, then second and so on.\n",
    "   * In situation where you need to perform a block of code many times then loop statement will come in to picture. \n",
    "   * It allows to execute/run group of statements or a statement multiple time.\n",
    "   \n",
    "**These are several topics of loop statements which going to be discussed below:**\n",
    "   1. **while Loop** \n",
    "   2. **for Loop**\n",
    "   3. **Nested loops**\n",
    "   4. **Loop Control**\n",
    "      * **break**\n",
    "      * **continue**\n",
    "      * **pass**"
   ]
  },
  {
   "cell_type": "markdown",
   "id": "a9f8f353",
   "metadata": {},
   "source": [
    "# while loop\n",
    "### 4.2.1 While Loop\n",
    "\n",
    "   * It repeats a statement or multiple statements when a provided condition is `True`.\n",
    "   * Before performing a loop body it check for a condition\n",
    "   \n",
    "**Examples**"
   ]
  },
  {
   "cell_type": "code",
   "execution_count": 85,
   "id": "cd972b79",
   "metadata": {},
   "outputs": [
    {
     "name": "stdout",
     "output_type": "stream",
     "text": [
      "26\n",
      "27\n",
      "28\n",
      "29\n",
      "30\n",
      "31\n",
      "32\n",
      "33\n",
      "34\n",
      "35\n",
      "36\n",
      "37\n",
      "38\n",
      "39\n",
      "40\n",
      "41\n",
      "42\n",
      "43\n",
      "44\n",
      "45\n",
      "46\n",
      "47\n",
      "48\n",
      "49\n",
      "50\n",
      "51\n",
      "52\n",
      "53\n",
      "54\n",
      "55\n",
      "56\n",
      "57\n",
      "58\n",
      "59\n",
      "60\n"
     ]
    }
   ],
   "source": [
    "#example \n",
    "joining_age = 25 # till our condition is true it will go to next line add 1 to age and print joining age \n",
    "while joining_age <60:\n",
    "    \n",
    "    joining_age = joining_age + 1\n",
    "    print(joining_age)\n",
    "  #when this condition become False the loop will stop   "
   ]
  },
  {
   "cell_type": "code",
   "execution_count": 89,
   "id": "4eb910fe",
   "metadata": {},
   "outputs": [
    {
     "name": "stdout",
     "output_type": "stream",
     "text": [
      "24\n",
      "25\n",
      "26\n",
      "27\n",
      "28\n",
      "29\n",
      "30\n",
      "31\n",
      "32\n",
      "33\n",
      "34\n",
      "35\n",
      "36\n",
      "37\n",
      "38\n",
      "39\n",
      "40\n",
      "41\n",
      "42\n",
      "43\n",
      "44\n",
      "45\n",
      "46\n",
      "47\n",
      "48\n",
      "49\n",
      "50\n",
      "51\n",
      "52\n",
      "53\n",
      "54\n",
      "55\n",
      "56\n",
      "57\n",
      "58\n",
      "59\n",
      "60\n",
      "61\n",
      "it's time for retirement\n"
     ]
    }
   ],
   "source": [
    "joining_age = 23\n",
    "while joining_age <=60:\n",
    "    joining_age = joining_age +1\n",
    "    print(joining_age)\n",
    "else:\n",
    "    print(\"it's time for retirement\")"
   ]
  },
  {
   "cell_type": "code",
   "execution_count": 95,
   "id": "2e2693b6",
   "metadata": {},
   "outputs": [
    {
     "name": "stdout",
     "output_type": "stream",
     "text": [
      "900\n",
      "800\n",
      "700\n",
      "600\n",
      "500\n",
      "400\n",
      "300\n",
      "200\n",
      "100\n",
      "0\n"
     ]
    }
   ],
   "source": [
    "atm =1000\n",
    "while atm !=0:\n",
    "    atm = atm-100\n",
    "    print(atm) # it is also printing 0\n"
   ]
  },
  {
   "cell_type": "code",
   "execution_count": 96,
   "id": "ea437b04",
   "metadata": {},
   "outputs": [
    {
     "name": "stdout",
     "output_type": "stream",
     "text": [
      "1000\n",
      "900\n",
      "800\n",
      "700\n",
      "600\n",
      "500\n",
      "400\n",
      "300\n",
      "200\n",
      "100\n"
     ]
    }
   ],
   "source": [
    "atm =1000\n",
    "while atm !=0:\n",
    "    print(atm)\n",
    "    atm = atm-100\n",
    "    "
   ]
  },
  {
   "cell_type": "code",
   "execution_count": 97,
   "id": "e3b999db",
   "metadata": {},
   "outputs": [
    {
     "name": "stdout",
     "output_type": "stream",
     "text": [
      "1000\n",
      "900\n",
      "800\n",
      "700\n",
      "600\n",
      "500\n",
      "400\n",
      "300\n",
      "200\n",
      "100\n",
      "paisa daalo bank waloo\n"
     ]
    }
   ],
   "source": [
    "atm =1000\n",
    "while atm !=0:\n",
    "    print(atm)\n",
    "    atm = atm-100\n",
    "else:\n",
    "    print(\"paisa daalo bank waloo\")"
   ]
  },
  {
   "cell_type": "markdown",
   "id": "a95111f8",
   "metadata": {},
   "source": [
    "# For loop "
   ]
  },
  {
   "cell_type": "markdown",
   "id": "567e6ce2",
   "metadata": {},
   "source": [
    "for loop will work iteration inside the containers or lists ..."
   ]
  },
  {
   "cell_type": "code",
   "execution_count": 101,
   "id": "0d5979ad",
   "metadata": {},
   "outputs": [
    {
     "name": "stdout",
     "output_type": "stream",
     "text": [
      "apple\n",
      "potato\n",
      "banana\n",
      "doctor\n",
      "toothbrush\n"
     ]
    }
   ],
   "source": [
    "basket = ['apple' , 'potato' , 'banana' , 'doctor' , 'toothbrush']\n",
    "for i in basket:\n",
    "    print(i) # i here is a loop variable "
   ]
  },
  {
   "cell_type": "code",
   "execution_count": 102,
   "id": "49a0387d",
   "metadata": {},
   "outputs": [
    {
     "name": "stdout",
     "output_type": "stream",
     "text": [
      "1\n",
      "2\n",
      "3\n",
      "krish\n",
      "mango\n",
      "banana\n",
      "kiwi\n",
      "32\n"
     ]
    }
   ],
   "source": [
    "lst = [1,2,3,'krish' , 'mango' , 'banana' , 'kiwi' , '32']\n",
    "for x in lst:\n",
    "    print(x)"
   ]
  },
  {
   "cell_type": "code",
   "execution_count": 103,
   "id": "e4f1e34e",
   "metadata": {},
   "outputs": [],
   "source": [
    "# iterate means move from one elemenet to another ..."
   ]
  },
  {
   "cell_type": "code",
   "execution_count": 105,
   "id": "818eb103",
   "metadata": {},
   "outputs": [
    {
     "name": "stdout",
     "output_type": "stream",
     "text": [
      "mango\n",
      "kiwi\n",
      "banana\n",
      "pineapple\n",
      "the fruit is pineapple\n",
      "apple\n"
     ]
    }
   ],
   "source": [
    "fruit_list = ['mango' , 'kiwi' , 'banana' , 'pineapple' , 'apple']\n",
    "for m in fruit_list:\n",
    "    print(m)\n",
    "    if m=='pineapple':\n",
    "        print(\"the fruit is pineapple\")"
   ]
  },
  {
   "cell_type": "code",
   "execution_count": 110,
   "id": "6d48f8d0",
   "metadata": {},
   "outputs": [
    {
     "name": "stdout",
     "output_type": "stream",
     "text": [
      "mango\n",
      "kiwi\n",
      "banana\n",
      "the fruit is banana\n",
      "pineapple\n",
      "apple\n"
     ]
    }
   ],
   "source": [
    "fruit_list = ['mango' , 'kiwi' , 'banana' , 'pineapple' , 'apple']\n",
    "for m in fruit_list:\n",
    "    print(m)\n",
    "    while m == 'banana':\n",
    "        print('the fruit is banana')\n",
    "        \n",
    "        break"
   ]
  },
  {
   "cell_type": "code",
   "execution_count": 111,
   "id": "111a2be3",
   "metadata": {},
   "outputs": [
    {
     "name": "stdout",
     "output_type": "stream",
     "text": [
      "mango,kiwi,banana,pineapple,apple,"
     ]
    }
   ],
   "source": [
    "for i in fruit_list:\n",
    "    print(i,end=',') # by default end = '\\n'"
   ]
  },
  {
   "cell_type": "code",
   "execution_count": 113,
   "id": "6fb2176a",
   "metadata": {},
   "outputs": [
    {
     "name": "stdout",
     "output_type": "stream",
     "text": [
      "mango!kiwi!banana!pineapple!apple!"
     ]
    }
   ],
   "source": [
    "for i in fruit_list:\n",
    "    print(i,end='!')"
   ]
  },
  {
   "cell_type": "code",
   "execution_count": 116,
   "id": "12153cc8",
   "metadata": {},
   "outputs": [
    {
     "name": "stdout",
     "output_type": "stream",
     "text": [
      "m\n",
      "a\n",
      "n\n",
      "g\n",
      "o\n"
     ]
    }
   ],
   "source": [
    "fruit= 'mango'\n",
    "for x in fruit:\n",
    "    print(x) # string is also a list "
   ]
  },
  {
   "cell_type": "code",
   "execution_count": 117,
   "id": "a12956eb",
   "metadata": {},
   "outputs": [
    {
     "data": {
      "text/plain": [
       "'m'"
      ]
     },
     "execution_count": 117,
     "metadata": {},
     "output_type": "execute_result"
    }
   ],
   "source": [
    "fruit[0]"
   ]
  },
  {
   "cell_type": "code",
   "execution_count": 118,
   "id": "2246fdad",
   "metadata": {},
   "outputs": [
    {
     "data": {
      "text/plain": [
       "'n'"
      ]
     },
     "execution_count": 118,
     "metadata": {},
     "output_type": "execute_result"
    }
   ],
   "source": [
    "fruit[2]"
   ]
  },
  {
   "cell_type": "markdown",
   "id": "a287a9d8",
   "metadata": {},
   "source": [
    "### 4.2.3 Nested Loops\n",
    "\n",
    "   * Nested loops is used to create one and more number of loop inside an existing `for` or `while` loop.\n",
    "   \n",
    "**Examples**"
   ]
  },
  {
   "cell_type": "code",
   "execution_count": 119,
   "id": "b22d0fb4",
   "metadata": {},
   "outputs": [
    {
     "data": {
      "text/plain": [
       "range(1, 3)"
      ]
     },
     "execution_count": 119,
     "metadata": {},
     "output_type": "execute_result"
    }
   ],
   "source": [
    "range(1,3)"
   ]
  },
  {
   "cell_type": "code",
   "execution_count": 120,
   "id": "bbba46ba",
   "metadata": {},
   "outputs": [
    {
     "data": {
      "text/plain": [
       "range(0, 7)"
      ]
     },
     "execution_count": 120,
     "metadata": {},
     "output_type": "execute_result"
    }
   ],
   "source": [
    "range(7)"
   ]
  },
  {
   "cell_type": "code",
   "execution_count": 121,
   "id": "60c2d905",
   "metadata": {},
   "outputs": [
    {
     "name": "stdout",
     "output_type": "stream",
     "text": [
      "range(0, 7)\n"
     ]
    }
   ],
   "source": [
    "print(range(0,7))"
   ]
  },
  {
   "cell_type": "code",
   "execution_count": 122,
   "id": "8eb25caf",
   "metadata": {},
   "outputs": [
    {
     "data": {
      "text/plain": [
       "range(0, 7)"
      ]
     },
     "execution_count": 122,
     "metadata": {},
     "output_type": "execute_result"
    }
   ],
   "source": [
    "range(7)"
   ]
  },
  {
   "cell_type": "code",
   "execution_count": 123,
   "id": "b94aea60",
   "metadata": {},
   "outputs": [
    {
     "name": "stdout",
     "output_type": "stream",
     "text": [
      "range(0, 7)\n"
     ]
    }
   ],
   "source": [
    "print(range(7))"
   ]
  },
  {
   "cell_type": "code",
   "execution_count": 124,
   "id": "91da52db",
   "metadata": {},
   "outputs": [
    {
     "name": "stdout",
     "output_type": "stream",
     "text": [
      "range(0, 7, 2)\n"
     ]
    }
   ],
   "source": [
    "print(range(0,7,2))"
   ]
  },
  {
   "cell_type": "code",
   "execution_count": 127,
   "id": "da3ab641",
   "metadata": {},
   "outputs": [
    {
     "name": "stdout",
     "output_type": "stream",
     "text": [
      "0\n",
      "2\n",
      "4\n",
      "6\n"
     ]
    }
   ],
   "source": [
    "for i in  range(0,7,2):\n",
    "    print(i)"
   ]
  },
  {
   "cell_type": "code",
   "execution_count": 130,
   "id": "2f6d3da3",
   "metadata": {},
   "outputs": [
    {
     "name": "stdout",
     "output_type": "stream",
     "text": [
      "0\n",
      "1\n",
      "2\n",
      "3\n",
      "4\n",
      "5\n",
      "6\n"
     ]
    }
   ],
   "source": [
    "for  i in range(0,7):\n",
    "    print(i) #exclude the last one "
   ]
  },
  {
   "cell_type": "code",
   "execution_count": 135,
   "id": "734233fd",
   "metadata": {},
   "outputs": [
    {
     "name": "stdout",
     "output_type": "stream",
     "text": [
      "*\r\n",
      "**\r\n",
      "***\r\n",
      "****\r\n",
      "*****\r\n",
      "******\r\n",
      "*******\r\n"
     ]
    }
   ],
   "source": [
    "n = 7\n",
    "for i in range(0,n):\n",
    "    for j in range(0,i+1):\n",
    "        print(\"*\" , end=\"\")\n",
    "    print(\"\\r\")\n",
    "        "
   ]
  },
  {
   "cell_type": "code",
   "execution_count": 133,
   "id": "8ff708ae",
   "metadata": {},
   "outputs": [
    {
     "name": "stdout",
     "output_type": "stream",
     "text": [
      "0\n"
     ]
    }
   ],
   "source": [
    "for i in range(0,1):\n",
    "    print(i) # instead of 0 we have replace it with star"
   ]
  },
  {
   "cell_type": "code",
   "execution_count": 134,
   "id": "1795c11a",
   "metadata": {},
   "outputs": [
    {
     "name": "stdout",
     "output_type": "stream",
     "text": [
      "0\n",
      "1\n"
     ]
    }
   ],
   "source": [
    "for i in range(0,2):\n",
    "    print(i) # it will print 0 and 1 and both replace with two stars , and end = '' will put the * combine\n",
    "    # in the same way all the stars are coming together "
   ]
  },
  {
   "cell_type": "code",
   "execution_count": 136,
   "id": "3aeef51f",
   "metadata": {},
   "outputs": [],
   "source": [
    "# \\r is used for crriage return"
   ]
  },
  {
   "cell_type": "code",
   "execution_count": 137,
   "id": "59a974e7",
   "metadata": {},
   "outputs": [
    {
     "name": "stdout",
     "output_type": "stream",
     "text": [
      "*\n",
      "\n",
      "**\n",
      "\n",
      "***\n",
      "\n",
      "****\n",
      "\n",
      "*****\n",
      "\n",
      "******\n",
      "\n",
      "*******\n",
      "\n"
     ]
    }
   ],
   "source": [
    "n = 7\n",
    "for i in range(0,n):\n",
    "    for j in range(0,i+1):\n",
    "        print(\"*\" , end=\"\")\n",
    "    print(\"\\n\")"
   ]
  },
  {
   "cell_type": "code",
   "execution_count": 138,
   "id": "d02d4453",
   "metadata": {},
   "outputs": [
    {
     "name": "stdout",
     "output_type": "stream",
     "text": [
      "* \r\n",
      "* * \r\n",
      "* * * \r\n",
      "* * * * \r\n",
      "* * * * * \r\n",
      "* * * * * * \r\n",
      "* * * * * * * \r\n"
     ]
    }
   ],
   "source": [
    "'''Here we use nested for loop to create a triangle'''\n",
    "\n",
    "n=7 #n is length and width of triangle\n",
    "for i in range(0, n): #loop to handle the rows \n",
    "\n",
    "    for j in range(0, i+1): #loop to handle the columns \n",
    "\n",
    "        print(\"* \",end=\"\") #printing the stars \n",
    "\n",
    "    print(\"\\r\") #after each row line will end"
   ]
  },
  {
   "cell_type": "code",
   "execution_count": 139,
   "id": "5f867b34",
   "metadata": {},
   "outputs": [
    {
     "ename": "KeyboardInterrupt",
     "evalue": "Interrupted by user",
     "output_type": "error",
     "traceback": [
      "\u001b[1;31m---------------------------------------------------------------------------\u001b[0m",
      "\u001b[1;31mKeyboardInterrupt\u001b[0m                         Traceback (most recent call last)",
      "\u001b[1;32m~\\AppData\\Local\\Temp\\ipykernel_15716\\571947333.py\u001b[0m in \u001b[0;36m<module>\u001b[1;34m\u001b[0m\n\u001b[0;32m      2\u001b[0m create a pyramid like structure'''\n\u001b[0;32m      3\u001b[0m \u001b[1;33m\u001b[0m\u001b[0m\n\u001b[1;32m----> 4\u001b[1;33m \u001b[0mnum_rows\u001b[0m \u001b[1;33m=\u001b[0m \u001b[0mint\u001b[0m\u001b[1;33m(\u001b[0m\u001b[0minput\u001b[0m\u001b[1;33m(\u001b[0m\u001b[1;34m\"Enter the number of rows: \"\u001b[0m\u001b[1;33m)\u001b[0m\u001b[1;33m)\u001b[0m\u001b[1;33m\u001b[0m\u001b[1;33m\u001b[0m\u001b[0m\n\u001b[0m\u001b[0;32m      5\u001b[0m \u001b[0mrow\u001b[0m \u001b[1;33m=\u001b[0m \u001b[1;36m0\u001b[0m \u001b[1;31m#row intialize\u001b[0m\u001b[1;33m\u001b[0m\u001b[1;33m\u001b[0m\u001b[0m\n\u001b[0;32m      6\u001b[0m \u001b[1;32mwhile\u001b[0m\u001b[1;33m(\u001b[0m\u001b[0mrow\u001b[0m \u001b[1;33m<\u001b[0m \u001b[0mnum_rows\u001b[0m\u001b[1;33m)\u001b[0m\u001b[1;33m:\u001b[0m\u001b[1;33m\u001b[0m\u001b[1;33m\u001b[0m\u001b[0m\n",
      "\u001b[1;32m~\\anaconda3\\lib\\site-packages\\ipykernel\\kernelbase.py\u001b[0m in \u001b[0;36mraw_input\u001b[1;34m(self, prompt)\u001b[0m\n\u001b[0;32m   1175\u001b[0m                 \u001b[1;34m\"raw_input was called, but this frontend does not support input requests.\"\u001b[0m\u001b[1;33m\u001b[0m\u001b[1;33m\u001b[0m\u001b[0m\n\u001b[0;32m   1176\u001b[0m             )\n\u001b[1;32m-> 1177\u001b[1;33m         return self._input_request(\n\u001b[0m\u001b[0;32m   1178\u001b[0m             \u001b[0mstr\u001b[0m\u001b[1;33m(\u001b[0m\u001b[0mprompt\u001b[0m\u001b[1;33m)\u001b[0m\u001b[1;33m,\u001b[0m\u001b[1;33m\u001b[0m\u001b[1;33m\u001b[0m\u001b[0m\n\u001b[0;32m   1179\u001b[0m             \u001b[0mself\u001b[0m\u001b[1;33m.\u001b[0m\u001b[0m_parent_ident\u001b[0m\u001b[1;33m[\u001b[0m\u001b[1;34m\"shell\"\u001b[0m\u001b[1;33m]\u001b[0m\u001b[1;33m,\u001b[0m\u001b[1;33m\u001b[0m\u001b[1;33m\u001b[0m\u001b[0m\n",
      "\u001b[1;32m~\\anaconda3\\lib\\site-packages\\ipykernel\\kernelbase.py\u001b[0m in \u001b[0;36m_input_request\u001b[1;34m(self, prompt, ident, parent, password)\u001b[0m\n\u001b[0;32m   1217\u001b[0m             \u001b[1;32mexcept\u001b[0m \u001b[0mKeyboardInterrupt\u001b[0m\u001b[1;33m:\u001b[0m\u001b[1;33m\u001b[0m\u001b[1;33m\u001b[0m\u001b[0m\n\u001b[0;32m   1218\u001b[0m                 \u001b[1;31m# re-raise KeyboardInterrupt, to truncate traceback\u001b[0m\u001b[1;33m\u001b[0m\u001b[1;33m\u001b[0m\u001b[0m\n\u001b[1;32m-> 1219\u001b[1;33m                 \u001b[1;32mraise\u001b[0m \u001b[0mKeyboardInterrupt\u001b[0m\u001b[1;33m(\u001b[0m\u001b[1;34m\"Interrupted by user\"\u001b[0m\u001b[1;33m)\u001b[0m \u001b[1;32mfrom\u001b[0m \u001b[1;32mNone\u001b[0m\u001b[1;33m\u001b[0m\u001b[1;33m\u001b[0m\u001b[0m\n\u001b[0m\u001b[0;32m   1220\u001b[0m             \u001b[1;32mexcept\u001b[0m \u001b[0mException\u001b[0m\u001b[1;33m:\u001b[0m\u001b[1;33m\u001b[0m\u001b[1;33m\u001b[0m\u001b[0m\n\u001b[0;32m   1221\u001b[0m                 \u001b[0mself\u001b[0m\u001b[1;33m.\u001b[0m\u001b[0mlog\u001b[0m\u001b[1;33m.\u001b[0m\u001b[0mwarning\u001b[0m\u001b[1;33m(\u001b[0m\u001b[1;34m\"Invalid Message:\"\u001b[0m\u001b[1;33m,\u001b[0m \u001b[0mexc_info\u001b[0m\u001b[1;33m=\u001b[0m\u001b[1;32mTrue\u001b[0m\u001b[1;33m)\u001b[0m\u001b[1;33m\u001b[0m\u001b[1;33m\u001b[0m\u001b[0m\n",
      "\u001b[1;31mKeyboardInterrupt\u001b[0m: Interrupted by user"
     ]
    }
   ],
   "source": [
    "''' This exaple shows the use of nested while loop to\n",
    "create a pyramid like structure'''\n",
    "\n",
    "num_rows = int(input(\"Enter the number of rows: \"))\n",
    "row = 0 #row intialize\n",
    "while(row < num_rows):\n",
    "    row += 1 #Rows count increase\n",
    "    s = num_rows - row #Spaces\n",
    "\n",
    "    sc = 0 #Space counter intialize\n",
    "    while(sc < s):\n",
    "        print(\" \", end='')\n",
    "        sc += 1\n",
    "\n",
    "    stars = 2*row-1 #Number of stars\n",
    "    while(stars > 0):\n",
    "        print(\"*\", end='')\n",
    "        stars -= 1\n",
    "\n",
    "    print()"
   ]
  },
  {
   "cell_type": "markdown",
   "id": "8d2c84f2",
   "metadata": {},
   "source": [
    "### 4.2.4 Loop Control\n",
    "The loop control is used to change its preceding sequence to different form.\n",
    "\n",
    "**break statement -** This statement used for a premature terminates of current loop immediately and executes the further statement, just like `break` statement in `C` language.\n",
    "\n",
    "**continue statement -** When `continue` statement is encountered during an iteration, it directly goes to next iteration without performing remaining statements in present iteration. It returns execution to the starting point of current loop and start further iteration.\n",
    "\n",
    "   >**Note:** `break` and `continue` can be used in both `while` and `for` loop.\n",
    "\n",
    "**pass statement -** The `pass` statement is considered as a `null` operation. It is useful when a code (i.e., code required in future) has not written till now, but your code will go eventually.\n"
   ]
  },
  {
   "cell_type": "markdown",
   "id": "f7ef76dc",
   "metadata": {},
   "source": [
    "#### Break statement\n",
    "**Examples**"
   ]
  },
  {
   "cell_type": "code",
   "execution_count": 140,
   "id": "7a001b92",
   "metadata": {},
   "outputs": [
    {
     "name": "stdout",
     "output_type": "stream",
     "text": [
      "1\n",
      "2\n",
      "3\n",
      "4\n"
     ]
    }
   ],
   "source": [
    "'''It is a simple example of break, \n",
    "where it immediatly terminate an operation of \n",
    "statement body when x is equal to 4'''\n",
    "\n",
    "x = 1\n",
    "while x < 7:\n",
    "    print(x)\n",
    "    if x == 4:\n",
    "        break\n",
    "    x += 1"
   ]
  },
  {
   "cell_type": "code",
   "execution_count": 141,
   "id": "f2a97ca7",
   "metadata": {},
   "outputs": [
    {
     "name": "stdout",
     "output_type": "stream",
     "text": [
      "Mango\n",
      "Cherry\n",
      "Apple\n"
     ]
    }
   ],
   "source": [
    "'''Here it terminates the \n",
    "operational body when fruit name is Papaya'''\n",
    "\n",
    "fruits_list = [\"Mango\",\"Cherry\",\"Apple\",\"Papaya\",\"Banana\"] ## List containing friuts name\n",
    "for x in fruits_list:\n",
    "    if x == \"Papaya\":\n",
    "        break\n",
    "    print(x)\n",
    "    "
   ]
  },
  {
   "cell_type": "markdown",
   "id": "ba5bd05b",
   "metadata": {},
   "source": [
    "#### Continue statement\n",
    "**Examples**"
   ]
  },
  {
   "cell_type": "code",
   "execution_count": 142,
   "id": "b01ec108",
   "metadata": {},
   "outputs": [
    {
     "name": "stdout",
     "output_type": "stream",
     "text": [
      "1\n",
      "2\n",
      "3\n",
      "5\n",
      "6\n",
      "7\n"
     ]
    }
   ],
   "source": [
    "'''It is a simple example of continue, \n",
    "where it simply terminate an current iteration \n",
    "when x is equal to 4 and \n",
    "continues with next iteration'''\n",
    "\n",
    "x = 0\n",
    "while x < 7:\n",
    "    x += 1\n",
    "    if x == 4:\n",
    "        continue\n",
    "    print(x)"
   ]
  },
  {
   "cell_type": "code",
   "execution_count": 143,
   "id": "395bdd21",
   "metadata": {},
   "outputs": [
    {
     "name": "stdout",
     "output_type": "stream",
     "text": [
      "Mango\n",
      "Cherry\n",
      "Apple\n",
      "Banana\n"
     ]
    }
   ],
   "source": [
    "'''In this example it simply terminate \n",
    "an current iteration when fruit name is Papaya and \n",
    "continues with next iteration'''\n",
    "\n",
    "fruits_list = [\"Mango\",\"Cherry\",\"Apple\",\"Papaya\",\"Banana\"] ## List containing friuts name\n",
    "for x in fruits_list:\n",
    "    if x == \"Papaya\":\n",
    "        continue\n",
    "    print(x)"
   ]
  },
  {
   "cell_type": "markdown",
   "id": "1da13136",
   "metadata": {},
   "source": [
    "#### Pass statement\n",
    "**Examples**"
   ]
  },
  {
   "cell_type": "code",
   "execution_count": 144,
   "id": "544cda8f",
   "metadata": {},
   "outputs": [],
   "source": [
    "'''A simple example of pass, \n",
    "where it is not decided what to do with i'''\n",
    "\n",
    "for i in [10, 100, 200]:\n",
    "    pass"
   ]
  },
  {
   "cell_type": "code",
   "execution_count": 145,
   "id": "23d1c8d3",
   "metadata": {},
   "outputs": [
    {
     "ename": "IndentationError",
     "evalue": "expected an indented block (2344064802.py, line 4)",
     "output_type": "error",
     "traceback": [
      "\u001b[1;36m  File \u001b[1;32m\"C:\\Users\\Asus\\AppData\\Local\\Temp\\ipykernel_15716\\2344064802.py\"\u001b[1;36m, line \u001b[1;32m4\u001b[0m\n\u001b[1;33m    for i in [10, 100, 200]:\u001b[0m\n\u001b[1;37m                            ^\u001b[0m\n\u001b[1;31mIndentationError\u001b[0m\u001b[1;31m:\u001b[0m expected an indented block\n"
     ]
    }
   ],
   "source": [
    "'''Continuing with same above example \n",
    "if for loop body left simply, then it will throw an error'''\n",
    "\n",
    "for i in [10, 100, 200]:"
   ]
  },
  {
   "cell_type": "code",
   "execution_count": null,
   "id": "899fdac1",
   "metadata": {},
   "outputs": [],
   "source": []
  }
 ],
 "metadata": {
  "kernelspec": {
   "display_name": "Python 3 (ipykernel)",
   "language": "python",
   "name": "python3"
  },
  "language_info": {
   "codemirror_mode": {
    "name": "ipython",
    "version": 3
   },
   "file_extension": ".py",
   "mimetype": "text/x-python",
   "name": "python",
   "nbconvert_exporter": "python",
   "pygments_lexer": "ipython3",
   "version": "3.9.13"
  }
 },
 "nbformat": 4,
 "nbformat_minor": 5
}
