{
 "cells": [
  {
   "cell_type": "markdown",
   "id": "cf824dce",
   "metadata": {},
   "source": [
    "# Day-3 Python notes"
   ]
  },
  {
   "cell_type": "markdown",
   "id": "fd5357ef",
   "metadata": {},
   "source": [
    "## 4.1 Operators\n",
    "\n",
    "* Logical\n",
    "* Equality \n",
    "* Comparision\n",
    "* Arithmetic\n",
    "* Bitwise"
   ]
  },
  {
   "cell_type": "markdown",
   "id": "a8186805",
   "metadata": {},
   "source": [
    "## Logical Operators\n",
    "1. And\n",
    "2. or\n",
    "3. not"
   ]
  },
  {
   "cell_type": "markdown",
   "id": "25425cdc",
   "metadata": {},
   "source": [
    "we use logical operators in the comparison statement and the condition statement "
   ]
  },
  {
   "cell_type": "code",
   "execution_count": 1,
   "id": "27ef7095",
   "metadata": {},
   "outputs": [
    {
     "data": {
      "text/plain": [
       "True"
      ]
     },
     "execution_count": 1,
     "metadata": {},
     "output_type": "execute_result"
    }
   ],
   "source": [
    "True and True"
   ]
  },
  {
   "cell_type": "code",
   "execution_count": 2,
   "id": "a34498b1",
   "metadata": {},
   "outputs": [
    {
     "data": {
      "text/plain": [
       "True"
      ]
     },
     "execution_count": 2,
     "metadata": {},
     "output_type": "execute_result"
    }
   ],
   "source": [
    "True or False "
   ]
  },
  {
   "cell_type": "code",
   "execution_count": 3,
   "id": "943fe0b4",
   "metadata": {},
   "outputs": [
    {
     "data": {
      "text/plain": [
       "True"
      ]
     },
     "execution_count": 3,
     "metadata": {},
     "output_type": "execute_result"
    }
   ],
   "source": [
    "False or True"
   ]
  },
  {
   "cell_type": "code",
   "execution_count": 4,
   "id": "401f5ca6",
   "metadata": {},
   "outputs": [
    {
     "data": {
      "text/plain": [
       "False"
      ]
     },
     "execution_count": 4,
     "metadata": {},
     "output_type": "execute_result"
    }
   ],
   "source": [
    "False and True"
   ]
  },
  {
   "cell_type": "code",
   "execution_count": 5,
   "id": "f753750b",
   "metadata": {},
   "outputs": [
    {
     "data": {
      "text/plain": [
       "True"
      ]
     },
     "execution_count": 5,
     "metadata": {},
     "output_type": "execute_result"
    }
   ],
   "source": [
    "not False"
   ]
  },
  {
   "cell_type": "code",
   "execution_count": 6,
   "id": "fd49cd41",
   "metadata": {},
   "outputs": [
    {
     "data": {
      "text/plain": [
       "False"
      ]
     },
     "execution_count": 6,
     "metadata": {},
     "output_type": "execute_result"
    }
   ],
   "source": [
    "False and not True"
   ]
  },
  {
   "cell_type": "code",
   "execution_count": 7,
   "id": "da791b7f",
   "metadata": {},
   "outputs": [
    {
     "name": "stdout",
     "output_type": "stream",
     "text": [
      "Defined value of START = True\n",
      "Defined value of STOP = False \n",
      "\n",
      "Defined value of START = True\n",
      "Value of STOP by negating START= False \n",
      "\n",
      "Value of START by negating STOP = True\n",
      "Defined value of STOP = False \n",
      "\n"
     ]
    }
   ],
   "source": [
    "# Lets define two variables having boolean values True and False-\n",
    "START = True\n",
    "STOP = False\n",
    "\n",
    "# Print the values as it is\n",
    "print(f\"Defined value of START = {START}\")\n",
    "print(f\"Defined value of STOP = {STOP} \\n\")\n",
    "\n",
    "# if can also be written as - \n",
    "print(f\"Defined value of START = {START}\")\n",
    "print(f\"Value of STOP by negating START= {not START} \\n\")\n",
    "\n",
    "# alternatively -\n",
    "print(f\"Value of START by negating STOP = {not STOP}\")\n",
    "print(f\"Defined value of STOP = {STOP} \\n\")\n"
   ]
  },
  {
   "cell_type": "code",
   "execution_count": 8,
   "id": "3a7cd34f",
   "metadata": {},
   "outputs": [
    {
     "data": {
      "text/plain": [
       "True"
      ]
     },
     "execution_count": 8,
     "metadata": {},
     "output_type": "execute_result"
    }
   ],
   "source": [
    "not bool(0)"
   ]
  },
  {
   "cell_type": "code",
   "execution_count": 9,
   "id": "8fd294eb",
   "metadata": {},
   "outputs": [
    {
     "data": {
      "text/plain": [
       "True"
      ]
     },
     "execution_count": 9,
     "metadata": {},
     "output_type": "execute_result"
    }
   ],
   "source": [
    "not int(bool(0))"
   ]
  },
  {
   "cell_type": "code",
   "execution_count": 10,
   "id": "f2116c53",
   "metadata": {},
   "outputs": [
    {
     "data": {
      "text/plain": [
       "0"
      ]
     },
     "execution_count": 10,
     "metadata": {},
     "output_type": "execute_result"
    }
   ],
   "source": [
    "int(bool(0))"
   ]
  },
  {
   "cell_type": "code",
   "execution_count": 11,
   "id": "c98d7956",
   "metadata": {},
   "outputs": [
    {
     "data": {
      "text/plain": [
       "True"
      ]
     },
     "execution_count": 11,
     "metadata": {},
     "output_type": "execute_result"
    }
   ],
   "source": [
    "not 0"
   ]
  },
  {
   "cell_type": "code",
   "execution_count": 13,
   "id": "214cdf08",
   "metadata": {},
   "outputs": [
    {
     "data": {
      "text/plain": [
       "False"
      ]
     },
     "execution_count": 13,
     "metadata": {},
     "output_type": "execute_result"
    }
   ],
   "source": [
    "not 1"
   ]
  },
  {
   "cell_type": "code",
   "execution_count": 14,
   "id": "3979eded",
   "metadata": {},
   "outputs": [
    {
     "name": "stdout",
     "output_type": "stream",
     "text": [
      "Defined value of START = 1\n",
      "Defined value of STOP = 0 \n",
      "\n",
      "Defined value of START = 1\n",
      "Value of STOP by negating START= 0 \n",
      "\n",
      "Value of START by negating STOP = 1\n",
      "Defined value of STOP = 0 \n",
      "\n"
     ]
    }
   ],
   "source": [
    "START = 1\n",
    "STOP = 0\n",
    "\n",
    "# Print the values as it is\n",
    "print(f\"Defined value of START = {START}\")\n",
    "print(f\"Defined value of STOP = {STOP} \\n\")\n",
    "\n",
    "# if can also be written as - \n",
    "print(f\"Defined value of START = {START}\")\n",
    "print(f\"Value of STOP by negating START= {int(not START)} \\n\")\n",
    "\n",
    "# alternatively -\n",
    "print(f\"Value of START by negating STOP = {int(not STOP)}\")\n",
    "print(f\"Defined value of STOP = {STOP} \\n\")"
   ]
  },
  {
   "cell_type": "code",
   "execution_count": 15,
   "id": "dee4d636",
   "metadata": {},
   "outputs": [
    {
     "data": {
      "text/plain": [
       "False"
      ]
     },
     "execution_count": 15,
     "metadata": {},
     "output_type": "execute_result"
    }
   ],
   "source": [
    "not 2  # any number other than 0 will be considered as True only ."
   ]
  },
  {
   "cell_type": "code",
   "execution_count": 16,
   "id": "9dd61845",
   "metadata": {},
   "outputs": [
    {
     "data": {
      "text/plain": [
       "False"
      ]
     },
     "execution_count": 16,
     "metadata": {},
     "output_type": "execute_result"
    }
   ],
   "source": [
    "not -1# neg no will also be considered as TRue"
   ]
  },
  {
   "cell_type": "code",
   "execution_count": 17,
   "id": "668b93bf",
   "metadata": {},
   "outputs": [
    {
     "name": "stdout",
     "output_type": "stream",
     "text": [
      "boolean value of no. 0 is False\n",
      "boolean value of no. 1 is True\n",
      "negation of 0 is True and negation of 1 is False\n",
      "\n",
      "#------------------------#\n",
      "\n"
     ]
    }
   ],
   "source": [
    "zero = 0\n",
    "one = 1\n",
    "\n",
    "print(f\"boolean value of no. {zero} is {bool(zero)}\")\n",
    "print(f\"boolean value of no. {one} is {bool(one)}\")\n",
    "print(f\"negation of {zero} is {not zero} and negation of {one} is {not one}\")\n",
    "print(\"\\n#------------------------#\\n\")"
   ]
  },
  {
   "cell_type": "code",
   "execution_count": 18,
   "id": "3fdf426c",
   "metadata": {},
   "outputs": [
    {
     "name": "stdout",
     "output_type": "stream",
     "text": [
      "boolean value of no. -5 is True\n",
      "boolean value of no. 5 is True\n",
      "negation of -5 is False and negation of 5 is False\n",
      "\n",
      "#------------------------#\n",
      "\n"
     ]
    }
   ],
   "source": [
    "Some_negative_integer = -5\n",
    "Some_positive_integer = 5\n",
    "\n",
    "print(f\"boolean value of no. {Some_negative_integer} is {bool(Some_negative_integer)}\")\n",
    "print(f\"boolean value of no. {Some_positive_integer} is {bool(Some_positive_integer)}\")\n",
    "print(f\"negation of {Some_negative_integer} is {not Some_negative_integer} \\\n",
    "and negation of {Some_positive_integer} is {not Some_positive_integer}\")\n",
    "\n",
    "print(\"\\n#------------------------#\\n\")"
   ]
  },
  {
   "cell_type": "code",
   "execution_count": 19,
   "id": "be6da926",
   "metadata": {},
   "outputs": [
    {
     "name": "stdout",
     "output_type": "stream",
     "text": [
      "boolean value of no. -5.99 is True\n",
      "boolean value of no. 5.6 is True\n",
      "negation of -5.99 is False and negation of 5.6 is False\n"
     ]
    }
   ],
   "source": [
    "Some_negative_float = -5.99\n",
    "Some_positive_float = 5.6\n",
    "\n",
    "print(f\"boolean value of no. {Some_negative_float} is {bool(Some_negative_float)}\")\n",
    "print(f\"boolean value of no. {Some_positive_float} is {bool(Some_positive_float)}\")\n",
    "print(f\"negation of {Some_negative_float} is {not Some_negative_float} \\\n",
    "and negation of {Some_positive_float} is {not Some_positive_float}\")"
   ]
  },
  {
   "cell_type": "markdown",
   "id": "c7b6c2cc",
   "metadata": {},
   "source": [
    "# logical and "
   ]
  },
  {
   "cell_type": "code",
   "execution_count": 20,
   "id": "1c7a5486",
   "metadata": {},
   "outputs": [
    {
     "name": "stdout",
     "output_type": "stream",
     "text": [
      "Dish contains VEGETABLES: True\n",
      "Dish contains SALT: False\n",
      "Hence dish prepared was good: False\n",
      "\n"
     ]
    }
   ],
   "source": [
    "VEGETABLES = True\n",
    "SALT = False\n",
    "DISH = VEGETABLES and SALT\n",
    "\n",
    "print(f\"Dish contains VEGETABLES: {VEGETABLES}\")\n",
    "print(f\"Dish contains SALT: {SALT}\")\n",
    "print(f\"Hence dish prepared was good: {DISH}\\n\")"
   ]
  },
  {
   "cell_type": "code",
   "execution_count": 21,
   "id": "7865325e",
   "metadata": {},
   "outputs": [
    {
     "data": {
      "text/plain": [
       "0"
      ]
     },
     "execution_count": 21,
     "metadata": {},
     "output_type": "execute_result"
    }
   ],
   "source": [
    "True * False"
   ]
  },
  {
   "cell_type": "code",
   "execution_count": 22,
   "id": "3283dfd1",
   "metadata": {},
   "outputs": [
    {
     "data": {
      "text/plain": [
       "0"
      ]
     },
     "execution_count": 22,
     "metadata": {},
     "output_type": "execute_result"
    }
   ],
   "source": [
    "False * True"
   ]
  },
  {
   "cell_type": "code",
   "execution_count": 23,
   "id": "bb495adc",
   "metadata": {},
   "outputs": [
    {
     "data": {
      "text/plain": [
       "1"
      ]
     },
     "execution_count": 23,
     "metadata": {},
     "output_type": "execute_result"
    }
   ],
   "source": [
    "True * True"
   ]
  },
  {
   "cell_type": "code",
   "execution_count": 26,
   "id": "2f327779",
   "metadata": {},
   "outputs": [
    {
     "data": {
      "text/plain": [
       "True"
      ]
     },
     "execution_count": 26,
     "metadata": {},
     "output_type": "execute_result"
    }
   ],
   "source": [
    "not(False) *  True # bodmas rule is applied here first the multiplication of False and True will happen = 0 and then not 0 =True"
   ]
  },
  {
   "cell_type": "code",
   "execution_count": 27,
   "id": "e7761420",
   "metadata": {},
   "outputs": [
    {
     "data": {
      "text/plain": [
       "0"
      ]
     },
     "execution_count": 27,
     "metadata": {},
     "output_type": "execute_result"
    }
   ],
   "source": [
    "False * (not(False))"
   ]
  },
  {
   "cell_type": "code",
   "execution_count": 30,
   "id": "d0807452",
   "metadata": {},
   "outputs": [
    {
     "data": {
      "text/plain": [
       "1"
      ]
     },
     "execution_count": 30,
     "metadata": {},
     "output_type": "execute_result"
    }
   ],
   "source": [
    "(not(False)) * True # here first internally bracket work (not(False)) = True , then True * True = 1"
   ]
  },
  {
   "cell_type": "code",
   "execution_count": 29,
   "id": "4f825a00",
   "metadata": {},
   "outputs": [
    {
     "ename": "SyntaxError",
     "evalue": "invalid syntax (930031231.py, line 1)",
     "output_type": "error",
     "traceback": [
      "\u001b[1;36m  File \u001b[1;32m\"C:\\Users\\Asus\\AppData\\Local\\Temp\\ipykernel_8104\\930031231.py\"\u001b[1;36m, line \u001b[1;32m1\u001b[0m\n\u001b[1;33m    False * not(False)\u001b[0m\n\u001b[1;37m            ^\u001b[0m\n\u001b[1;31mSyntaxError\u001b[0m\u001b[1;31m:\u001b[0m invalid syntax\n"
     ]
    }
   ],
   "source": [
    "False * not(False) # not working "
   ]
  },
  {
   "cell_type": "code",
   "execution_count": 31,
   "id": "1878e1ab",
   "metadata": {},
   "outputs": [
    {
     "data": {
      "text/plain": [
       "True"
      ]
     },
     "execution_count": 31,
     "metadata": {},
     "output_type": "execute_result"
    }
   ],
   "source": [
    "not(True) * False # True * False = 0 and not 0 = True"
   ]
  },
  {
   "cell_type": "code",
   "execution_count": 34,
   "id": "d7cce2f2",
   "metadata": {},
   "outputs": [
    {
     "data": {
      "text/plain": [
       "True"
      ]
     },
     "execution_count": 34,
     "metadata": {},
     "output_type": "execute_result"
    }
   ],
   "source": [
    " # if we remove the bracket it will work as\n",
    "not True * False # thats why first mul b/w True and False will happen then not will be applied "
   ]
  },
  {
   "cell_type": "code",
   "execution_count": 33,
   "id": "6f0da6a2",
   "metadata": {},
   "outputs": [
    {
     "data": {
      "text/plain": [
       "0"
      ]
     },
     "execution_count": 33,
     "metadata": {},
     "output_type": "execute_result"
    }
   ],
   "source": [
    "(not(True)) * True # first precedence operation (bodmas) (not(True)) = False , false * True = 0"
   ]
  },
  {
   "cell_type": "code",
   "execution_count": 36,
   "id": "a769944d",
   "metadata": {},
   "outputs": [
    {
     "data": {
      "text/plain": [
       "True"
      ]
     },
     "execution_count": 36,
     "metadata": {},
     "output_type": "execute_result"
    }
   ],
   "source": [
    "not(False) * False  == True"
   ]
  },
  {
   "cell_type": "code",
   "execution_count": 37,
   "id": "6336e4ab",
   "metadata": {},
   "outputs": [],
   "source": [
    "#  not(False ) will be considered as not False "
   ]
  },
  {
   "cell_type": "code",
   "execution_count": 38,
   "id": "8006e27e",
   "metadata": {},
   "outputs": [],
   "source": [
    "lst = [1,2,3,5,6,6]"
   ]
  },
  {
   "cell_type": "code",
   "execution_count": 39,
   "id": "85d2c3d4",
   "metadata": {},
   "outputs": [],
   "source": [
    "lst_a = [1,2,3,4]\n",
    "lst_b=[1,2,3,4]"
   ]
  },
  {
   "cell_type": "code",
   "execution_count": 40,
   "id": "9e28f4aa",
   "metadata": {},
   "outputs": [
    {
     "data": {
      "text/plain": [
       "True"
      ]
     },
     "execution_count": 40,
     "metadata": {},
     "output_type": "execute_result"
    }
   ],
   "source": [
    "lst_a == lst_b"
   ]
  },
  {
   "cell_type": "markdown",
   "id": "f3ea397c",
   "metadata": {},
   "source": [
    "### 4.1.2 Equality Operators\n",
    "\n",
    "Following operations are present in python for equlity check operation-\n",
    "\n",
    "|Operators|Meaning|\n",
    "|-|-|\n",
    "|**is**|***a is b*** returns true if variable/identifiers a and b *points* to the *same object*|\n",
    "|**is not**|***a is not b*** returns true if variable/identifiers a and b *points* to the *different object*|\n",
    "|**==**|***a == b*** returns true if variable/identifiers a and b has same value|\n",
    "|**!=**|***a != b*** returns true if variable/identifiers a and b has different value|"
   ]
  },
  {
   "cell_type": "code",
   "execution_count": 41,
   "id": "ade911e2",
   "metadata": {},
   "outputs": [
    {
     "data": {
      "text/plain": [
       "False"
      ]
     },
     "execution_count": 41,
     "metadata": {},
     "output_type": "execute_result"
    }
   ],
   "source": [
    "lst_a is lst_b  # it will only become True if the id or memory of both will be same ...."
   ]
  },
  {
   "cell_type": "code",
   "execution_count": 42,
   "id": "390d3335",
   "metadata": {},
   "outputs": [
    {
     "data": {
      "text/plain": [
       "True"
      ]
     },
     "execution_count": 42,
     "metadata": {},
     "output_type": "execute_result"
    }
   ],
   "source": [
    "lst_a is not lst_b"
   ]
  },
  {
   "cell_type": "code",
   "execution_count": 43,
   "id": "a7d31660",
   "metadata": {},
   "outputs": [
    {
     "data": {
      "text/plain": [
       "1713214502464"
      ]
     },
     "execution_count": 43,
     "metadata": {},
     "output_type": "execute_result"
    }
   ],
   "source": [
    "id(lst_a)"
   ]
  },
  {
   "cell_type": "code",
   "execution_count": 44,
   "id": "d913f2c2",
   "metadata": {},
   "outputs": [
    {
     "data": {
      "text/plain": [
       "1713214659584"
      ]
     },
     "execution_count": 44,
     "metadata": {},
     "output_type": "execute_result"
    }
   ],
   "source": [
    "id(lst_b)"
   ]
  },
  {
   "cell_type": "code",
   "execution_count": 45,
   "id": "98d51da5",
   "metadata": {},
   "outputs": [],
   "source": [
    " # both have different memory adress "
   ]
  },
  {
   "cell_type": "code",
   "execution_count": 46,
   "id": "8c5de07b",
   "metadata": {},
   "outputs": [
    {
     "data": {
      "text/plain": [
       "True"
      ]
     },
     "execution_count": 46,
     "metadata": {},
     "output_type": "execute_result"
    }
   ],
   "source": [
    "lst_a == lst_b # elements are same  # it checks the values inside the variable "
   ]
  },
  {
   "cell_type": "code",
   "execution_count": 47,
   "id": "5ec51cba",
   "metadata": {},
   "outputs": [
    {
     "data": {
      "text/plain": [
       "False"
      ]
     },
     "execution_count": 47,
     "metadata": {},
     "output_type": "execute_result"
    }
   ],
   "source": [
    "lst_a != lst_b # elements are same"
   ]
  },
  {
   "cell_type": "code",
   "execution_count": 49,
   "id": "640ecda3",
   "metadata": {},
   "outputs": [
    {
     "name": "stdout",
     "output_type": "stream",
     "text": [
      "1713214502464\n",
      "1713214659584\n"
     ]
    }
   ],
   "source": [
    "print(id(lst_a))\n",
    "print(id(lst_b))"
   ]
  },
  {
   "cell_type": "code",
   "execution_count": 51,
   "id": "c8636993",
   "metadata": {},
   "outputs": [
    {
     "name": "stdout",
     "output_type": "stream",
     "text": [
      "1713130924368\n",
      "1713130924368\n"
     ]
    }
   ],
   "source": [
    "a=2\n",
    "b=2\n",
    "print(id(a))\n",
    "print(id(b))"
   ]
  },
  {
   "cell_type": "code",
   "execution_count": 52,
   "id": "02098c19",
   "metadata": {},
   "outputs": [],
   "source": [
    "# why the above id are same in this statement "
   ]
  },
  {
   "cell_type": "code",
   "execution_count": 53,
   "id": "b4695c22",
   "metadata": {},
   "outputs": [
    {
     "name": "stdout",
     "output_type": "stream",
     "text": [
      "1713214843248\n",
      "1713214843248\n"
     ]
    }
   ],
   "source": [
    "str1='rohan'\n",
    "str2='rohan'\n",
    "print(id(str1))\n",
    "print(id(str2))"
   ]
  },
  {
   "cell_type": "code",
   "execution_count": 54,
   "id": "29436b70",
   "metadata": {},
   "outputs": [
    {
     "name": "stdout",
     "output_type": "stream",
     "text": [
      "1713214843248\n",
      "1713214841136\n"
     ]
    }
   ],
   "source": [
    "str1='rohan'\n",
    "str2='rohan1'\n",
    "print(id(str1))\n",
    "print(id(str2))"
   ]
  },
  {
   "cell_type": "code",
   "execution_count": 56,
   "id": "52c95b04",
   "metadata": {},
   "outputs": [
    {
     "data": {
      "text/plain": [
       "1"
      ]
     },
     "execution_count": 56,
     "metadata": {},
     "output_type": "execute_result"
    }
   ],
   "source": [
    "lst_a[0]"
   ]
  },
  {
   "cell_type": "code",
   "execution_count": 57,
   "id": "fa221f80",
   "metadata": {},
   "outputs": [],
   "source": [
    "lst_a[0] = 10"
   ]
  },
  {
   "cell_type": "code",
   "execution_count": 58,
   "id": "6b6ee447",
   "metadata": {},
   "outputs": [
    {
     "data": {
      "text/plain": [
       "[10, 2, 3, 4]"
      ]
     },
     "execution_count": 58,
     "metadata": {},
     "output_type": "execute_result"
    }
   ],
   "source": [
    "lst_a "
   ]
  },
  {
   "cell_type": "code",
   "execution_count": 59,
   "id": "f5c5155c",
   "metadata": {},
   "outputs": [],
   "source": [
    "# so the id thing depends on mutublity if we can edit the list then the id of both the list are diff\n",
    "# but in the case of string string are immutable so the id of diff string holding the same data is same"
   ]
  },
  {
   "cell_type": "code",
   "execution_count": 60,
   "id": "bb9e2aec",
   "metadata": {},
   "outputs": [
    {
     "data": {
      "text/plain": [
       "'r'"
      ]
     },
     "execution_count": 60,
     "metadata": {},
     "output_type": "execute_result"
    }
   ],
   "source": [
    "str1[0]"
   ]
  },
  {
   "cell_type": "code",
   "execution_count": 62,
   "id": "c49553ef",
   "metadata": {},
   "outputs": [
    {
     "ename": "NameError",
     "evalue": "name 'm' is not defined",
     "output_type": "error",
     "traceback": [
      "\u001b[1;31m---------------------------------------------------------------------------\u001b[0m",
      "\u001b[1;31mNameError\u001b[0m                                 Traceback (most recent call last)",
      "\u001b[1;32m~\\AppData\\Local\\Temp\\ipykernel_8104\\3437680186.py\u001b[0m in \u001b[0;36m<module>\u001b[1;34m\u001b[0m\n\u001b[1;32m----> 1\u001b[1;33m \u001b[0mstr1\u001b[0m\u001b[1;33m[\u001b[0m\u001b[1;36m0\u001b[0m\u001b[1;33m]\u001b[0m \u001b[1;33m=\u001b[0m \u001b[0mm\u001b[0m \u001b[1;31m# this is the main reason ..\u001b[0m\u001b[1;33m\u001b[0m\u001b[1;33m\u001b[0m\u001b[0m\n\u001b[0m",
      "\u001b[1;31mNameError\u001b[0m: name 'm' is not defined"
     ]
    }
   ],
   "source": [
    "str1[0] = m # this is the main reason .."
   ]
  },
  {
   "cell_type": "code",
   "execution_count": 63,
   "id": "3cc4c540",
   "metadata": {},
   "outputs": [],
   "source": [
    "# in a basket we can change the different fruits but we can not replace a piece of apple with aother piece of apple ..."
   ]
  },
  {
   "cell_type": "markdown",
   "id": "63c4d58e",
   "metadata": {},
   "source": [
    "# Comparison operation "
   ]
  },
  {
   "cell_type": "markdown",
   "id": "1168a769",
   "metadata": {},
   "source": [
    "|Operation|Meaning|\n",
    "|:-:|:-:|\n",
    "| **<** |less than|\n",
    "| **<=** |less than or equal to|\n",
    "| **>** |greater than|\n",
    "| **>=** |greater than or equal to|\n"
   ]
  },
  {
   "cell_type": "code",
   "execution_count": 66,
   "id": "0eca58bf",
   "metadata": {},
   "outputs": [
    {
     "name": "stdout",
     "output_type": "stream",
     "text": [
      "bike is faster than car: False\n"
     ]
    }
   ],
   "source": [
    "maxium_speed_of_bike = 150\n",
    "max_speed_of_car = 200\n",
    "\n",
    "print(f\"bike is faster than car: {maxium_speed_of_bike >= max_speed_of_car}\")"
   ]
  },
  {
   "cell_type": "code",
   "execution_count": 67,
   "id": "3d32cdbc",
   "metadata": {},
   "outputs": [
    {
     "name": "stdout",
     "output_type": "stream",
     "text": [
      "bike is faster than car: False\n"
     ]
    }
   ],
   "source": [
    "maxium_speed_of_bike = 200\n",
    "max_speed_of_car = 200\n",
    "\n",
    "print(f\"bike is faster than car: {maxium_speed_of_bike > max_speed_of_car}\")"
   ]
  },
  {
   "cell_type": "markdown",
   "id": "1909b3bd",
   "metadata": {},
   "source": [
    "## Arithmethic Operations\n",
    "|Operation|Meaning|\n",
    "|:-:|:-:|\n",
    "| **+** |addition|\n",
    "| **-** |subtraction|\n",
    "| **\\*** |multiplication|\n",
    "| **/** |true division|\n",
    "| **//** |integer division|\n",
    "| **%** |the modulo operator|"
   ]
  },
  {
   "cell_type": "code",
   "execution_count": 69,
   "id": "c1e5fafd",
   "metadata": {},
   "outputs": [],
   "source": [
    "a=25\n",
    "b=101"
   ]
  },
  {
   "cell_type": "code",
   "execution_count": 70,
   "id": "17d1ee34",
   "metadata": {},
   "outputs": [
    {
     "data": {
      "text/plain": [
       "76"
      ]
     },
     "execution_count": 70,
     "metadata": {},
     "output_type": "execute_result"
    }
   ],
   "source": [
    "b-a"
   ]
  },
  {
   "cell_type": "code",
   "execution_count": 71,
   "id": "6d9593da",
   "metadata": {},
   "outputs": [
    {
     "data": {
      "text/plain": [
       "126"
      ]
     },
     "execution_count": 71,
     "metadata": {},
     "output_type": "execute_result"
    }
   ],
   "source": [
    "a+b"
   ]
  },
  {
   "cell_type": "code",
   "execution_count": 73,
   "id": "5ec3dc89",
   "metadata": {},
   "outputs": [
    {
     "data": {
      "text/plain": [
       "2525"
      ]
     },
     "execution_count": 73,
     "metadata": {},
     "output_type": "execute_result"
    }
   ],
   "source": [
    "a*b"
   ]
  },
  {
   "cell_type": "code",
   "execution_count": 74,
   "id": "168e6a79",
   "metadata": {},
   "outputs": [
    {
     "data": {
      "text/plain": [
       "0"
      ]
     },
     "execution_count": 74,
     "metadata": {},
     "output_type": "execute_result"
    }
   ],
   "source": [
    "a//b #the divider"
   ]
  },
  {
   "cell_type": "code",
   "execution_count": 75,
   "id": "806612da",
   "metadata": {},
   "outputs": [
    {
     "data": {
      "text/plain": [
       "4"
      ]
     },
     "execution_count": 75,
     "metadata": {},
     "output_type": "execute_result"
    }
   ],
   "source": [
    "b//a # the divider "
   ]
  },
  {
   "cell_type": "code",
   "execution_count": 76,
   "id": "0d4bce41",
   "metadata": {},
   "outputs": [
    {
     "data": {
      "text/plain": [
       "25"
      ]
     },
     "execution_count": 76,
     "metadata": {},
     "output_type": "execute_result"
    }
   ],
   "source": [
    "a%b# % = modulus"
   ]
  },
  {
   "cell_type": "code",
   "execution_count": 77,
   "id": "916fb8cd",
   "metadata": {},
   "outputs": [
    {
     "data": {
      "text/plain": [
       "1"
      ]
     },
     "execution_count": 77,
     "metadata": {},
     "output_type": "execute_result"
    }
   ],
   "source": [
    "b%a #display the remainder "
   ]
  },
  {
   "cell_type": "markdown",
   "id": "8412a64f",
   "metadata": {},
   "source": [
    "### Bitwise Operators\n",
    "|Operation|Meaning|\n",
    "|:-:|:-:|\n",
    "| **∼** |bitwise complement (prefix unary operator)|\n",
    "| **&** |bitwise and|\n",
    "| **\\|** |bitwise or|\n",
    "| **^** |bitwise exclusive-or|\n",
    "| **<<** |shift bits left, filling in with zeros|\n",
    "| **>>** |shift bits right, filling in with sign bit|\n"
   ]
  },
  {
   "cell_type": "code",
   "execution_count": 78,
   "id": "5bd5a62f",
   "metadata": {},
   "outputs": [
    {
     "data": {
      "text/plain": [
       "'0b1010'"
      ]
     },
     "execution_count": 78,
     "metadata": {},
     "output_type": "execute_result"
    }
   ],
   "source": [
    "#bitwise compliment \n",
    "var = 10\n",
    "bin(10) # 0b stands for binary "
   ]
  },
  {
   "cell_type": "markdown",
   "id": "a1b0f19c",
   "metadata": {},
   "source": [
    "bitwise complement(prefix unary operator)"
   ]
  },
  {
   "cell_type": "code",
   "execution_count": 79,
   "id": "63bec295",
   "metadata": {},
   "outputs": [
    {
     "data": {
      "text/plain": [
       "-11"
      ]
     },
     "execution_count": 79,
     "metadata": {},
     "output_type": "execute_result"
    }
   ],
   "source": [
    "~var #why we are getting -11 is because "
   ]
  },
  {
   "cell_type": "code",
   "execution_count": 80,
   "id": "25073358",
   "metadata": {},
   "outputs": [
    {
     "data": {
      "text/plain": [
       "'0b1111000'"
      ]
     },
     "execution_count": 80,
     "metadata": {},
     "output_type": "execute_result"
    }
   ],
   "source": [
    "var =120\n",
    "bin(var)"
   ]
  },
  {
   "cell_type": "code",
   "execution_count": 81,
   "id": "cd1bfa35",
   "metadata": {},
   "outputs": [
    {
     "data": {
      "text/plain": [
       "-121"
      ]
     },
     "execution_count": 81,
     "metadata": {},
     "output_type": "execute_result"
    }
   ],
   "source": [
    "~var"
   ]
  },
  {
   "cell_type": "code",
   "execution_count": 6,
   "id": "0174a86c",
   "metadata": {},
   "outputs": [],
   "source": [
    "var=120"
   ]
  },
  {
   "cell_type": "code",
   "execution_count": 7,
   "id": "7d25b3f2",
   "metadata": {},
   "outputs": [
    {
     "data": {
      "text/plain": [
       "-121"
      ]
     },
     "execution_count": 7,
     "metadata": {},
     "output_type": "execute_result"
    }
   ],
   "source": [
    "~var"
   ]
  },
  {
   "cell_type": "code",
   "execution_count": 8,
   "id": "cb5500b4",
   "metadata": {},
   "outputs": [
    {
     "data": {
      "text/plain": [
       "4"
      ]
     },
     "execution_count": 8,
     "metadata": {},
     "output_type": "execute_result"
    }
   ],
   "source": [
    " # & just work on the binary value of no is the form of 0 and 1 \n",
    "a= 4\n",
    "b=5\n",
    "a&b"
   ]
  },
  {
   "cell_type": "code",
   "execution_count": 9,
   "id": "ddbe7489",
   "metadata": {},
   "outputs": [
    {
     "data": {
      "text/plain": [
       "5"
      ]
     },
     "execution_count": 9,
     "metadata": {},
     "output_type": "execute_result"
    }
   ],
   "source": [
    "a|b # or works same as works in True and False case "
   ]
  },
  {
   "cell_type": "code",
   "execution_count": 10,
   "id": "012a4b78",
   "metadata": {},
   "outputs": [
    {
     "data": {
      "text/plain": [
       "1"
      ]
     },
     "execution_count": 10,
     "metadata": {},
     "output_type": "execute_result"
    }
   ],
   "source": [
    "a^b"
   ]
  },
  {
   "cell_type": "code",
   "execution_count": 15,
   "id": "9d45a034",
   "metadata": {},
   "outputs": [
    {
     "data": {
      "text/plain": [
       "128"
      ]
     },
     "execution_count": 15,
     "metadata": {},
     "output_type": "execute_result"
    }
   ],
   "source": [
    "a<<b"
   ]
  },
  {
   "cell_type": "code",
   "execution_count": 16,
   "id": "16417092",
   "metadata": {},
   "outputs": [
    {
     "data": {
      "text/plain": [
       "5"
      ]
     },
     "execution_count": 16,
     "metadata": {},
     "output_type": "execute_result"
    }
   ],
   "source": [
    "var=10 #divide by 2 each time \n",
    "var>>1"
   ]
  },
  {
   "cell_type": "code",
   "execution_count": 17,
   "id": "55b1fb2a",
   "metadata": {},
   "outputs": [
    {
     "data": {
      "text/plain": [
       "20"
      ]
     },
     "execution_count": 17,
     "metadata": {},
     "output_type": "execute_result"
    }
   ],
   "source": [
    "var = 10 # mul by 2 each time\n",
    "var<<1"
   ]
  },
  {
   "cell_type": "markdown",
   "id": "30ffdc7a",
   "metadata": {},
   "source": [
    "# let's start with first data structure --->>\n"
   ]
  },
  {
   "cell_type": "markdown",
   "id": "2544be63",
   "metadata": {},
   "source": [
    "# String"
   ]
  },
  {
   "cell_type": "markdown",
   "id": "e0f7e340",
   "metadata": {},
   "source": [
    "## 6.2.1 String manipulation\n",
    "\n",
    "Strings are used to record the text information such as name. In Python, Strings act as “Sequence” which means Python tracks every element in the String as a sequence. This is one of the important features of the Python language.\n",
    "\n",
    "For example, Python understands the string \"hello' to be a sequence of letters in a specific order which means the indexing technique to grab particular letters (like first letter or the last letter).\n",
    "\n",
    "As we now know string contains set of characters, let's check how can we manipulate and take subset of string, how can we access charcters out of string and do some manipulation on strings.\n",
    "\n",
    "Subset of string can be access by using slice operator [] or [:](String index starts with 0 and -1 at the end). Lets look at the example."
   ]
  },
  {
   "cell_type": "code",
   "execution_count": 18,
   "id": "fda2ec83",
   "metadata": {},
   "outputs": [
    {
     "data": {
      "text/plain": [
       "'welcome to data science master '"
      ]
     },
     "execution_count": 18,
     "metadata": {},
     "output_type": "execute_result"
    }
   ],
   "source": [
    "'rohan'\n",
    "\"welcome to data science master \"\n"
   ]
  },
  {
   "cell_type": "code",
   "execution_count": 20,
   "id": "286b5063",
   "metadata": {},
   "outputs": [],
   "source": [
    "str1 = \"welcome to data science masters \""
   ]
  },
  {
   "cell_type": "code",
   "execution_count": 21,
   "id": "a46d937a",
   "metadata": {},
   "outputs": [
    {
     "data": {
      "text/plain": [
       "str"
      ]
     },
     "execution_count": 21,
     "metadata": {},
     "output_type": "execute_result"
    }
   ],
   "source": [
    "type(str1)"
   ]
  },
  {
   "cell_type": "code",
   "execution_count": 22,
   "id": "7a22aa32",
   "metadata": {},
   "outputs": [
    {
     "data": {
      "text/plain": [
       "'w'"
      ]
     },
     "execution_count": 22,
     "metadata": {},
     "output_type": "execute_result"
    }
   ],
   "source": [
    "str1[0]"
   ]
  },
  {
   "cell_type": "code",
   "execution_count": 23,
   "id": "976f91ba",
   "metadata": {},
   "outputs": [
    {
     "ename": "NameError",
     "evalue": "name 'my' is not defined",
     "output_type": "error",
     "traceback": [
      "\u001b[1;31m---------------------------------------------------------------------------\u001b[0m",
      "\u001b[1;31mNameError\u001b[0m                                 Traceback (most recent call last)",
      "\u001b[1;32m~\\AppData\\Local\\Temp\\ipykernel_14708\\2871165383.py\u001b[0m in \u001b[0;36m<module>\u001b[1;34m\u001b[0m\n\u001b[1;32m----> 1\u001b[1;33m \u001b[0mstr1\u001b[0m\u001b[1;33m[\u001b[0m\u001b[1;36m0\u001b[0m\u001b[1;33m]\u001b[0m \u001b[1;33m=\u001b[0m \u001b[0mmy\u001b[0m\u001b[1;33m\u001b[0m\u001b[1;33m\u001b[0m\u001b[0m\n\u001b[0m",
      "\u001b[1;31mNameError\u001b[0m: name 'my' is not defined"
     ]
    }
   ],
   "source": [
    "str1[0] = my # strings are immutable "
   ]
  },
  {
   "cell_type": "code",
   "execution_count": 24,
   "id": "07ebae43",
   "metadata": {},
   "outputs": [],
   "source": [
    "#we can change the entire strings with something else \n",
    "str1 = \"krish naik \""
   ]
  },
  {
   "cell_type": "code",
   "execution_count": 25,
   "id": "b095233a",
   "metadata": {},
   "outputs": [
    {
     "data": {
      "text/plain": [
       "'krish naik '"
      ]
     },
     "execution_count": 25,
     "metadata": {},
     "output_type": "execute_result"
    }
   ],
   "source": [
    "str1"
   ]
  },
  {
   "cell_type": "markdown",
   "id": "e2b13ce5",
   "metadata": {},
   "source": [
    "strings are not mutable but lists are mutable \n",
    "we can iterate through the strings by using for and while loop "
   ]
  },
  {
   "cell_type": "code",
   "execution_count": 26,
   "id": "c401aff0",
   "metadata": {},
   "outputs": [
    {
     "data": {
      "text/plain": [
       "['__add__',\n",
       " '__class__',\n",
       " '__contains__',\n",
       " '__delattr__',\n",
       " '__dir__',\n",
       " '__doc__',\n",
       " '__eq__',\n",
       " '__format__',\n",
       " '__ge__',\n",
       " '__getattribute__',\n",
       " '__getitem__',\n",
       " '__getnewargs__',\n",
       " '__gt__',\n",
       " '__hash__',\n",
       " '__init__',\n",
       " '__init_subclass__',\n",
       " '__iter__',\n",
       " '__le__',\n",
       " '__len__',\n",
       " '__lt__',\n",
       " '__mod__',\n",
       " '__mul__',\n",
       " '__ne__',\n",
       " '__new__',\n",
       " '__reduce__',\n",
       " '__reduce_ex__',\n",
       " '__repr__',\n",
       " '__rmod__',\n",
       " '__rmul__',\n",
       " '__setattr__',\n",
       " '__sizeof__',\n",
       " '__str__',\n",
       " '__subclasshook__',\n",
       " 'capitalize',\n",
       " 'casefold',\n",
       " 'center',\n",
       " 'count',\n",
       " 'encode',\n",
       " 'endswith',\n",
       " 'expandtabs',\n",
       " 'find',\n",
       " 'format',\n",
       " 'format_map',\n",
       " 'index',\n",
       " 'isalnum',\n",
       " 'isalpha',\n",
       " 'isascii',\n",
       " 'isdecimal',\n",
       " 'isdigit',\n",
       " 'isidentifier',\n",
       " 'islower',\n",
       " 'isnumeric',\n",
       " 'isprintable',\n",
       " 'isspace',\n",
       " 'istitle',\n",
       " 'isupper',\n",
       " 'join',\n",
       " 'ljust',\n",
       " 'lower',\n",
       " 'lstrip',\n",
       " 'maketrans',\n",
       " 'partition',\n",
       " 'removeprefix',\n",
       " 'removesuffix',\n",
       " 'replace',\n",
       " 'rfind',\n",
       " 'rindex',\n",
       " 'rjust',\n",
       " 'rpartition',\n",
       " 'rsplit',\n",
       " 'rstrip',\n",
       " 'split',\n",
       " 'splitlines',\n",
       " 'startswith',\n",
       " 'strip',\n",
       " 'swapcase',\n",
       " 'title',\n",
       " 'translate',\n",
       " 'upper',\n",
       " 'zfill']"
      ]
     },
     "execution_count": 26,
     "metadata": {},
     "output_type": "execute_result"
    }
   ],
   "source": [
    "# use str1. and then press tab to get all the function we can also use \n",
    "dir(str1)"
   ]
  },
  {
   "cell_type": "code",
   "execution_count": 27,
   "id": "9cde557a",
   "metadata": {},
   "outputs": [],
   "source": [
    "string = \"pw skills data science\"\n"
   ]
  },
  {
   "cell_type": "code",
   "execution_count": 29,
   "id": "bf4e5b15",
   "metadata": {},
   "outputs": [
    {
     "data": {
      "text/plain": [
       "'i'"
      ]
     },
     "execution_count": 29,
     "metadata": {},
     "output_type": "execute_result"
    }
   ],
   "source": [
    "string[5] # index start from 0 and space is also counted "
   ]
  },
  {
   "cell_type": "code",
   "execution_count": 32,
   "id": "b56fa025",
   "metadata": {},
   "outputs": [
    {
     "data": {
      "text/plain": [
       "'ills data science'"
      ]
     },
     "execution_count": 32,
     "metadata": {},
     "output_type": "execute_result"
    }
   ],
   "source": [
    "# slice operation \n",
    "string[5:] # start from the 5th index and go till the last "
   ]
  },
  {
   "cell_type": "code",
   "execution_count": 33,
   "id": "02d4c765",
   "metadata": {},
   "outputs": [
    {
     "data": {
      "text/plain": [
       "'ills d'"
      ]
     },
     "execution_count": 33,
     "metadata": {},
     "output_type": "execute_result"
    }
   ],
   "source": [
    "string[5:11] # it will exclude the 11th index item or element "
   ]
  },
  {
   "cell_type": "code",
   "execution_count": 34,
   "id": "0faae113",
   "metadata": {},
   "outputs": [
    {
     "data": {
      "text/plain": [
       "'pw skills data science'"
      ]
     },
     "execution_count": 34,
     "metadata": {},
     "output_type": "execute_result"
    }
   ],
   "source": [
    "string"
   ]
  },
  {
   "cell_type": "code",
   "execution_count": 35,
   "id": "1e1b8d49",
   "metadata": {},
   "outputs": [
    {
     "data": {
      "text/plain": [
       "'e'"
      ]
     },
     "execution_count": 35,
     "metadata": {},
     "output_type": "execute_result"
    }
   ],
   "source": [
    "string[-1] # pick up the last element "
   ]
  },
  {
   "cell_type": "code",
   "execution_count": 36,
   "id": "e010ed1c",
   "metadata": {},
   "outputs": [
    {
     "data": {
      "text/plain": [
       "'pw skills data science'"
      ]
     },
     "execution_count": 36,
     "metadata": {},
     "output_type": "execute_result"
    }
   ],
   "source": [
    "string"
   ]
  },
  {
   "cell_type": "code",
   "execution_count": 37,
   "id": "edbd89d6",
   "metadata": {},
   "outputs": [
    {
     "data": {
      "text/plain": [
       "'e'"
      ]
     },
     "execution_count": 37,
     "metadata": {},
     "output_type": "execute_result"
    }
   ],
   "source": [
    "string[-1:] # starting from -3 and upto the end "
   ]
  },
  {
   "cell_type": "code",
   "execution_count": 38,
   "id": "dfe33e5e",
   "metadata": {},
   "outputs": [
    {
     "data": {
      "text/plain": [
       "'nce'"
      ]
     },
     "execution_count": 38,
     "metadata": {},
     "output_type": "execute_result"
    }
   ],
   "source": [
    "string[-3:] #starting from -3 and upto the end "
   ]
  },
  {
   "cell_type": "code",
   "execution_count": 39,
   "id": "ecffaa89",
   "metadata": {},
   "outputs": [
    {
     "data": {
      "text/plain": [
       "'science'"
      ]
     },
     "execution_count": 39,
     "metadata": {},
     "output_type": "execute_result"
    }
   ],
   "source": [
    "string[-7:]"
   ]
  },
  {
   "cell_type": "code",
   "execution_count": 41,
   "id": "7a4be52d",
   "metadata": {},
   "outputs": [
    {
     "data": {
      "text/plain": [
       "''"
      ]
     },
     "execution_count": 41,
     "metadata": {},
     "output_type": "execute_result"
    }
   ],
   "source": [
    "string[-5:2] # it will not work "
   ]
  },
  {
   "cell_type": "code",
   "execution_count": 42,
   "id": "b6d90897",
   "metadata": {},
   "outputs": [
    {
     "data": {
      "text/plain": [
       "' skills data s'"
      ]
     },
     "execution_count": 42,
     "metadata": {},
     "output_type": "execute_result"
    }
   ],
   "source": [
    "string[2:-6]"
   ]
  },
  {
   "cell_type": "code",
   "execution_count": 43,
   "id": "f436d1cd",
   "metadata": {},
   "outputs": [
    {
     "data": {
      "text/plain": [
       "'pw skills data science'"
      ]
     },
     "execution_count": 43,
     "metadata": {},
     "output_type": "execute_result"
    }
   ],
   "source": [
    "string"
   ]
  },
  {
   "cell_type": "code",
   "execution_count": 44,
   "id": "cfb02616",
   "metadata": {},
   "outputs": [
    {
     "data": {
      "text/plain": [
       "'pw skills data science'"
      ]
     },
     "execution_count": 44,
     "metadata": {},
     "output_type": "execute_result"
    }
   ],
   "source": [
    "string"
   ]
  },
  {
   "cell_type": "code",
   "execution_count": 45,
   "id": "f9da5449",
   "metadata": {},
   "outputs": [
    {
     "data": {
      "text/plain": [
       "''"
      ]
     },
     "execution_count": 45,
     "metadata": {},
     "output_type": "execute_result"
    }
   ],
   "source": [
    "string[-5:12]"
   ]
  },
  {
   "cell_type": "code",
   "execution_count": 46,
   "id": "61e298d9",
   "metadata": {},
   "outputs": [
    {
     "data": {
      "text/plain": [
       "' skil'"
      ]
     },
     "execution_count": 46,
     "metadata": {},
     "output_type": "execute_result"
    }
   ],
   "source": [
    "string[2:-15]"
   ]
  },
  {
   "cell_type": "code",
   "execution_count": 47,
   "id": "4df3cf0a",
   "metadata": {},
   "outputs": [
    {
     "data": {
      "text/plain": [
       "'pw skills data science'"
      ]
     },
     "execution_count": 47,
     "metadata": {},
     "output_type": "execute_result"
    }
   ],
   "source": [
    "string"
   ]
  },
  {
   "cell_type": "code",
   "execution_count": 48,
   "id": "7c011ab2",
   "metadata": {},
   "outputs": [
    {
     "data": {
      "text/plain": [
       "'pw skills data scienc'"
      ]
     },
     "execution_count": 48,
     "metadata": {},
     "output_type": "execute_result"
    }
   ],
   "source": [
    "string[:-1]"
   ]
  },
  {
   "cell_type": "code",
   "execution_count": 49,
   "id": "c68eeb4d",
   "metadata": {},
   "outputs": [
    {
     "data": {
      "text/plain": [
       "''"
      ]
     },
     "execution_count": 49,
     "metadata": {},
     "output_type": "execute_result"
    }
   ],
   "source": [
    "string[-5:-11]"
   ]
  },
  {
   "cell_type": "code",
   "execution_count": 50,
   "id": "2ca8b296",
   "metadata": {},
   "outputs": [
    {
     "data": {
      "text/plain": [
       "'pw skills data science'"
      ]
     },
     "execution_count": 50,
     "metadata": {},
     "output_type": "execute_result"
    }
   ],
   "source": [
    "string[:]"
   ]
  },
  {
   "cell_type": "code",
   "execution_count": 51,
   "id": "d8747037",
   "metadata": {},
   "outputs": [],
   "source": [
    "name = \"karthik\""
   ]
  },
  {
   "cell_type": "code",
   "execution_count": 52,
   "id": "a332850a",
   "metadata": {},
   "outputs": [
    {
     "data": {
      "text/plain": [
       "'karthik'"
      ]
     },
     "execution_count": 52,
     "metadata": {},
     "output_type": "execute_result"
    }
   ],
   "source": [
    "name "
   ]
  },
  {
   "cell_type": "code",
   "execution_count": 53,
   "id": "e173710e",
   "metadata": {},
   "outputs": [
    {
     "data": {
      "text/plain": [
       "'rt'"
      ]
     },
     "execution_count": 53,
     "metadata": {},
     "output_type": "execute_result"
    }
   ],
   "source": [
    "name[-5:4]"
   ]
  },
  {
   "cell_type": "code",
   "execution_count": 54,
   "id": "244b99fc",
   "metadata": {},
   "outputs": [
    {
     "data": {
      "text/plain": [
       "'pw skills data science'"
      ]
     },
     "execution_count": 54,
     "metadata": {},
     "output_type": "execute_result"
    }
   ],
   "source": [
    "string"
   ]
  },
  {
   "cell_type": "code",
   "execution_count": 55,
   "id": "cc06758d",
   "metadata": {},
   "outputs": [
    {
     "data": {
      "text/plain": [
       "'kills d'"
      ]
     },
     "execution_count": 55,
     "metadata": {},
     "output_type": "execute_result"
    }
   ],
   "source": [
    "string[-18:11]"
   ]
  },
  {
   "cell_type": "code",
   "execution_count": 56,
   "id": "1c7eb617",
   "metadata": {},
   "outputs": [
    {
     "data": {
      "text/plain": [
       "''"
      ]
     },
     "execution_count": 56,
     "metadata": {},
     "output_type": "execute_result"
    }
   ],
   "source": [
    "string[-7:5]"
   ]
  },
  {
   "cell_type": "code",
   "execution_count": 59,
   "id": "5142aefb",
   "metadata": {},
   "outputs": [
    {
     "data": {
      "text/plain": [
       "'scien'"
      ]
     },
     "execution_count": 59,
     "metadata": {},
     "output_type": "execute_result"
    }
   ],
   "source": [
    "string[-7:-2]"
   ]
  },
  {
   "cell_type": "code",
   "execution_count": 62,
   "id": "84b4d190",
   "metadata": {},
   "outputs": [
    {
     "data": {
      "text/plain": [
       "'ecneics atad slliks wp'"
      ]
     },
     "execution_count": 62,
     "metadata": {},
     "output_type": "execute_result"
    }
   ],
   "source": [
    "#reverse the string\n",
    "string[::-1] # :: (double colon used for stepsize)"
   ]
  },
  {
   "cell_type": "code",
   "execution_count": 63,
   "id": "c26630a8",
   "metadata": {},
   "outputs": [
    {
     "data": {
      "text/plain": [
       "'enisaa lisw'"
      ]
     },
     "execution_count": 63,
     "metadata": {},
     "output_type": "execute_result"
    }
   ],
   "source": [
    "string[::-2] # from backward it will take every 2nd element "
   ]
  },
  {
   "cell_type": "code",
   "execution_count": 64,
   "id": "d022782b",
   "metadata": {},
   "outputs": [
    {
     "data": {
      "text/plain": [
       "'pw skills data science'"
      ]
     },
     "execution_count": 64,
     "metadata": {},
     "output_type": "execute_result"
    }
   ],
   "source": [
    "string"
   ]
  },
  {
   "cell_type": "code",
   "execution_count": 65,
   "id": "660cce7b",
   "metadata": {},
   "outputs": [
    {
     "data": {
      "text/plain": [
       "'p klsdt cec'"
      ]
     },
     "execution_count": 65,
     "metadata": {},
     "output_type": "execute_result"
    }
   ],
   "source": [
    "string[::2]"
   ]
  },
  {
   "cell_type": "code",
   "execution_count": 66,
   "id": "04c005f9",
   "metadata": {},
   "outputs": [
    {
     "data": {
      "text/plain": [
       "'pw skills data science'"
      ]
     },
     "execution_count": 66,
     "metadata": {},
     "output_type": "execute_result"
    }
   ],
   "source": [
    "string"
   ]
  },
  {
   "cell_type": "code",
   "execution_count": 67,
   "id": "55bb0204",
   "metadata": {},
   "outputs": [
    {
     "data": {
      "text/plain": [
       "'pw sk'"
      ]
     },
     "execution_count": 67,
     "metadata": {},
     "output_type": "execute_result"
    }
   ],
   "source": [
    "string[0:5]"
   ]
  },
  {
   "cell_type": "code",
   "execution_count": 68,
   "id": "e4ff060e",
   "metadata": {},
   "outputs": [
    {
     "data": {
      "text/plain": [
       "'pw skills data science'"
      ]
     },
     "execution_count": 68,
     "metadata": {},
     "output_type": "execute_result"
    }
   ],
   "source": [
    "string"
   ]
  },
  {
   "cell_type": "code",
   "execution_count": 69,
   "id": "560bd8e0",
   "metadata": {},
   "outputs": [
    {
     "data": {
      "text/plain": [
       "''"
      ]
     },
     "execution_count": 69,
     "metadata": {},
     "output_type": "execute_result"
    }
   ],
   "source": [
    "string[0:5:-1]"
   ]
  },
  {
   "cell_type": "code",
   "execution_count": 70,
   "id": "3c32bd01",
   "metadata": {},
   "outputs": [
    {
     "data": {
      "text/plain": [
       "'enisaa '"
      ]
     },
     "execution_count": 70,
     "metadata": {},
     "output_type": "execute_result"
    }
   ],
   "source": [
    "string[-1:-14:-2]"
   ]
  },
  {
   "cell_type": "code",
   "execution_count": 71,
   "id": "d7619e95",
   "metadata": {},
   "outputs": [
    {
     "data": {
      "text/plain": [
       "'pw skills data science'"
      ]
     },
     "execution_count": 71,
     "metadata": {},
     "output_type": "execute_result"
    }
   ],
   "source": [
    "string"
   ]
  },
  {
   "cell_type": "code",
   "execution_count": 72,
   "id": "33d87e3a",
   "metadata": {},
   "outputs": [
    {
     "data": {
      "text/plain": [
       "'hsirk'"
      ]
     },
     "execution_count": 72,
     "metadata": {},
     "output_type": "execute_result"
    }
   ],
   "source": [
    "name = \"krish\"\n",
    "name[::-1]"
   ]
  },
  {
   "cell_type": "code",
   "execution_count": 74,
   "id": "e50c6e49",
   "metadata": {},
   "outputs": [
    {
     "data": {
      "text/plain": [
       "'hik'"
      ]
     },
     "execution_count": 74,
     "metadata": {},
     "output_type": "execute_result"
    }
   ],
   "source": [
    "name[::-2]"
   ]
  },
  {
   "cell_type": "code",
   "execution_count": 75,
   "id": "6f762831",
   "metadata": {},
   "outputs": [
    {
     "data": {
      "text/plain": [
       "'hik'"
      ]
     },
     "execution_count": 75,
     "metadata": {},
     "output_type": "execute_result"
    }
   ],
   "source": [
    "name[4::-2]"
   ]
  },
  {
   "cell_type": "code",
   "execution_count": 76,
   "id": "248d9a44",
   "metadata": {},
   "outputs": [
    {
     "data": {
      "text/plain": [
       "'krish'"
      ]
     },
     "execution_count": 76,
     "metadata": {},
     "output_type": "execute_result"
    }
   ],
   "source": [
    "name"
   ]
  },
  {
   "cell_type": "code",
   "execution_count": 77,
   "id": "ddb8bcd9",
   "metadata": {},
   "outputs": [
    {
     "data": {
      "text/plain": [
       "'h'"
      ]
     },
     "execution_count": 77,
     "metadata": {},
     "output_type": "execute_result"
    }
   ],
   "source": [
    "name[4:]"
   ]
  },
  {
   "cell_type": "code",
   "execution_count": 79,
   "id": "e7bc60a9",
   "metadata": {},
   "outputs": [
    {
     "data": {
      "text/plain": [
       "'irk'"
      ]
     },
     "execution_count": 79,
     "metadata": {},
     "output_type": "execute_result"
    }
   ],
   "source": [
    "name[2::-1] #this will choose the element and then starting step sizing indexing "
   ]
  },
  {
   "cell_type": "code",
   "execution_count": 80,
   "id": "09703e5a",
   "metadata": {},
   "outputs": [
    {
     "data": {
      "text/plain": [
       "'si'"
      ]
     },
     "execution_count": 80,
     "metadata": {},
     "output_type": "execute_result"
    }
   ],
   "source": [
    "name[3:1:-1]"
   ]
  },
  {
   "cell_type": "code",
   "execution_count": 81,
   "id": "e0eca5cb",
   "metadata": {},
   "outputs": [
    {
     "data": {
      "text/plain": [
       "'krish'"
      ]
     },
     "execution_count": 81,
     "metadata": {},
     "output_type": "execute_result"
    }
   ],
   "source": [
    "name"
   ]
  },
  {
   "cell_type": "code",
   "execution_count": 82,
   "id": "33b6d624",
   "metadata": {},
   "outputs": [
    {
     "data": {
      "text/plain": [
       "''"
      ]
     },
     "execution_count": 82,
     "metadata": {},
     "output_type": "execute_result"
    }
   ],
   "source": [
    "name[3:1]"
   ]
  },
  {
   "cell_type": "code",
   "execution_count": 83,
   "id": "c9508be7",
   "metadata": {},
   "outputs": [],
   "source": [
    "course = \"data science masters\""
   ]
  },
  {
   "cell_type": "code",
   "execution_count": 84,
   "id": "4e31e70e",
   "metadata": {},
   "outputs": [
    {
     "data": {
      "text/plain": [
       "'science'"
      ]
     },
     "execution_count": 84,
     "metadata": {},
     "output_type": "execute_result"
    }
   ],
   "source": [
    "course[5:12]"
   ]
  },
  {
   "cell_type": "code",
   "execution_count": 88,
   "id": "47b54586",
   "metadata": {},
   "outputs": [
    {
     "data": {
      "text/plain": [
       "'ecneics'"
      ]
     },
     "execution_count": 88,
     "metadata": {},
     "output_type": "execute_result"
    }
   ],
   "source": [
    "course[-9:-16:-1]"
   ]
  },
  {
   "cell_type": "code",
   "execution_count": 89,
   "id": "219cbb62",
   "metadata": {},
   "outputs": [
    {
     "data": {
      "text/plain": [
       "'ecneics'"
      ]
     },
     "execution_count": 89,
     "metadata": {},
     "output_type": "execute_result"
    }
   ],
   "source": [
    "course[11:4:-1]"
   ]
  },
  {
   "cell_type": "markdown",
   "id": "bead9b4f",
   "metadata": {},
   "source": [
    "# concatenation "
   ]
  },
  {
   "cell_type": "code",
   "execution_count": 93,
   "id": "f8330513",
   "metadata": {},
   "outputs": [
    {
     "data": {
      "text/plain": [
       "'data science masters course'"
      ]
     },
     "execution_count": 93,
     "metadata": {},
     "output_type": "execute_result"
    }
   ],
   "source": [
    "course+ \" course\""
   ]
  },
  {
   "cell_type": "code",
   "execution_count": 94,
   "id": "19505e95",
   "metadata": {},
   "outputs": [
    {
     "name": "stdout",
     "output_type": "stream",
     "text": [
      "hello world\n"
     ]
    }
   ],
   "source": [
    "print(\"hello\" + \" world\")"
   ]
  },
  {
   "cell_type": "code",
   "execution_count": 95,
   "id": "bfbe5a64",
   "metadata": {},
   "outputs": [
    {
     "data": {
      "text/plain": [
       "'data science mastersdata science mastersdata science mastersdata science mastersdata science masters'"
      ]
     },
     "execution_count": 95,
     "metadata": {},
     "output_type": "execute_result"
    }
   ],
   "source": [
    "course * 5"
   ]
  },
  {
   "cell_type": "code",
   "execution_count": 97,
   "id": "5eda2368",
   "metadata": {},
   "outputs": [
    {
     "data": {
      "text/plain": [
       "'course course course course course '"
      ]
     },
     "execution_count": 97,
     "metadata": {},
     "output_type": "execute_result"
    }
   ],
   "source": [
    "\"course \" * 5"
   ]
  },
  {
   "cell_type": "code",
   "execution_count": 98,
   "id": "647792ae",
   "metadata": {},
   "outputs": [
    {
     "data": {
      "text/plain": [
       "20"
      ]
     },
     "execution_count": 98,
     "metadata": {},
     "output_type": "execute_result"
    }
   ],
   "source": [
    "len(course)"
   ]
  },
  {
   "cell_type": "code",
   "execution_count": 100,
   "id": "b7946b01",
   "metadata": {},
   "outputs": [
    {
     "data": {
      "text/plain": [
       "5"
      ]
     },
     "execution_count": 100,
     "metadata": {},
     "output_type": "execute_result"
    }
   ],
   "source": [
    "course.find('s')"
   ]
  },
  {
   "cell_type": "code",
   "execution_count": 101,
   "id": "373b9fd5",
   "metadata": {},
   "outputs": [
    {
     "data": {
      "text/plain": [
       "'data science masters'"
      ]
     },
     "execution_count": 101,
     "metadata": {},
     "output_type": "execute_result"
    }
   ],
   "source": [
    "# find function \n",
    "course"
   ]
  },
  {
   "cell_type": "code",
   "execution_count": 103,
   "id": "290b8f7f",
   "metadata": {},
   "outputs": [
    {
     "data": {
      "text/plain": [
       "18"
      ]
     },
     "execution_count": 103,
     "metadata": {},
     "output_type": "execute_result"
    }
   ],
   "source": [
    "course.find('r')"
   ]
  },
  {
   "cell_type": "code",
   "execution_count": 106,
   "id": "8412b563",
   "metadata": {},
   "outputs": [
    {
     "data": {
      "text/plain": [
       "-1"
      ]
     },
     "execution_count": 106,
     "metadata": {},
     "output_type": "execute_result"
    }
   ],
   "source": [
    "course.find(\"a\" ,6,10) # if somehting is not presented then the ouput will be -1"
   ]
  },
  {
   "cell_type": "code",
   "execution_count": 105,
   "id": "93e20b16",
   "metadata": {},
   "outputs": [
    {
     "data": {
      "text/plain": [
       "'data science masters'"
      ]
     },
     "execution_count": 105,
     "metadata": {},
     "output_type": "execute_result"
    }
   ],
   "source": [
    "course"
   ]
  },
  {
   "cell_type": "code",
   "execution_count": 107,
   "id": "5527dd05",
   "metadata": {},
   "outputs": [
    {
     "data": {
      "text/plain": [
       "3"
      ]
     },
     "execution_count": 107,
     "metadata": {},
     "output_type": "execute_result"
    }
   ],
   "source": [
    "## string count function \n",
    "course.count(\"s\")"
   ]
  },
  {
   "cell_type": "code",
   "execution_count": 108,
   "id": "e86fa7fd",
   "metadata": {},
   "outputs": [
    {
     "data": {
      "text/plain": [
       "'data science masters'"
      ]
     },
     "execution_count": 108,
     "metadata": {},
     "output_type": "execute_result"
    }
   ],
   "source": [
    "course"
   ]
  },
  {
   "cell_type": "code",
   "execution_count": 109,
   "id": "8880b2ca",
   "metadata": {},
   "outputs": [
    {
     "data": {
      "text/plain": [
       "1"
      ]
     },
     "execution_count": 109,
     "metadata": {},
     "output_type": "execute_result"
    }
   ],
   "source": [
    "course.count('r')"
   ]
  },
  {
   "cell_type": "code",
   "execution_count": 111,
   "id": "84bed78e",
   "metadata": {},
   "outputs": [
    {
     "data": {
      "text/plain": [
       "2"
      ]
     },
     "execution_count": 111,
     "metadata": {},
     "output_type": "execute_result"
    }
   ],
   "source": [
    "course.count(\" \") # there are two spaces out there in string course"
   ]
  },
  {
   "cell_type": "code",
   "execution_count": 112,
   "id": "59e79943",
   "metadata": {},
   "outputs": [
    {
     "data": {
      "text/plain": [
       "21"
      ]
     },
     "execution_count": 112,
     "metadata": {},
     "output_type": "execute_result"
    }
   ],
   "source": [
    "course.count(\"\") # total no of elements "
   ]
  },
  {
   "cell_type": "code",
   "execution_count": 113,
   "id": "a966859c",
   "metadata": {},
   "outputs": [
    {
     "data": {
      "text/plain": [
       "'data science masters'"
      ]
     },
     "execution_count": 113,
     "metadata": {},
     "output_type": "execute_result"
    }
   ],
   "source": [
    "course"
   ]
  },
  {
   "cell_type": "code",
   "execution_count": 116,
   "id": "3d56c761",
   "metadata": {},
   "outputs": [
    {
     "data": {
      "text/plain": [
       "14"
      ]
     },
     "execution_count": 116,
     "metadata": {},
     "output_type": "execute_result"
    }
   ],
   "source": [
    "course.find('a' ,-9 , -1)"
   ]
  },
  {
   "cell_type": "code",
   "execution_count": 115,
   "id": "f88940d2",
   "metadata": {},
   "outputs": [
    {
     "data": {
      "text/plain": [
       "'data science masters'"
      ]
     },
     "execution_count": 115,
     "metadata": {},
     "output_type": "execute_result"
    }
   ],
   "source": [
    "course"
   ]
  },
  {
   "cell_type": "code",
   "execution_count": 122,
   "id": "a2273028",
   "metadata": {},
   "outputs": [
    {
     "data": {
      "text/plain": [
       "['data', 'science', 'masters']"
      ]
     },
     "execution_count": 122,
     "metadata": {},
     "output_type": "execute_result"
    }
   ],
   "source": [
    "# string split function \n",
    "course.split(\" \") # finding the strings between the space"
   ]
  },
  {
   "cell_type": "code",
   "execution_count": 123,
   "id": "afe81851",
   "metadata": {},
   "outputs": [
    {
     "data": {
      "text/plain": [
       "['data ', 'cience ma', 'ter', '']"
      ]
     },
     "execution_count": 123,
     "metadata": {},
     "output_type": "execute_result"
    }
   ],
   "source": [
    "course.split('s')"
   ]
  },
  {
   "cell_type": "code",
   "execution_count": 126,
   "id": "a4c65564",
   "metadata": {},
   "outputs": [
    {
     "data": {
      "text/plain": [
       "21"
      ]
     },
     "execution_count": 126,
     "metadata": {},
     "output_type": "execute_result"
    }
   ],
   "source": [
    "course.count(\"\")"
   ]
  },
  {
   "cell_type": "code",
   "execution_count": 127,
   "id": "6b771f58",
   "metadata": {},
   "outputs": [
    {
     "data": {
      "text/plain": [
       "20"
      ]
     },
     "execution_count": 127,
     "metadata": {},
     "output_type": "execute_result"
    }
   ],
   "source": [
    "len(course)"
   ]
  },
  {
   "cell_type": "code",
   "execution_count": 128,
   "id": "944bccba",
   "metadata": {},
   "outputs": [
    {
     "data": {
      "text/plain": [
       "'data science masters'"
      ]
     },
     "execution_count": 128,
     "metadata": {},
     "output_type": "execute_result"
    }
   ],
   "source": [
    "course"
   ]
  },
  {
   "cell_type": "code",
   "execution_count": 130,
   "id": "8428becc",
   "metadata": {},
   "outputs": [
    {
     "data": {
      "text/plain": [
       "['data ', 'cience ma', 'ter', '']"
      ]
     },
     "execution_count": 130,
     "metadata": {},
     "output_type": "execute_result"
    }
   ],
   "source": [
    "course.split('s') # split will do it for every s "
   ]
  },
  {
   "cell_type": "code",
   "execution_count": 131,
   "id": "159e812a",
   "metadata": {},
   "outputs": [
    {
     "data": {
      "text/plain": [
       "'data science masters'"
      ]
     },
     "execution_count": 131,
     "metadata": {},
     "output_type": "execute_result"
    }
   ],
   "source": [
    "course"
   ]
  },
  {
   "cell_type": "code",
   "execution_count": 133,
   "id": "1761a6de",
   "metadata": {},
   "outputs": [
    {
     "data": {
      "text/plain": [
       "('data ', 's', 'cience masters')"
      ]
     },
     "execution_count": 133,
     "metadata": {},
     "output_type": "execute_result"
    }
   ],
   "source": [
    "course.partition('s') # partition will do it for only one s "
   ]
  },
  {
   "cell_type": "code",
   "execution_count": 134,
   "id": "8abc13a2",
   "metadata": {},
   "outputs": [],
   "source": [
    "# string upper and lower case "
   ]
  },
  {
   "cell_type": "code",
   "execution_count": 135,
   "id": "0ed6da04",
   "metadata": {},
   "outputs": [
    {
     "data": {
      "text/plain": [
       "'DATA SCIENCE MASTERS'"
      ]
     },
     "execution_count": 135,
     "metadata": {},
     "output_type": "execute_result"
    }
   ],
   "source": [
    "course.upper()"
   ]
  },
  {
   "cell_type": "code",
   "execution_count": 136,
   "id": "85b2ee92",
   "metadata": {},
   "outputs": [
    {
     "data": {
      "text/plain": [
       "'data science masters'"
      ]
     },
     "execution_count": 136,
     "metadata": {},
     "output_type": "execute_result"
    }
   ],
   "source": [
    "course.lower()"
   ]
  },
  {
   "cell_type": "code",
   "execution_count": 138,
   "id": "34fdbc94",
   "metadata": {},
   "outputs": [
    {
     "data": {
      "text/plain": [
       "'DATA SCIENCE MASTERS'"
      ]
     },
     "execution_count": 138,
     "metadata": {},
     "output_type": "execute_result"
    }
   ],
   "source": [
    "course.swapcase()"
   ]
  },
  {
   "cell_type": "code",
   "execution_count": 139,
   "id": "43bd8724",
   "metadata": {},
   "outputs": [
    {
     "data": {
      "text/plain": [
       "'data science masters'"
      ]
     },
     "execution_count": 139,
     "metadata": {},
     "output_type": "execute_result"
    }
   ],
   "source": [
    "course"
   ]
  },
  {
   "cell_type": "code",
   "execution_count": 140,
   "id": "1a23ff5b",
   "metadata": {},
   "outputs": [],
   "source": [
    "course1 = \"Data Science Course\""
   ]
  },
  {
   "cell_type": "code",
   "execution_count": 141,
   "id": "1190f220",
   "metadata": {},
   "outputs": [
    {
     "data": {
      "text/plain": [
       "'dATA sCIENCE cOURSE'"
      ]
     },
     "execution_count": 141,
     "metadata": {},
     "output_type": "execute_result"
    }
   ],
   "source": [
    "course1.swapcase()"
   ]
  },
  {
   "cell_type": "code",
   "execution_count": 142,
   "id": "42a9479d",
   "metadata": {},
   "outputs": [
    {
     "data": {
      "text/plain": [
       "'Data Science Course'"
      ]
     },
     "execution_count": 142,
     "metadata": {},
     "output_type": "execute_result"
    }
   ],
   "source": [
    "course1.title()"
   ]
  },
  {
   "cell_type": "code",
   "execution_count": 144,
   "id": "2a27fb4e",
   "metadata": {},
   "outputs": [
    {
     "data": {
      "text/plain": [
       "'Data Science Masters'"
      ]
     },
     "execution_count": 144,
     "metadata": {},
     "output_type": "execute_result"
    }
   ],
   "source": [
    "course.title()"
   ]
  },
  {
   "cell_type": "code",
   "execution_count": null,
   "id": "f62928e6",
   "metadata": {},
   "outputs": [],
   "source": []
  }
 ],
 "metadata": {
  "kernelspec": {
   "display_name": "Python 3 (ipykernel)",
   "language": "python",
   "name": "python3"
  },
  "language_info": {
   "codemirror_mode": {
    "name": "ipython",
    "version": 3
   },
   "file_extension": ".py",
   "mimetype": "text/x-python",
   "name": "python",
   "nbconvert_exporter": "python",
   "pygments_lexer": "ipython3",
   "version": "3.9.13"
  }
 },
 "nbformat": 4,
 "nbformat_minor": 5
}
