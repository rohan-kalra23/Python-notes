{
 "cells": [
  {
   "cell_type": "markdown",
   "id": "9333ae2f",
   "metadata": {},
   "source": [
    "# Python Day 5 notes "
   ]
  },
  {
   "cell_type": "markdown",
   "id": "4adcea6f",
   "metadata": {},
   "source": [
    "# Tuples "
   ]
  },
  {
   "cell_type": "markdown",
   "id": "25b8fd71",
   "metadata": {},
   "source": [
    "tuples are different from the lists the data stored in the tuples is not mutable cannot be edit or muted . tuple hold the data in ()"
   ]
  },
  {
   "cell_type": "code",
   "execution_count": 1,
   "id": "45b3177e",
   "metadata": {},
   "outputs": [],
   "source": [
    "t=()"
   ]
  },
  {
   "cell_type": "code",
   "execution_count": 2,
   "id": "b2e1d258",
   "metadata": {},
   "outputs": [
    {
     "data": {
      "text/plain": [
       "()"
      ]
     },
     "execution_count": 2,
     "metadata": {},
     "output_type": "execute_result"
    }
   ],
   "source": [
    "t"
   ]
  },
  {
   "cell_type": "code",
   "execution_count": 3,
   "id": "c4af5cc0",
   "metadata": {},
   "outputs": [
    {
     "data": {
      "text/plain": [
       "tuple"
      ]
     },
     "execution_count": 3,
     "metadata": {},
     "output_type": "execute_result"
    }
   ],
   "source": [
    "type(t)"
   ]
  },
  {
   "cell_type": "code",
   "execution_count": 4,
   "id": "3cb044b7",
   "metadata": {},
   "outputs": [
    {
     "name": "stdout",
     "output_type": "stream",
     "text": [
      "()\n"
     ]
    }
   ],
   "source": [
    "print(t)"
   ]
  },
  {
   "cell_type": "code",
   "execution_count": 5,
   "id": "2db67380",
   "metadata": {},
   "outputs": [],
   "source": [
    "t1 = (1,2,3,4,45.45,67.77)"
   ]
  },
  {
   "cell_type": "code",
   "execution_count": 6,
   "id": "c4a10a9b",
   "metadata": {},
   "outputs": [
    {
     "data": {
      "text/plain": [
       "(1, 2, 3, 4, 45.45, 67.77)"
      ]
     },
     "execution_count": 6,
     "metadata": {},
     "output_type": "execute_result"
    }
   ],
   "source": [
    "t1"
   ]
  },
  {
   "cell_type": "code",
   "execution_count": 7,
   "id": "9bddb358",
   "metadata": {},
   "outputs": [
    {
     "data": {
      "text/plain": [
       "1"
      ]
     },
     "execution_count": 7,
     "metadata": {},
     "output_type": "execute_result"
    }
   ],
   "source": [
    "# we can gather the info from the tuple but can not edit it\n",
    "t1[0]"
   ]
  },
  {
   "cell_type": "code",
   "execution_count": 8,
   "id": "869e087c",
   "metadata": {},
   "outputs": [
    {
     "ename": "TypeError",
     "evalue": "'tuple' object does not support item assignment",
     "output_type": "error",
     "traceback": [
      "\u001b[1;31m---------------------------------------------------------------------------\u001b[0m",
      "\u001b[1;31mTypeError\u001b[0m                                 Traceback (most recent call last)",
      "\u001b[1;32m~\\AppData\\Local\\Temp\\ipykernel_2688\\212797560.py\u001b[0m in \u001b[0;36m<module>\u001b[1;34m\u001b[0m\n\u001b[1;32m----> 1\u001b[1;33m \u001b[0mt1\u001b[0m\u001b[1;33m[\u001b[0m\u001b[1;36m0\u001b[0m\u001b[1;33m]\u001b[0m \u001b[1;33m=\u001b[0m \u001b[1;34m'qwe'\u001b[0m\u001b[1;33m\u001b[0m\u001b[1;33m\u001b[0m\u001b[0m\n\u001b[0m",
      "\u001b[1;31mTypeError\u001b[0m: 'tuple' object does not support item assignment"
     ]
    }
   ],
   "source": [
    "t1[0] = 'qwe'"
   ]
  },
  {
   "cell_type": "markdown",
   "id": "01ab8099",
   "metadata": {},
   "source": [
    "Tuple object doesn't support item assignment "
   ]
  },
  {
   "cell_type": "code",
   "execution_count": 9,
   "id": "1f54da0b",
   "metadata": {},
   "outputs": [],
   "source": [
    "t2 = (1,2,3,4,'rohan' , True , False)"
   ]
  },
  {
   "cell_type": "code",
   "execution_count": 10,
   "id": "46bfd971",
   "metadata": {},
   "outputs": [
    {
     "data": {
      "text/plain": [
       "tuple"
      ]
     },
     "execution_count": 10,
     "metadata": {},
     "output_type": "execute_result"
    }
   ],
   "source": [
    "type(t2)"
   ]
  },
  {
   "cell_type": "code",
   "execution_count": 11,
   "id": "b59cfb95",
   "metadata": {},
   "outputs": [
    {
     "data": {
      "text/plain": [
       "(1, 2, 3, 4, 'rohan', True, False)"
      ]
     },
     "execution_count": 11,
     "metadata": {},
     "output_type": "execute_result"
    }
   ],
   "source": [
    "t2"
   ]
  },
  {
   "cell_type": "markdown",
   "id": "66879353",
   "metadata": {},
   "source": [
    "we can save the same kind of information in both tuples and the lists ....\n",
    "\n",
    "then what is the difference between them "
   ]
  },
  {
   "cell_type": "code",
   "execution_count": 12,
   "id": "cf32c9da",
   "metadata": {},
   "outputs": [],
   "source": [
    "l = [12,33,23,24]\n",
    "t = (12,33,23,24)"
   ]
  },
  {
   "cell_type": "code",
   "execution_count": 13,
   "id": "91e1080a",
   "metadata": {},
   "outputs": [
    {
     "data": {
      "text/plain": [
       "list"
      ]
     },
     "execution_count": 13,
     "metadata": {},
     "output_type": "execute_result"
    }
   ],
   "source": [
    "type(l)"
   ]
  },
  {
   "cell_type": "code",
   "execution_count": 14,
   "id": "d7276ef6",
   "metadata": {},
   "outputs": [
    {
     "data": {
      "text/plain": [
       "tuple"
      ]
     },
     "execution_count": 14,
     "metadata": {},
     "output_type": "execute_result"
    }
   ],
   "source": [
    "type(t)"
   ]
  },
  {
   "cell_type": "markdown",
   "id": "76941046",
   "metadata": {},
   "source": [
    "we can extract the data from tuple \n",
    "but cannot change replaace or edit it ....."
   ]
  },
  {
   "cell_type": "markdown",
   "id": "f915242d",
   "metadata": {},
   "source": [
    "index of tuples are also same as of lists "
   ]
  },
  {
   "cell_type": "code",
   "execution_count": 15,
   "id": "53781d1e",
   "metadata": {},
   "outputs": [
    {
     "data": {
      "text/plain": [
       "24"
      ]
     },
     "execution_count": 15,
     "metadata": {},
     "output_type": "execute_result"
    }
   ],
   "source": [
    "t[3]"
   ]
  },
  {
   "cell_type": "code",
   "execution_count": 16,
   "id": "3f113d7a",
   "metadata": {},
   "outputs": [
    {
     "data": {
      "text/plain": [
       "(24, 23, 33, 12)"
      ]
     },
     "execution_count": 16,
     "metadata": {},
     "output_type": "execute_result"
    }
   ],
   "source": [
    "t[::-1] # reverse of tuple "
   ]
  },
  {
   "cell_type": "code",
   "execution_count": 17,
   "id": "3ba17766",
   "metadata": {},
   "outputs": [],
   "source": [
    "t1 = (1,2,3,'kridsh' , 2+7j , True)"
   ]
  },
  {
   "cell_type": "code",
   "execution_count": 18,
   "id": "c6617da1",
   "metadata": {},
   "outputs": [
    {
     "data": {
      "text/plain": [
       "(1, 2, 3, 'kridsh', (2+7j), True)"
      ]
     },
     "execution_count": 18,
     "metadata": {},
     "output_type": "execute_result"
    }
   ],
   "source": [
    "t1"
   ]
  },
  {
   "cell_type": "code",
   "execution_count": 19,
   "id": "cc4c467b",
   "metadata": {},
   "outputs": [
    {
     "data": {
      "text/plain": [
       "(True, (2+7j), 'kridsh', 3, 2, 1)"
      ]
     },
     "execution_count": 19,
     "metadata": {},
     "output_type": "execute_result"
    }
   ],
   "source": [
    "t1[::-1]"
   ]
  },
  {
   "cell_type": "code",
   "execution_count": 20,
   "id": "1d762179",
   "metadata": {},
   "outputs": [],
   "source": [
    "t2 = t1[::-1]"
   ]
  },
  {
   "cell_type": "code",
   "execution_count": 21,
   "id": "dba8863e",
   "metadata": {},
   "outputs": [
    {
     "data": {
      "text/plain": [
       "(True, (2+7j), 'kridsh', 3, 2, 1)"
      ]
     },
     "execution_count": 21,
     "metadata": {},
     "output_type": "execute_result"
    }
   ],
   "source": [
    "t2"
   ]
  },
  {
   "cell_type": "code",
   "execution_count": 22,
   "id": "5f95961c",
   "metadata": {},
   "outputs": [
    {
     "data": {
      "text/plain": [
       "(1, 2, 3, 'kridsh', (2+7j), True)"
      ]
     },
     "execution_count": 22,
     "metadata": {},
     "output_type": "execute_result"
    }
   ],
   "source": [
    "t1"
   ]
  },
  {
   "cell_type": "code",
   "execution_count": 23,
   "id": "52d852f4",
   "metadata": {},
   "outputs": [
    {
     "data": {
      "text/plain": [
       "(1, 2, 3, 'kridsh')"
      ]
     },
     "execution_count": 23,
     "metadata": {},
     "output_type": "execute_result"
    }
   ],
   "source": [
    "# we can do slicing and indexing both in the tuples tooo \n",
    "t1[0:4]"
   ]
  },
  {
   "cell_type": "code",
   "execution_count": 24,
   "id": "729311c8",
   "metadata": {},
   "outputs": [
    {
     "data": {
      "text/plain": [
       "(1, 3, (2+7j))"
      ]
     },
     "execution_count": 24,
     "metadata": {},
     "output_type": "execute_result"
    }
   ],
   "source": [
    "t1[0:5:2]"
   ]
  },
  {
   "cell_type": "markdown",
   "id": "216a61d3",
   "metadata": {},
   "source": [
    "indexing and slicing wise there are no diff in tuples and lists ..."
   ]
  },
  {
   "cell_type": "code",
   "execution_count": 25,
   "id": "c921ee6f",
   "metadata": {},
   "outputs": [
    {
     "data": {
      "text/plain": [
       "(1, 2, 3, 'kridsh', (2+7j), True)"
      ]
     },
     "execution_count": 25,
     "metadata": {},
     "output_type": "execute_result"
    }
   ],
   "source": [
    "t1"
   ]
  },
  {
   "cell_type": "code",
   "execution_count": 26,
   "id": "00e266c4",
   "metadata": {},
   "outputs": [
    {
     "data": {
      "text/plain": [
       "()"
      ]
     },
     "execution_count": 26,
     "metadata": {},
     "output_type": "execute_result"
    }
   ],
   "source": [
    "t1[-1:-5]"
   ]
  },
  {
   "cell_type": "code",
   "execution_count": 27,
   "id": "378a136e",
   "metadata": {},
   "outputs": [
    {
     "data": {
      "text/plain": [
       "(2, 3, 'kridsh', (2+7j))"
      ]
     },
     "execution_count": 27,
     "metadata": {},
     "output_type": "execute_result"
    }
   ],
   "source": [
    "t1[-5:-1]"
   ]
  },
  {
   "cell_type": "code",
   "execution_count": 30,
   "id": "74fb6600",
   "metadata": {},
   "outputs": [
    {
     "data": {
      "text/plain": [
       "2"
      ]
     },
     "execution_count": 30,
     "metadata": {},
     "output_type": "execute_result"
    }
   ],
   "source": [
    "# only count and index two function are present in Tuples \n",
    "t1.count(1)"
   ]
  },
  {
   "cell_type": "code",
   "execution_count": 31,
   "id": "a2674caf",
   "metadata": {},
   "outputs": [
    {
     "data": {
      "text/plain": [
       "0"
      ]
     },
     "execution_count": 31,
     "metadata": {},
     "output_type": "execute_result"
    }
   ],
   "source": [
    "t1.count(0)"
   ]
  },
  {
   "cell_type": "code",
   "execution_count": 32,
   "id": "15c4a6f5",
   "metadata": {},
   "outputs": [
    {
     "data": {
      "text/plain": [
       "2"
      ]
     },
     "execution_count": 32,
     "metadata": {},
     "output_type": "execute_result"
    }
   ],
   "source": [
    "t1.count(True)"
   ]
  },
  {
   "cell_type": "code",
   "execution_count": 33,
   "id": "b0e35d43",
   "metadata": {},
   "outputs": [
    {
     "data": {
      "text/plain": [
       "2"
      ]
     },
     "execution_count": 33,
     "metadata": {},
     "output_type": "execute_result"
    }
   ],
   "source": [
    "t1.count(1)"
   ]
  },
  {
   "cell_type": "code",
   "execution_count": 34,
   "id": "dc13f193",
   "metadata": {},
   "outputs": [
    {
     "data": {
      "text/plain": [
       "(1, 2, 3, 'kridsh', (2+7j), True)"
      ]
     },
     "execution_count": 34,
     "metadata": {},
     "output_type": "execute_result"
    }
   ],
   "source": [
    "t1"
   ]
  },
  {
   "cell_type": "code",
   "execution_count": 35,
   "id": "76e94888",
   "metadata": {},
   "outputs": [
    {
     "data": {
      "text/plain": [
       "1"
      ]
     },
     "execution_count": 35,
     "metadata": {},
     "output_type": "execute_result"
    }
   ],
   "source": [
    "t1.count(3)"
   ]
  },
  {
   "cell_type": "code",
   "execution_count": 36,
   "id": "70c01c16",
   "metadata": {},
   "outputs": [
    {
     "data": {
      "text/plain": [
       "(1, 2, 3, 'kridsh', (2+7j), True)"
      ]
     },
     "execution_count": 36,
     "metadata": {},
     "output_type": "execute_result"
    }
   ],
   "source": [
    "t1"
   ]
  },
  {
   "cell_type": "code",
   "execution_count": 38,
   "id": "0ed8bfd4",
   "metadata": {},
   "outputs": [
    {
     "data": {
      "text/plain": [
       "2"
      ]
     },
     "execution_count": 38,
     "metadata": {},
     "output_type": "execute_result"
    }
   ],
   "source": [
    "t1.count(1)"
   ]
  },
  {
   "cell_type": "code",
   "execution_count": 39,
   "id": "2f86d3d9",
   "metadata": {},
   "outputs": [],
   "source": [
    "t2 = (9,0,1,2,3,45,55,23,24,True,False , 89)"
   ]
  },
  {
   "cell_type": "code",
   "execution_count": 40,
   "id": "7ce7237c",
   "metadata": {},
   "outputs": [
    {
     "data": {
      "text/plain": [
       "1"
      ]
     },
     "execution_count": 40,
     "metadata": {},
     "output_type": "execute_result"
    }
   ],
   "source": [
    "t2.count(9)"
   ]
  },
  {
   "cell_type": "code",
   "execution_count": 41,
   "id": "ce58a748",
   "metadata": {},
   "outputs": [
    {
     "data": {
      "text/plain": [
       "2"
      ]
     },
     "execution_count": 41,
     "metadata": {},
     "output_type": "execute_result"
    }
   ],
   "source": [
    "t2.count(1)"
   ]
  },
  {
   "cell_type": "code",
   "execution_count": 43,
   "id": "dd68960b",
   "metadata": {},
   "outputs": [
    {
     "data": {
      "text/plain": [
       "1"
      ]
     },
     "execution_count": 43,
     "metadata": {},
     "output_type": "execute_result"
    }
   ],
   "source": [
    "t2.count(24)"
   ]
  },
  {
   "cell_type": "code",
   "execution_count": 44,
   "id": "76c738a2",
   "metadata": {},
   "outputs": [
    {
     "data": {
      "text/plain": [
       "1"
      ]
     },
     "execution_count": 44,
     "metadata": {},
     "output_type": "execute_result"
    }
   ],
   "source": [
    "t2.count(45)"
   ]
  },
  {
   "cell_type": "code",
   "execution_count": 55,
   "id": "347af578",
   "metadata": {},
   "outputs": [
    {
     "data": {
      "text/plain": [
       "(9, 0, 1, 2, 3, 45, 55, 23, 24, True, False, 89)"
      ]
     },
     "execution_count": 55,
     "metadata": {},
     "output_type": "execute_result"
    }
   ],
   "source": [
    "t2"
   ]
  },
  {
   "cell_type": "code",
   "execution_count": 46,
   "id": "bd7b3b2a",
   "metadata": {},
   "outputs": [
    {
     "data": {
      "text/plain": [
       "4"
      ]
     },
     "execution_count": 46,
     "metadata": {},
     "output_type": "execute_result"
    }
   ],
   "source": [
    "t2.index(3)"
   ]
  },
  {
   "cell_type": "code",
   "execution_count": 47,
   "id": "49a09c64",
   "metadata": {},
   "outputs": [
    {
     "data": {
      "text/plain": [
       "8"
      ]
     },
     "execution_count": 47,
     "metadata": {},
     "output_type": "execute_result"
    }
   ],
   "source": [
    "t2.index(24)"
   ]
  },
  {
   "cell_type": "code",
   "execution_count": 51,
   "id": "2a5bcda8",
   "metadata": {},
   "outputs": [
    {
     "data": {
      "text/plain": [
       "2"
      ]
     },
     "execution_count": 51,
     "metadata": {},
     "output_type": "execute_result"
    }
   ],
   "source": [
    "t2.index(True) # system will store value of 1 = True and viceverca"
   ]
  },
  {
   "cell_type": "code",
   "execution_count": 53,
   "id": "c7580779",
   "metadata": {},
   "outputs": [
    {
     "data": {
      "text/plain": [
       "1"
      ]
     },
     "execution_count": 53,
     "metadata": {},
     "output_type": "execute_result"
    }
   ],
   "source": [
    "t2.index(False) # system will also take value of 0 = False"
   ]
  },
  {
   "cell_type": "code",
   "execution_count": 58,
   "id": "e5e166e7",
   "metadata": {},
   "outputs": [
    {
     "data": {
      "text/plain": [
       "2"
      ]
     },
     "execution_count": 58,
     "metadata": {},
     "output_type": "execute_result"
    }
   ],
   "source": [
    "t1.count(1) # becoxz of this True system shows us the count of 1 as 2 this True will be considered as 1"
   ]
  },
  {
   "cell_type": "code",
   "execution_count": 57,
   "id": "9b80a6a0",
   "metadata": {},
   "outputs": [
    {
     "data": {
      "text/plain": [
       "(1, 2, 3, 'kridsh', (2+7j), True)"
      ]
     },
     "execution_count": 57,
     "metadata": {},
     "output_type": "execute_result"
    }
   ],
   "source": [
    "t1"
   ]
  },
  {
   "cell_type": "markdown",
   "id": "e22e7f5a",
   "metadata": {},
   "source": [
    "# system will never be wrong u have to check carefully each and every detail ...."
   ]
  },
  {
   "cell_type": "code",
   "execution_count": 59,
   "id": "e4f0e6dc",
   "metadata": {},
   "outputs": [
    {
     "data": {
      "text/plain": [
       "(1, 2, 3, 'kridsh', (2+7j), True)"
      ]
     },
     "execution_count": 59,
     "metadata": {},
     "output_type": "execute_result"
    }
   ],
   "source": [
    "t1"
   ]
  },
  {
   "cell_type": "code",
   "execution_count": 60,
   "id": "57ad4233",
   "metadata": {},
   "outputs": [
    {
     "data": {
      "text/plain": [
       "[12, 33, 23, 24]"
      ]
     },
     "execution_count": 60,
     "metadata": {},
     "output_type": "execute_result"
    }
   ],
   "source": [
    "l"
   ]
  },
  {
   "cell_type": "code",
   "execution_count": 61,
   "id": "c1e20ea6",
   "metadata": {},
   "outputs": [],
   "source": [
    "# the major difference between tuples and list is that tuples are immutable and list are mutable ..."
   ]
  },
  {
   "cell_type": "code",
   "execution_count": 62,
   "id": "1e65b89f",
   "metadata": {},
   "outputs": [
    {
     "ename": "TypeError",
     "evalue": "'tuple' object does not support item assignment",
     "output_type": "error",
     "traceback": [
      "\u001b[1;31m---------------------------------------------------------------------------\u001b[0m",
      "\u001b[1;31mTypeError\u001b[0m                                 Traceback (most recent call last)",
      "\u001b[1;32m~\\AppData\\Local\\Temp\\ipykernel_2688\\1339500108.py\u001b[0m in \u001b[0;36m<module>\u001b[1;34m\u001b[0m\n\u001b[0;32m      1\u001b[0m \u001b[1;31m#e.g\u001b[0m\u001b[1;33m\u001b[0m\u001b[1;33m\u001b[0m\u001b[0m\n\u001b[1;32m----> 2\u001b[1;33m \u001b[0mt1\u001b[0m\u001b[1;33m[\u001b[0m\u001b[1;36m0\u001b[0m\u001b[1;33m]\u001b[0m \u001b[1;33m=\u001b[0m \u001b[1;36m12\u001b[0m\u001b[1;33m\u001b[0m\u001b[1;33m\u001b[0m\u001b[0m\n\u001b[0m",
      "\u001b[1;31mTypeError\u001b[0m: 'tuple' object does not support item assignment"
     ]
    }
   ],
   "source": [
    "#e.g\n",
    "t1[0] = 12"
   ]
  },
  {
   "cell_type": "code",
   "execution_count": 63,
   "id": "4afb81d8",
   "metadata": {},
   "outputs": [],
   "source": [
    "l[0] = 999"
   ]
  },
  {
   "cell_type": "code",
   "execution_count": 64,
   "id": "d0e2daef",
   "metadata": {},
   "outputs": [
    {
     "data": {
      "text/plain": [
       "[999, 33, 23, 24]"
      ]
     },
     "execution_count": 64,
     "metadata": {},
     "output_type": "execute_result"
    }
   ],
   "source": [
    "l"
   ]
  },
  {
   "cell_type": "code",
   "execution_count": 65,
   "id": "02510e74",
   "metadata": {},
   "outputs": [
    {
     "data": {
      "text/plain": [
       "(1, 2, 3, 'kridsh', (2+7j), True)"
      ]
     },
     "execution_count": 65,
     "metadata": {},
     "output_type": "execute_result"
    }
   ],
   "source": [
    "t1"
   ]
  },
  {
   "cell_type": "code",
   "execution_count": 66,
   "id": "007feeff",
   "metadata": {},
   "outputs": [
    {
     "name": "stdout",
     "output_type": "stream",
     "text": [
      "1\n",
      "2\n",
      "3\n",
      "kridsh\n",
      "(2+7j)\n",
      "True\n"
     ]
    }
   ],
   "source": [
    "# will i be able to iterate through this tuple with for loop ????????\n",
    "for i in t1:\n",
    "    print(i)  # yes we are able to iterate through tuple "
   ]
  },
  {
   "cell_type": "code",
   "execution_count": 68,
   "id": "11c161f3",
   "metadata": {},
   "outputs": [
    {
     "name": "stdout",
     "output_type": "stream",
     "text": [
      "1 <class 'int'>\n",
      "2 <class 'int'>\n",
      "3 <class 'int'>\n",
      "kridsh <class 'str'>\n",
      "(2+7j) <class 'complex'>\n",
      "True <class 'bool'>\n"
     ]
    }
   ],
   "source": [
    "for i in t1:\n",
    "    print(i , type(i))"
   ]
  },
  {
   "cell_type": "code",
   "execution_count": 69,
   "id": "73bfc065",
   "metadata": {},
   "outputs": [],
   "source": [
    "t2 = (1,2,3,4,5,6,7,8)"
   ]
  },
  {
   "cell_type": "code",
   "execution_count": 70,
   "id": "a18bf95c",
   "metadata": {},
   "outputs": [
    {
     "data": {
      "text/plain": [
       "(1, 2, 3, 4, 5, 6, 7, 8, 1, 2, 3, 4, 5, 6, 7, 8, 1, 2, 3, 4, 5, 6, 7, 8)"
      ]
     },
     "execution_count": 70,
     "metadata": {},
     "output_type": "execute_result"
    }
   ],
   "source": [
    "t2 * 3"
   ]
  },
  {
   "cell_type": "code",
   "execution_count": 71,
   "id": "9a33ade3",
   "metadata": {},
   "outputs": [
    {
     "data": {
      "text/plain": [
       "(1, 2, 3, 4, 5, 6, 7, 8)"
      ]
     },
     "execution_count": 71,
     "metadata": {},
     "output_type": "execute_result"
    }
   ],
   "source": [
    "t2"
   ]
  },
  {
   "cell_type": "code",
   "execution_count": 72,
   "id": "91244efa",
   "metadata": {},
   "outputs": [
    {
     "data": {
      "text/plain": [
       "8"
      ]
     },
     "execution_count": 72,
     "metadata": {},
     "output_type": "execute_result"
    }
   ],
   "source": [
    "max(t2)"
   ]
  },
  {
   "cell_type": "code",
   "execution_count": 73,
   "id": "79330349",
   "metadata": {},
   "outputs": [
    {
     "data": {
      "text/plain": [
       "1"
      ]
     },
     "execution_count": 73,
     "metadata": {},
     "output_type": "execute_result"
    }
   ],
   "source": [
    "min(t2)"
   ]
  },
  {
   "cell_type": "markdown",
   "id": "cb555ac4",
   "metadata": {},
   "source": [
    "Tuples basically follows ummutability cocepts where it is not going to allow to chnage any element at a particular index"
   ]
  },
  {
   "cell_type": "code",
   "execution_count": 75,
   "id": "bdb085ed",
   "metadata": {},
   "outputs": [
    {
     "ename": "AttributeError",
     "evalue": "'tuple' object has no attribute 'append'",
     "output_type": "error",
     "traceback": [
      "\u001b[1;31m---------------------------------------------------------------------------\u001b[0m",
      "\u001b[1;31mAttributeError\u001b[0m                            Traceback (most recent call last)",
      "\u001b[1;32m~\\AppData\\Local\\Temp\\ipykernel_2688\\2189159920.py\u001b[0m in \u001b[0;36m<module>\u001b[1;34m\u001b[0m\n\u001b[1;32m----> 1\u001b[1;33m \u001b[0mt1\u001b[0m\u001b[1;33m.\u001b[0m\u001b[0mappend\u001b[0m\u001b[1;33m(\u001b[0m\u001b[1;34m'krishthekarma'\u001b[0m\u001b[1;33m)\u001b[0m\u001b[1;33m\u001b[0m\u001b[1;33m\u001b[0m\u001b[0m\n\u001b[0m",
      "\u001b[1;31mAttributeError\u001b[0m: 'tuple' object has no attribute 'append'"
     ]
    }
   ],
   "source": [
    "t1.append('krishthekarma')"
   ]
  },
  {
   "cell_type": "code",
   "execution_count": 76,
   "id": "a658731c",
   "metadata": {},
   "outputs": [],
   "source": [
    "# Where we are going to use these type of collection ..."
   ]
  },
  {
   "cell_type": "markdown",
   "id": "7f7941a4",
   "metadata": {},
   "source": [
    "we use tuples where we don't want anyone to do any changes to our data ...."
   ]
  },
  {
   "cell_type": "code",
   "execution_count": 77,
   "id": "b2516fcf",
   "metadata": {},
   "outputs": [],
   "source": [
    "# let's see how we can keep tuple inside tuple \n",
    "t1 = (1,2,3,4)\n",
    "t2=(4,5,6,7)"
   ]
  },
  {
   "cell_type": "code",
   "execution_count": 78,
   "id": "5ae227b4",
   "metadata": {},
   "outputs": [],
   "source": [
    "# if we would like to keep both the tuples together how we will do ??\n",
    "t3 = (t1 , t2)"
   ]
  },
  {
   "cell_type": "code",
   "execution_count": 79,
   "id": "e0b15bff",
   "metadata": {},
   "outputs": [
    {
     "data": {
      "text/plain": [
       "((1, 2, 3, 4), (4, 5, 6, 7))"
      ]
     },
     "execution_count": 79,
     "metadata": {},
     "output_type": "execute_result"
    }
   ],
   "source": [
    "t3"
   ]
  },
  {
   "cell_type": "markdown",
   "id": "c7024a97",
   "metadata": {},
   "source": [
    "even we are able to keep tuples inside list and list inside the tuples "
   ]
  },
  {
   "cell_type": "markdown",
   "id": "59399deb",
   "metadata": {},
   "source": [
    "That is also possible "
   ]
  },
  {
   "cell_type": "code",
   "execution_count": 80,
   "id": "ea1893c3",
   "metadata": {},
   "outputs": [],
   "source": [
    "t4 = ((1,2,3,5) , [9,4,5,72])"
   ]
  },
  {
   "cell_type": "code",
   "execution_count": 81,
   "id": "80031be2",
   "metadata": {},
   "outputs": [
    {
     "data": {
      "text/plain": [
       "((1, 2, 3, 5), [9, 4, 5, 72])"
      ]
     },
     "execution_count": 81,
     "metadata": {},
     "output_type": "execute_result"
    }
   ],
   "source": [
    "t4"
   ]
  },
  {
   "cell_type": "code",
   "execution_count": 82,
   "id": "8f6e5305",
   "metadata": {},
   "outputs": [],
   "source": [
    "# let's delete this tuple \n",
    "del(t4)"
   ]
  },
  {
   "cell_type": "code",
   "execution_count": 84,
   "id": "099d99bb",
   "metadata": {},
   "outputs": [
    {
     "ename": "NameError",
     "evalue": "name 't4' is not defined",
     "output_type": "error",
     "traceback": [
      "\u001b[1;31m---------------------------------------------------------------------------\u001b[0m",
      "\u001b[1;31mNameError\u001b[0m                                 Traceback (most recent call last)",
      "\u001b[1;32m~\\AppData\\Local\\Temp\\ipykernel_2688\\1840058143.py\u001b[0m in \u001b[0;36m<module>\u001b[1;34m\u001b[0m\n\u001b[1;32m----> 1\u001b[1;33m \u001b[0mt4\u001b[0m\u001b[1;33m\u001b[0m\u001b[1;33m\u001b[0m\u001b[0m\n\u001b[0m",
      "\u001b[1;31mNameError\u001b[0m: name 't4' is not defined"
     ]
    }
   ],
   "source": [
    "t4"
   ]
  },
  {
   "cell_type": "code",
   "execution_count": 85,
   "id": "0fdbf5d0",
   "metadata": {},
   "outputs": [],
   "source": [
    "# del is a inbuilt function......"
   ]
  },
  {
   "cell_type": "code",
   "execution_count": 86,
   "id": "0b1bf5b4",
   "metadata": {},
   "outputs": [
    {
     "data": {
      "text/plain": [
       "(1, 2, 3, 4)"
      ]
     },
     "execution_count": 86,
     "metadata": {},
     "output_type": "execute_result"
    }
   ],
   "source": [
    "t1"
   ]
  },
  {
   "cell_type": "code",
   "execution_count": 88,
   "id": "fb1299cf",
   "metadata": {},
   "outputs": [
    {
     "data": {
      "text/plain": [
       "4"
      ]
     },
     "execution_count": 88,
     "metadata": {},
     "output_type": "execute_result"
    }
   ],
   "source": [
    "len(t1)"
   ]
  },
  {
   "cell_type": "code",
   "execution_count": 89,
   "id": "ebd1c103",
   "metadata": {},
   "outputs": [
    {
     "data": {
      "text/plain": [
       "True"
      ]
     },
     "execution_count": 89,
     "metadata": {},
     "output_type": "execute_result"
    }
   ],
   "source": [
    "# let's check any element in tuple \n",
    "2 in t1"
   ]
  },
  {
   "cell_type": "code",
   "execution_count": 90,
   "id": "8cb5e035",
   "metadata": {},
   "outputs": [
    {
     "data": {
      "text/plain": [
       "False"
      ]
     },
     "execution_count": 90,
     "metadata": {},
     "output_type": "execute_result"
    }
   ],
   "source": [
    "'krish' in t1"
   ]
  },
  {
   "cell_type": "markdown",
   "id": "807f8a51",
   "metadata": {},
   "source": [
    "# SET"
   ]
  },
  {
   "cell_type": "code",
   "execution_count": 91,
   "id": "2daacba5",
   "metadata": {},
   "outputs": [],
   "source": [
    "s={}"
   ]
  },
  {
   "cell_type": "code",
   "execution_count": 92,
   "id": "fc90258e",
   "metadata": {},
   "outputs": [
    {
     "data": {
      "text/plain": [
       "dict"
      ]
     },
     "execution_count": 92,
     "metadata": {},
     "output_type": "execute_result"
    }
   ],
   "source": [
    "type(s) #it shows us that it is a dictionary "
   ]
  },
  {
   "cell_type": "code",
   "execution_count": 94,
   "id": "071a09d0",
   "metadata": {},
   "outputs": [],
   "source": [
    "# now let's add some elements in s \n",
    "s = {1,2,3,4}"
   ]
  },
  {
   "cell_type": "code",
   "execution_count": 95,
   "id": "d3eb55a3",
   "metadata": {},
   "outputs": [
    {
     "data": {
      "text/plain": [
       "set"
      ]
     },
     "execution_count": 95,
     "metadata": {},
     "output_type": "execute_result"
    }
   ],
   "source": [
    "type(s) # now the s is set now "
   ]
  },
  {
   "cell_type": "code",
   "execution_count": 96,
   "id": "12fb92f1",
   "metadata": {},
   "outputs": [],
   "source": [
    "# how set is different from list and tuples "
   ]
  },
  {
   "cell_type": "code",
   "execution_count": 97,
   "id": "0b22ca95",
   "metadata": {},
   "outputs": [],
   "source": [
    "s2={1,1,1,2,2,2,3,3,4,4,5,5,5,6,6}"
   ]
  },
  {
   "cell_type": "code",
   "execution_count": 98,
   "id": "afbc4830",
   "metadata": {},
   "outputs": [
    {
     "data": {
      "text/plain": [
       "{1, 2, 3, 4, 5, 6}"
      ]
     },
     "execution_count": 98,
     "metadata": {},
     "output_type": "execute_result"
    }
   ],
   "source": [
    "# let's call s2\n",
    "s2 # it will remove all the duplicaates \n",
    "#set is the collection which will be able to store elements but it will always try to store only unique and single value ..."
   ]
  },
  {
   "cell_type": "code",
   "execution_count": 99,
   "id": "a9e28ab5",
   "metadata": {},
   "outputs": [],
   "source": [
    "# can we convert a set into the list \n",
    "s3 = list(s2)"
   ]
  },
  {
   "cell_type": "code",
   "execution_count": 100,
   "id": "371ce9a7",
   "metadata": {},
   "outputs": [
    {
     "data": {
      "text/plain": [
       "[1, 2, 3, 4, 5, 6]"
      ]
     },
     "execution_count": 100,
     "metadata": {},
     "output_type": "execute_result"
    }
   ],
   "source": [
    "s3"
   ]
  },
  {
   "cell_type": "code",
   "execution_count": 101,
   "id": "1ce9d49f",
   "metadata": {},
   "outputs": [
    {
     "data": {
      "text/plain": [
       "(1, 2, 3, 4, 5, 6)"
      ]
     },
     "execution_count": 101,
     "metadata": {},
     "output_type": "execute_result"
    }
   ],
   "source": [
    "# we can also convert the entire set into the tuple \n",
    "tuple(s2)"
   ]
  },
  {
   "cell_type": "code",
   "execution_count": 102,
   "id": "71447832",
   "metadata": {},
   "outputs": [],
   "source": [
    "lst = [1,1,1,1,3,3,4,45,4,2,4,6,6,6,4,4,4,77,77,77,78,88]"
   ]
  },
  {
   "cell_type": "code",
   "execution_count": 103,
   "id": "cf22ba93",
   "metadata": {},
   "outputs": [],
   "source": [
    "set1 = set(lst)"
   ]
  },
  {
   "cell_type": "code",
   "execution_count": 104,
   "id": "b66b625a",
   "metadata": {},
   "outputs": [
    {
     "data": {
      "text/plain": [
       "{1, 2, 3, 4, 6, 45, 77, 78, 88}"
      ]
     },
     "execution_count": 104,
     "metadata": {},
     "output_type": "execute_result"
    }
   ],
   "source": [
    "set1"
   ]
  },
  {
   "cell_type": "code",
   "execution_count": 105,
   "id": "d08ed022",
   "metadata": {},
   "outputs": [
    {
     "ename": "TypeError",
     "evalue": "unhashable type: 'list'",
     "output_type": "error",
     "traceback": [
      "\u001b[1;31m---------------------------------------------------------------------------\u001b[0m",
      "\u001b[1;31mTypeError\u001b[0m                                 Traceback (most recent call last)",
      "\u001b[1;32m~\\AppData\\Local\\Temp\\ipykernel_2688\\3891992965.py\u001b[0m in \u001b[0;36m<module>\u001b[1;34m\u001b[0m\n\u001b[1;32m----> 1\u001b[1;33m \u001b[0ms4\u001b[0m \u001b[1;33m=\u001b[0m \u001b[1;33m{\u001b[0m\u001b[1;36m1\u001b[0m\u001b[1;33m,\u001b[0m\u001b[1;36m2\u001b[0m\u001b[1;33m,\u001b[0m\u001b[1;36m3\u001b[0m\u001b[1;33m,\u001b[0m\u001b[1;36m4\u001b[0m\u001b[1;33m,\u001b[0m\u001b[1;36m5\u001b[0m\u001b[1;33m,\u001b[0m\u001b[1;36m5\u001b[0m\u001b[1;33m,\u001b[0m\u001b[1;33m[\u001b[0m\u001b[1;36m1\u001b[0m\u001b[1;33m,\u001b[0m\u001b[1;36m2\u001b[0m\u001b[1;33m,\u001b[0m\u001b[1;36m3\u001b[0m\u001b[1;33m,\u001b[0m\u001b[1;36m4\u001b[0m\u001b[1;33m,\u001b[0m\u001b[1;36m5\u001b[0m\u001b[1;33m]\u001b[0m\u001b[1;33m}\u001b[0m\u001b[1;33m\u001b[0m\u001b[1;33m\u001b[0m\u001b[0m\n\u001b[0m",
      "\u001b[1;31mTypeError\u001b[0m: unhashable type: 'list'"
     ]
    }
   ],
   "source": [
    "s4 = {1,2,3,4,5,5,[1,2,3,4,5]}"
   ]
  },
  {
   "cell_type": "code",
   "execution_count": null,
   "id": "e30d1ad4",
   "metadata": {},
   "outputs": [],
   "source": [
    "# list is not being stored because list are mutable objects ."
   ]
  },
  {
   "cell_type": "markdown",
   "id": "65c8bb50",
   "metadata": {},
   "source": [
    "# \n",
    "When you store a list into a set, each element of the list is considered an individual item in the set. Sets in Python are implemented using a hash table, which requires that the elements being stored are hashable.\n",
    "\n",
    "A hashable object is one that has a hash value that remains constant throughout its lifetime and can be used to determine its position in a hash table. Immutable data types like integers, floats, strings, and tuples are hashable because their values cannot change after they are created."
   ]
  },
  {
   "cell_type": "code",
   "execution_count": 108,
   "id": "510aacbc",
   "metadata": {},
   "outputs": [
    {
     "ename": "TypeError",
     "evalue": "'set' object does not support item assignment",
     "output_type": "error",
     "traceback": [
      "\u001b[1;31m---------------------------------------------------------------------------\u001b[0m",
      "\u001b[1;31mTypeError\u001b[0m                                 Traceback (most recent call last)",
      "\u001b[1;32m~\\AppData\\Local\\Temp\\ipykernel_2688\\186958375.py\u001b[0m in \u001b[0;36m<module>\u001b[1;34m\u001b[0m\n\u001b[1;32m----> 1\u001b[1;33m \u001b[0mset1\u001b[0m\u001b[1;33m[\u001b[0m\u001b[1;36m0\u001b[0m\u001b[1;33m]\u001b[0m \u001b[1;33m=\u001b[0m \u001b[1;36m1\u001b[0m\u001b[1;33m\u001b[0m\u001b[1;33m\u001b[0m\u001b[0m\n\u001b[0m",
      "\u001b[1;31mTypeError\u001b[0m: 'set' object does not support item assignment"
     ]
    }
   ],
   "source": [
    "set1[0] = 1"
   ]
  },
  {
   "cell_type": "code",
   "execution_count": 106,
   "id": "1e6376d0",
   "metadata": {},
   "outputs": [],
   "source": [
    "s4 = {1,2,3,4,5,5,(1,2,3,4,5)}"
   ]
  },
  {
   "cell_type": "code",
   "execution_count": 107,
   "id": "0dda2d07",
   "metadata": {},
   "outputs": [
    {
     "data": {
      "text/plain": [
       "{(1, 2, 3, 4, 5), 1, 2, 3, 4, 5}"
      ]
     },
     "execution_count": 107,
     "metadata": {},
     "output_type": "execute_result"
    }
   ],
   "source": [
    "s4"
   ]
  },
  {
   "cell_type": "code",
   "execution_count": 109,
   "id": "84d657f1",
   "metadata": {},
   "outputs": [],
   "source": [
    "set1.add(2)"
   ]
  },
  {
   "cell_type": "code",
   "execution_count": 110,
   "id": "12a4db0d",
   "metadata": {},
   "outputs": [
    {
     "data": {
      "text/plain": [
       "{1, 2, 3, 4, 6, 45, 77, 78, 88}"
      ]
     },
     "execution_count": 110,
     "metadata": {},
     "output_type": "execute_result"
    }
   ],
   "source": [
    "set1"
   ]
  },
  {
   "cell_type": "code",
   "execution_count": 111,
   "id": "9fb736d8",
   "metadata": {},
   "outputs": [],
   "source": [
    "set1.add(3)"
   ]
  },
  {
   "cell_type": "code",
   "execution_count": 112,
   "id": "6ecfe79f",
   "metadata": {},
   "outputs": [
    {
     "data": {
      "text/plain": [
       "{1, 2, 3, 4, 6, 45, 77, 78, 88}"
      ]
     },
     "execution_count": 112,
     "metadata": {},
     "output_type": "execute_result"
    }
   ],
   "source": [
    "set1"
   ]
  },
  {
   "cell_type": "code",
   "execution_count": 113,
   "id": "5b39b938",
   "metadata": {},
   "outputs": [
    {
     "ename": "TypeError",
     "evalue": "'set' object does not support item assignment",
     "output_type": "error",
     "traceback": [
      "\u001b[1;31m---------------------------------------------------------------------------\u001b[0m",
      "\u001b[1;31mTypeError\u001b[0m                                 Traceback (most recent call last)",
      "\u001b[1;32m~\\AppData\\Local\\Temp\\ipykernel_2688\\186958375.py\u001b[0m in \u001b[0;36m<module>\u001b[1;34m\u001b[0m\n\u001b[1;32m----> 1\u001b[1;33m \u001b[0mset1\u001b[0m\u001b[1;33m[\u001b[0m\u001b[1;36m0\u001b[0m\u001b[1;33m]\u001b[0m \u001b[1;33m=\u001b[0m \u001b[1;36m1\u001b[0m\u001b[1;33m\u001b[0m\u001b[1;33m\u001b[0m\u001b[0m\n\u001b[0m",
      "\u001b[1;31mTypeError\u001b[0m: 'set' object does not support item assignment"
     ]
    }
   ],
   "source": [
    "set1[0] = 1"
   ]
  },
  {
   "cell_type": "code",
   "execution_count": 114,
   "id": "ba244ccf",
   "metadata": {},
   "outputs": [],
   "source": [
    "set2 = {'Rohan' , 'rohan'}"
   ]
  },
  {
   "cell_type": "code",
   "execution_count": 115,
   "id": "9a26c860",
   "metadata": {},
   "outputs": [
    {
     "data": {
      "text/plain": [
       "{'Rohan', 'rohan'}"
      ]
     },
     "execution_count": 115,
     "metadata": {},
     "output_type": "execute_result"
    }
   ],
   "source": [
    "set2"
   ]
  },
  {
   "cell_type": "code",
   "execution_count": 117,
   "id": "4bb7e7c4",
   "metadata": {},
   "outputs": [],
   "source": [
    "set2.add('krish')"
   ]
  },
  {
   "cell_type": "code",
   "execution_count": 118,
   "id": "c98ea1d2",
   "metadata": {},
   "outputs": [
    {
     "data": {
      "text/plain": [
       "{'Rohan', 'krish', 'rohan'}"
      ]
     },
     "execution_count": 118,
     "metadata": {},
     "output_type": "execute_result"
    }
   ],
   "source": [
    "set2"
   ]
  },
  {
   "cell_type": "code",
   "execution_count": 119,
   "id": "b5cf2463",
   "metadata": {},
   "outputs": [],
   "source": [
    "s7 = {'rohan' , 'rohan' ,'gitu' , 'gitu' , 'akash' , 'akash'}"
   ]
  },
  {
   "cell_type": "code",
   "execution_count": 120,
   "id": "1c1c92f0",
   "metadata": {},
   "outputs": [
    {
     "data": {
      "text/plain": [
       "{'akash', 'gitu', 'rohan'}"
      ]
     },
     "execution_count": 120,
     "metadata": {},
     "output_type": "execute_result"
    }
   ],
   "source": [
    "s7"
   ]
  },
  {
   "cell_type": "code",
   "execution_count": 122,
   "id": "d2823a0e",
   "metadata": {},
   "outputs": [
    {
     "ename": "TypeError",
     "evalue": "'set' object is not subscriptable",
     "output_type": "error",
     "traceback": [
      "\u001b[1;31m---------------------------------------------------------------------------\u001b[0m",
      "\u001b[1;31mTypeError\u001b[0m                                 Traceback (most recent call last)",
      "\u001b[1;32m~\\AppData\\Local\\Temp\\ipykernel_2688\\213232300.py\u001b[0m in \u001b[0;36m<module>\u001b[1;34m\u001b[0m\n\u001b[1;32m----> 1\u001b[1;33m \u001b[0ms7\u001b[0m\u001b[1;33m[\u001b[0m\u001b[1;36m0\u001b[0m\u001b[1;33m]\u001b[0m \u001b[1;31m# we can't do indexing and slicing in the set ..\u001b[0m\u001b[1;33m\u001b[0m\u001b[1;33m\u001b[0m\u001b[0m\n\u001b[0m",
      "\u001b[1;31mTypeError\u001b[0m: 'set' object is not subscriptable"
     ]
    }
   ],
   "source": [
    "s7[0] # we can't do indexing and slicing in the set .."
   ]
  },
  {
   "cell_type": "code",
   "execution_count": 123,
   "id": "261d3ab4",
   "metadata": {},
   "outputs": [
    {
     "ename": "TypeError",
     "evalue": "'set' object is not subscriptable",
     "output_type": "error",
     "traceback": [
      "\u001b[1;31m---------------------------------------------------------------------------\u001b[0m",
      "\u001b[1;31mTypeError\u001b[0m                                 Traceback (most recent call last)",
      "\u001b[1;32m~\\AppData\\Local\\Temp\\ipykernel_2688\\1420641131.py\u001b[0m in \u001b[0;36m<module>\u001b[1;34m\u001b[0m\n\u001b[1;32m----> 1\u001b[1;33m \u001b[0ms7\u001b[0m\u001b[1;33m[\u001b[0m\u001b[1;33m:\u001b[0m\u001b[1;33m:\u001b[0m\u001b[1;33m-\u001b[0m\u001b[1;36m1\u001b[0m\u001b[1;33m]\u001b[0m\u001b[1;33m\u001b[0m\u001b[1;33m\u001b[0m\u001b[0m\n\u001b[0m",
      "\u001b[1;31mTypeError\u001b[0m: 'set' object is not subscriptable"
     ]
    }
   ],
   "source": [
    "s7[::-1]"
   ]
  },
  {
   "cell_type": "markdown",
   "id": "2d62efdf",
   "metadata": {},
   "source": [
    "system is not holding the information of sets in the sequence manner that's why it is not allowing us to do indexing and slicing "
   ]
  },
  {
   "cell_type": "markdown",
   "id": "2206568b",
   "metadata": {},
   "source": [
    "we cannot subscribe this information here "
   ]
  },
  {
   "cell_type": "code",
   "execution_count": 124,
   "id": "7a694de6",
   "metadata": {},
   "outputs": [
    {
     "data": {
      "text/plain": [
       "{'akash', 'gitu', 'rohan'}"
      ]
     },
     "execution_count": 124,
     "metadata": {},
     "output_type": "execute_result"
    }
   ],
   "source": [
    "s7"
   ]
  },
  {
   "cell_type": "code",
   "execution_count": 126,
   "id": "69bd622f",
   "metadata": {},
   "outputs": [
    {
     "name": "stdout",
     "output_type": "stream",
     "text": [
      "gitu\n",
      "rohan\n",
      "akash\n"
     ]
    }
   ],
   "source": [
    "for i in s7:\n",
    "    print(i) # we can iterate through the for loop inside the set "
   ]
  },
  {
   "cell_type": "code",
   "execution_count": 127,
   "id": "87c85d79",
   "metadata": {},
   "outputs": [],
   "source": [
    "s6 = {1,22,11,33,22,33,11,1,2,3,4,4,4,5,5,5}"
   ]
  },
  {
   "cell_type": "code",
   "execution_count": 128,
   "id": "8fabaeea",
   "metadata": {},
   "outputs": [
    {
     "data": {
      "text/plain": [
       "{1, 2, 3, 4, 5, 11, 22, 33}"
      ]
     },
     "execution_count": 128,
     "metadata": {},
     "output_type": "execute_result"
    }
   ],
   "source": [
    "s6"
   ]
  },
  {
   "cell_type": "code",
   "execution_count": 133,
   "id": "25a43fc6",
   "metadata": {},
   "outputs": [],
   "source": [
    "# now lets check the functionn we can do with sets\n",
    "s6.add(99) # use s6.+tab to know all the function "
   ]
  },
  {
   "cell_type": "code",
   "execution_count": 134,
   "id": "299bc772",
   "metadata": {},
   "outputs": [],
   "source": [
    "s6.add(99)"
   ]
  },
  {
   "cell_type": "code",
   "execution_count": 135,
   "id": "871b228b",
   "metadata": {},
   "outputs": [
    {
     "data": {
      "text/plain": [
       "{1, 2, 3, 4, 5, 11, 22, 33, 99}"
      ]
     },
     "execution_count": 135,
     "metadata": {},
     "output_type": "execute_result"
    }
   ],
   "source": [
    "s6"
   ]
  },
  {
   "cell_type": "code",
   "execution_count": 136,
   "id": "c3224e26",
   "metadata": {},
   "outputs": [],
   "source": [
    "s6.add(2)"
   ]
  },
  {
   "cell_type": "code",
   "execution_count": 137,
   "id": "75080172",
   "metadata": {},
   "outputs": [
    {
     "data": {
      "text/plain": [
       "{1, 2, 3, 4, 5, 11, 22, 33, 99}"
      ]
     },
     "execution_count": 137,
     "metadata": {},
     "output_type": "execute_result"
    }
   ],
   "source": [
    "s6 # 2 is not added as it is available here already sets work with uniqueness "
   ]
  },
  {
   "cell_type": "code",
   "execution_count": 138,
   "id": "e47b3a6c",
   "metadata": {},
   "outputs": [
    {
     "data": {
      "text/plain": [
       "9"
      ]
     },
     "execution_count": 138,
     "metadata": {},
     "output_type": "execute_result"
    }
   ],
   "source": [
    "len(s6)"
   ]
  },
  {
   "cell_type": "code",
   "execution_count": 139,
   "id": "876c153a",
   "metadata": {},
   "outputs": [
    {
     "data": {
      "text/plain": [
       "1"
      ]
     },
     "execution_count": 139,
     "metadata": {},
     "output_type": "execute_result"
    }
   ],
   "source": [
    "s6.pop() # it has pop up one of the elements not the last one because in sets elements are stored with the hashtag "
   ]
  },
  {
   "cell_type": "code",
   "execution_count": 140,
   "id": "6dc49be2",
   "metadata": {},
   "outputs": [
    {
     "data": {
      "text/plain": [
       "{2, 3, 4, 5, 11, 22, 33, 99}"
      ]
     },
     "execution_count": 140,
     "metadata": {},
     "output_type": "execute_result"
    }
   ],
   "source": [
    "s6 # it will not poopping up the element in order "
   ]
  },
  {
   "cell_type": "code",
   "execution_count": 141,
   "id": "8102fbd4",
   "metadata": {},
   "outputs": [
    {
     "data": {
      "text/plain": [
       "2"
      ]
     },
     "execution_count": 141,
     "metadata": {},
     "output_type": "execute_result"
    }
   ],
   "source": [
    "s6.pop()"
   ]
  },
  {
   "cell_type": "code",
   "execution_count": 142,
   "id": "c8b4ecc6",
   "metadata": {},
   "outputs": [
    {
     "data": {
      "text/plain": [
       "3"
      ]
     },
     "execution_count": 142,
     "metadata": {},
     "output_type": "execute_result"
    }
   ],
   "source": [
    "s6.pop()"
   ]
  },
  {
   "cell_type": "code",
   "execution_count": 143,
   "id": "5ebbec93",
   "metadata": {},
   "outputs": [
    {
     "data": {
      "text/plain": [
       "{4, 5, 11, 22, 33, 99}"
      ]
     },
     "execution_count": 143,
     "metadata": {},
     "output_type": "execute_result"
    }
   ],
   "source": [
    "s6"
   ]
  },
  {
   "cell_type": "code",
   "execution_count": 144,
   "id": "637b5616",
   "metadata": {},
   "outputs": [
    {
     "data": {
      "text/plain": [
       "4"
      ]
     },
     "execution_count": 144,
     "metadata": {},
     "output_type": "execute_result"
    }
   ],
   "source": [
    "s6.pop()"
   ]
  },
  {
   "cell_type": "code",
   "execution_count": 145,
   "id": "796f982d",
   "metadata": {},
   "outputs": [],
   "source": [
    "# pop function will work on the hashing it created it will always start with lower hash and then go further to the upper hash "
   ]
  },
  {
   "cell_type": "code",
   "execution_count": 146,
   "id": "ff16f92c",
   "metadata": {},
   "outputs": [
    {
     "data": {
      "text/plain": [
       "{5, 11, 22, 33, 99}"
      ]
     },
     "execution_count": 146,
     "metadata": {},
     "output_type": "execute_result"
    }
   ],
   "source": [
    "s6"
   ]
  },
  {
   "cell_type": "code",
   "execution_count": 147,
   "id": "ec9415f2",
   "metadata": {},
   "outputs": [
    {
     "ename": "TypeError",
     "evalue": "set.pop() takes no arguments (1 given)",
     "output_type": "error",
     "traceback": [
      "\u001b[1;31m---------------------------------------------------------------------------\u001b[0m",
      "\u001b[1;31mTypeError\u001b[0m                                 Traceback (most recent call last)",
      "\u001b[1;32m~\\AppData\\Local\\Temp\\ipykernel_2688\\1173022928.py\u001b[0m in \u001b[0;36m<module>\u001b[1;34m\u001b[0m\n\u001b[1;32m----> 1\u001b[1;33m \u001b[0ms6\u001b[0m\u001b[1;33m.\u001b[0m\u001b[0mpop\u001b[0m\u001b[1;33m(\u001b[0m\u001b[1;36m11\u001b[0m\u001b[1;33m)\u001b[0m\u001b[1;33m\u001b[0m\u001b[1;33m\u001b[0m\u001b[0m\n\u001b[0m",
      "\u001b[1;31mTypeError\u001b[0m: set.pop() takes no arguments (1 given)"
     ]
    }
   ],
   "source": [
    "s6.pop(11) # inside the bracket we give the argument and it will not take any argument "
   ]
  },
  {
   "cell_type": "code",
   "execution_count": 148,
   "id": "651514e7",
   "metadata": {},
   "outputs": [],
   "source": [
    "s6.clear()"
   ]
  },
  {
   "cell_type": "code",
   "execution_count": 149,
   "id": "0d2034b5",
   "metadata": {},
   "outputs": [
    {
     "data": {
      "text/plain": [
       "set()"
      ]
     },
     "execution_count": 149,
     "metadata": {},
     "output_type": "execute_result"
    }
   ],
   "source": [
    "s6"
   ]
  },
  {
   "cell_type": "code",
   "execution_count": 150,
   "id": "1badb054",
   "metadata": {},
   "outputs": [
    {
     "ename": "KeyError",
     "evalue": "'pop from an empty set'",
     "output_type": "error",
     "traceback": [
      "\u001b[1;31m---------------------------------------------------------------------------\u001b[0m",
      "\u001b[1;31mKeyError\u001b[0m                                  Traceback (most recent call last)",
      "\u001b[1;32m~\\AppData\\Local\\Temp\\ipykernel_2688\\916793176.py\u001b[0m in \u001b[0;36m<module>\u001b[1;34m\u001b[0m\n\u001b[1;32m----> 1\u001b[1;33m \u001b[0ms6\u001b[0m\u001b[1;33m.\u001b[0m\u001b[0mpop\u001b[0m\u001b[1;33m(\u001b[0m\u001b[1;33m)\u001b[0m\u001b[1;33m\u001b[0m\u001b[1;33m\u001b[0m\u001b[0m\n\u001b[0m",
      "\u001b[1;31mKeyError\u001b[0m: 'pop from an empty set'"
     ]
    }
   ],
   "source": [
    "s6.pop()"
   ]
  },
  {
   "cell_type": "code",
   "execution_count": 151,
   "id": "bf2ae033",
   "metadata": {},
   "outputs": [],
   "source": [
    "s8 = {2,2,3,4,6,6,33,223,55,23,556,32,44,3234}\n",
    "s9 = {1,2,3,4,5,6}"
   ]
  },
  {
   "cell_type": "code",
   "execution_count": 153,
   "id": "2f266794",
   "metadata": {},
   "outputs": [
    {
     "data": {
      "text/plain": [
       "{23, 32, 33, 44, 55, 223, 556, 3234}"
      ]
     },
     "execution_count": 153,
     "metadata": {},
     "output_type": "execute_result"
    }
   ],
   "source": [
    "s8.difference(s9) # shows all the different element after comparing the s8 with s9"
   ]
  },
  {
   "cell_type": "code",
   "execution_count": 154,
   "id": "0ad7ecee",
   "metadata": {},
   "outputs": [
    {
     "data": {
      "text/plain": [
       "{1, 5}"
      ]
     },
     "execution_count": 154,
     "metadata": {},
     "output_type": "execute_result"
    }
   ],
   "source": [
    "s9.difference(s8)"
   ]
  },
  {
   "cell_type": "markdown",
   "id": "89be3d13",
   "metadata": {},
   "source": [
    "# Dictionaries "
   ]
  },
  {
   "cell_type": "code",
   "execution_count": 1,
   "id": "15b3dc62",
   "metadata": {},
   "outputs": [],
   "source": [
    "d = {}"
   ]
  },
  {
   "cell_type": "code",
   "execution_count": 2,
   "id": "fa4e7cea",
   "metadata": {},
   "outputs": [
    {
     "data": {
      "text/plain": [
       "dict"
      ]
     },
     "execution_count": 2,
     "metadata": {},
     "output_type": "execute_result"
    }
   ],
   "source": [
    "type(d)"
   ]
  },
  {
   "cell_type": "markdown",
   "id": "b6500587",
   "metadata": {},
   "source": [
    "set we will give the flat element but in dictionaries things work in a different way we say ..."
   ]
  },
  {
   "cell_type": "markdown",
   "id": "9779c104",
   "metadata": {},
   "source": [
    "in dict we will store the data in the key and value pair \n"
   ]
  },
  {
   "cell_type": "code",
   "execution_count": 3,
   "id": "beb509b4",
   "metadata": {},
   "outputs": [],
   "source": [
    "d1 = {'key': 'value'}"
   ]
  },
  {
   "cell_type": "code",
   "execution_count": 4,
   "id": "33437767",
   "metadata": {},
   "outputs": [
    {
     "data": {
      "text/plain": [
       "{'key': 'value'}"
      ]
     },
     "execution_count": 4,
     "metadata": {},
     "output_type": "execute_result"
    }
   ],
   "source": [
    "d1"
   ]
  },
  {
   "cell_type": "code",
   "execution_count": 5,
   "id": "12304469",
   "metadata": {},
   "outputs": [],
   "source": [
    "dic1 = {'name': 'krish' , 'email_id':'rohankalra2356@gmail.com' , 'class': 'first' , 'type': 'God'}"
   ]
  },
  {
   "cell_type": "code",
   "execution_count": 7,
   "id": "c6f5a433",
   "metadata": {},
   "outputs": [
    {
     "data": {
      "text/plain": [
       "{'name': 'krish',\n",
       " 'email_id': 'rohankalra2356@gmail.com',\n",
       " 'class': 'first',\n",
       " 'type': 'God'}"
      ]
     },
     "execution_count": 7,
     "metadata": {},
     "output_type": "execute_result"
    }
   ],
   "source": [
    "dic1"
   ]
  },
  {
   "cell_type": "code",
   "execution_count": 8,
   "id": "fa709afe",
   "metadata": {},
   "outputs": [
    {
     "data": {
      "text/plain": [
       "dict"
      ]
     },
     "execution_count": 8,
     "metadata": {},
     "output_type": "execute_result"
    }
   ],
   "source": [
    "type(dic1) # now it is not showing us set becoz we store the data in the form of key and value here "
   ]
  },
  {
   "cell_type": "code",
   "execution_count": 9,
   "id": "f5436722",
   "metadata": {},
   "outputs": [],
   "source": [
    "d2 = {'name': 'shudh' , 'name':'rohan'} # we have define the same key twice "
   ]
  },
  {
   "cell_type": "code",
   "execution_count": 10,
   "id": "40dcc5dc",
   "metadata": {},
   "outputs": [
    {
     "data": {
      "text/plain": [
       "{'name': 'rohan'}"
      ]
     },
     "execution_count": 10,
     "metadata": {},
     "output_type": "execute_result"
    }
   ],
   "source": [
    "d2 # whenever we create a dict our key should be unique if we create same key then it will take the neewly assign value only \n",
    "# just like in dict same word can assign to diff meaning but same word will not be repeated "
   ]
  },
  {
   "cell_type": "code",
   "execution_count": 11,
   "id": "6de2e3f0",
   "metadata": {},
   "outputs": [],
   "source": [
    "d3 = {223232: 'krish'}"
   ]
  },
  {
   "cell_type": "code",
   "execution_count": 12,
   "id": "f1d91d46",
   "metadata": {},
   "outputs": [
    {
     "data": {
      "text/plain": [
       "{223232: 'krish'}"
      ]
     },
     "execution_count": 12,
     "metadata": {},
     "output_type": "execute_result"
    }
   ],
   "source": [
    "d3 # yes it will work "
   ]
  },
  {
   "cell_type": "code",
   "execution_count": 13,
   "id": "2ef71185",
   "metadata": {},
   "outputs": [
    {
     "data": {
      "text/plain": [
       "{2344444.4444: 'krish'}"
      ]
     },
     "execution_count": 13,
     "metadata": {},
     "output_type": "execute_result"
    }
   ],
   "source": [
    "d4={2344444.4444 : 'krish'}\n",
    "d4 # yes it will work "
   ]
  },
  {
   "cell_type": "code",
   "execution_count": 14,
   "id": "5542097e",
   "metadata": {},
   "outputs": [],
   "source": [
    "d5 = {True: 'abc'}"
   ]
  },
  {
   "cell_type": "code",
   "execution_count": 15,
   "id": "e1772a42",
   "metadata": {},
   "outputs": [
    {
     "data": {
      "text/plain": [
       "{True: 'abc'}"
      ]
     },
     "execution_count": 15,
     "metadata": {},
     "output_type": "execute_result"
    }
   ],
   "source": [
    "d5 # so key can be string , int , float and boolean value .. it's working for everything "
   ]
  },
  {
   "cell_type": "code",
   "execution_count": 17,
   "id": "da97362b",
   "metadata": {},
   "outputs": [
    {
     "ename": "SyntaxError",
     "evalue": "invalid syntax (3974028444.py, line 1)",
     "output_type": "error",
     "traceback": [
      "\u001b[1;36m  File \u001b[1;32m\"C:\\Users\\Asus\\AppData\\Local\\Temp\\ipykernel_14496\\3974028444.py\"\u001b[1;36m, line \u001b[1;32m1\u001b[0m\n\u001b[1;33m    d6 = {@:'687'}# for special character it is not working\u001b[0m\n\u001b[1;37m          ^\u001b[0m\n\u001b[1;31mSyntaxError\u001b[0m\u001b[1;31m:\u001b[0m invalid syntax\n"
     ]
    }
   ],
   "source": [
    "d6 = {@:'687'}# for special character it is not working "
   ]
  },
  {
   "cell_type": "code",
   "execution_count": 18,
   "id": "b60b8d88",
   "metadata": {},
   "outputs": [
    {
     "ename": "TypeError",
     "evalue": "unhashable type: 'list'",
     "output_type": "error",
     "traceback": [
      "\u001b[1;31m---------------------------------------------------------------------------\u001b[0m",
      "\u001b[1;31mTypeError\u001b[0m                                 Traceback (most recent call last)",
      "\u001b[1;32m~\\AppData\\Local\\Temp\\ipykernel_14496\\2157066405.py\u001b[0m in \u001b[0;36m<module>\u001b[1;34m\u001b[0m\n\u001b[0;32m      1\u001b[0m \u001b[1;31m# let's take key as a list\u001b[0m\u001b[1;33m\u001b[0m\u001b[1;33m\u001b[0m\u001b[0m\n\u001b[1;32m----> 2\u001b[1;33m \u001b[0mdict1\u001b[0m \u001b[1;33m=\u001b[0m \u001b[1;33m{\u001b[0m\u001b[1;33m[\u001b[0m\u001b[1;36m1\u001b[0m\u001b[1;33m,\u001b[0m\u001b[1;36m2\u001b[0m\u001b[1;33m,\u001b[0m\u001b[1;36m3\u001b[0m\u001b[1;33m,\u001b[0m\u001b[1;36m4\u001b[0m\u001b[1;33m]\u001b[0m\u001b[1;33m:\u001b[0m\u001b[1;34m'abc'\u001b[0m\u001b[1;33m}\u001b[0m\u001b[1;33m\u001b[0m\u001b[1;33m\u001b[0m\u001b[0m\n\u001b[0m",
      "\u001b[1;31mTypeError\u001b[0m: unhashable type: 'list'"
     ]
    }
   ],
   "source": [
    "# let's take key as a list\n",
    "dict1 = {[1,2,3,4]:'abc'} # not working "
   ]
  },
  {
   "cell_type": "code",
   "execution_count": 19,
   "id": "6a9d57d5",
   "metadata": {},
   "outputs": [],
   "source": [
    "d9 = {(1,2,3,4):'abc'}# tuples are working list are not working due to hashable type "
   ]
  },
  {
   "cell_type": "code",
   "execution_count": 20,
   "id": "8297fdd2",
   "metadata": {},
   "outputs": [
    {
     "data": {
      "text/plain": [
       "{(1, 2, 3, 4): 'abc'}"
      ]
     },
     "execution_count": 20,
     "metadata": {},
     "output_type": "execute_result"
    }
   ],
   "source": [
    "d9"
   ]
  },
  {
   "cell_type": "code",
   "execution_count": 22,
   "id": "abbeec3b",
   "metadata": {},
   "outputs": [
    {
     "ename": "TypeError",
     "evalue": "unhashable type: 'set'",
     "output_type": "error",
     "traceback": [
      "\u001b[1;31m---------------------------------------------------------------------------\u001b[0m",
      "\u001b[1;31mTypeError\u001b[0m                                 Traceback (most recent call last)",
      "\u001b[1;32m~\\AppData\\Local\\Temp\\ipykernel_14496\\3247916548.py\u001b[0m in \u001b[0;36m<module>\u001b[1;34m\u001b[0m\n\u001b[1;32m----> 1\u001b[1;33m \u001b[0md3\u001b[0m \u001b[1;33m=\u001b[0m \u001b[1;33m{\u001b[0m\u001b[1;33m{\u001b[0m\u001b[1;36m1\u001b[0m\u001b[1;33m,\u001b[0m\u001b[1;36m2\u001b[0m\u001b[1;33m,\u001b[0m\u001b[1;36m3\u001b[0m\u001b[1;33m}\u001b[0m\u001b[1;33m:\u001b[0m \u001b[1;34m\"abx\"\u001b[0m\u001b[1;33m}\u001b[0m\u001b[1;33m\u001b[0m\u001b[1;33m\u001b[0m\u001b[0m\n\u001b[0m",
      "\u001b[1;31mTypeError\u001b[0m: unhashable type: 'set'"
     ]
    }
   ],
   "source": [
    "d3 = {{1,2,3}: \"abx\"} # again set are not working too "
   ]
  },
  {
   "cell_type": "code",
   "execution_count": 24,
   "id": "f8444242",
   "metadata": {},
   "outputs": [
    {
     "ename": "TypeError",
     "evalue": "unhashable type: 'dict'",
     "output_type": "error",
     "traceback": [
      "\u001b[1;31m---------------------------------------------------------------------------\u001b[0m",
      "\u001b[1;31mTypeError\u001b[0m                                 Traceback (most recent call last)",
      "\u001b[1;32m~\\AppData\\Local\\Temp\\ipykernel_14496\\3862406773.py\u001b[0m in \u001b[0;36m<module>\u001b[1;34m\u001b[0m\n\u001b[1;32m----> 1\u001b[1;33m \u001b[0md1\u001b[0m \u001b[1;33m=\u001b[0m \u001b[1;33m{\u001b[0m\u001b[1;33m{\u001b[0m\u001b[1;34m\"key\"\u001b[0m\u001b[1;33m:\u001b[0m\u001b[1;36m234\u001b[0m\u001b[1;33m}\u001b[0m\u001b[1;33m:\u001b[0m\u001b[1;34m'abc'\u001b[0m\u001b[1;33m}\u001b[0m\u001b[1;33m\u001b[0m\u001b[1;33m\u001b[0m\u001b[0m\n\u001b[0m",
      "\u001b[1;31mTypeError\u001b[0m: unhashable type: 'dict'"
     ]
    }
   ],
   "source": [
    "d1 = {{\"key\":234}:'abc'}"
   ]
  },
  {
   "cell_type": "code",
   "execution_count": 25,
   "id": "d70a6515",
   "metadata": {},
   "outputs": [],
   "source": [
    "# from collection point of view we can only take tuple as a key "
   ]
  },
  {
   "cell_type": "code",
   "execution_count": 26,
   "id": "d00bdb90",
   "metadata": {},
   "outputs": [],
   "source": [
    "d12 = {\"course name\":['data scinece' , 'web dev ' , 'java with DSA' , 'graphic designer']}"
   ]
  },
  {
   "cell_type": "code",
   "execution_count": 27,
   "id": "54318403",
   "metadata": {},
   "outputs": [],
   "source": [
    "# so we can see above that value as a list is allowed "
   ]
  },
  {
   "cell_type": "code",
   "execution_count": 28,
   "id": "283deff5",
   "metadata": {},
   "outputs": [],
   "source": [
    "d13 = {'key' : (1,2,3,4,5)} # so we can see values can be tuple too "
   ]
  },
  {
   "cell_type": "code",
   "execution_count": 29,
   "id": "690c49b9",
   "metadata": {},
   "outputs": [],
   "source": [
    "d14 = {'key':{1,2,3,4}} # so we can see values as a set is also working "
   ]
  },
  {
   "cell_type": "code",
   "execution_count": 30,
   "id": "9f9ad434",
   "metadata": {},
   "outputs": [],
   "source": [
    "d15 = {'key': {'key':123}} # so we can see values as a dict is also workin# \n",
    "# this is also known as nested dictionary"
   ]
  },
  {
   "cell_type": "code",
   "execution_count": 33,
   "id": "e8bc242b",
   "metadata": {},
   "outputs": [],
   "source": [
    "d16 = {\"batch_no\":['data science' , 'web dev' , 'java with DSA', 'system design'] , 'start_date':(28,14,23,26,34) , 'mentor_name':{'krish naik' , 'sudhanshu' , 'hitesh' , 'anurag' , 'naveen'}}"
   ]
  },
  {
   "cell_type": "code",
   "execution_count": 34,
   "id": "a4d6c496",
   "metadata": {},
   "outputs": [
    {
     "data": {
      "text/plain": [
       "{'batch_no': ['data science', 'web dev', 'java with DSA', 'system design'],\n",
       " 'start_date': (28, 14, 23, 26, 34),\n",
       " 'mentor_name': {'anurag', 'hitesh', 'krish naik', 'naveen', 'sudhanshu'}}"
      ]
     },
     "execution_count": 34,
     "metadata": {},
     "output_type": "execute_result"
    }
   ],
   "source": [
    "d16"
   ]
  },
  {
   "cell_type": "code",
   "execution_count": 35,
   "id": "660f3712",
   "metadata": {},
   "outputs": [],
   "source": [
    "# add a new key and value pair in the dictionary\n",
    "d16['timing'] = (8,8,8,8)"
   ]
  },
  {
   "cell_type": "code",
   "execution_count": 36,
   "id": "801e7c5d",
   "metadata": {},
   "outputs": [
    {
     "data": {
      "text/plain": [
       "{'batch_no': ['data science', 'web dev', 'java with DSA', 'system design'],\n",
       " 'start_date': (28, 14, 23, 26, 34),\n",
       " 'mentor_name': {'anurag', 'hitesh', 'krish naik', 'naveen', 'sudhanshu'},\n",
       " 'timing': (8, 8, 8, 8)}"
      ]
     },
     "execution_count": 36,
     "metadata": {},
     "output_type": "execute_result"
    }
   ],
   "source": [
    "d16"
   ]
  },
  {
   "cell_type": "code",
   "execution_count": 37,
   "id": "c4d5983e",
   "metadata": {},
   "outputs": [],
   "source": [
    "d16['ending date'] = [12,30,21,13]"
   ]
  },
  {
   "cell_type": "code",
   "execution_count": 38,
   "id": "8b7c0891",
   "metadata": {},
   "outputs": [
    {
     "data": {
      "text/plain": [
       "{'batch_no': ['data science', 'web dev', 'java with DSA', 'system design'],\n",
       " 'start_date': (28, 14, 23, 26, 34),\n",
       " 'mentor_name': {'anurag', 'hitesh', 'krish naik', 'naveen', 'sudhanshu'},\n",
       " 'timing': (8, 8, 8, 8),\n",
       " 'ending date': [12, 30, 21, 13]}"
      ]
     },
     "execution_count": 38,
     "metadata": {},
     "output_type": "execute_result"
    }
   ],
   "source": [
    "d16"
   ]
  },
  {
   "cell_type": "code",
   "execution_count": 39,
   "id": "9a5e3e4b",
   "metadata": {},
   "outputs": [],
   "source": [
    "# it will not add any data but it will get updated "
   ]
  },
  {
   "cell_type": "code",
   "execution_count": 43,
   "id": "173e03a0",
   "metadata": {},
   "outputs": [
    {
     "data": {
      "text/plain": [
       "['data science', 'web dev', 'java with DSA', 'system design']"
      ]
     },
     "execution_count": 43,
     "metadata": {},
     "output_type": "execute_result"
    }
   ],
   "source": [
    "# how to extract particular data set in the dict\n",
    "# dict stores the data in the form of the index but the key behaves like the index \n",
    "# in case of dict our key is behave like the dictionaries \n",
    "d16['batch_no']"
   ]
  },
  {
   "cell_type": "code",
   "execution_count": 44,
   "id": "ad7b561d",
   "metadata": {},
   "outputs": [
    {
     "data": {
      "text/plain": [
       "{'anurag', 'hitesh', 'krish naik', 'naveen', 'sudhanshu'}"
      ]
     },
     "execution_count": 44,
     "metadata": {},
     "output_type": "execute_result"
    }
   ],
   "source": [
    "d16['mentor_name']"
   ]
  },
  {
   "cell_type": "code",
   "execution_count": 45,
   "id": "408afcd6",
   "metadata": {},
   "outputs": [
    {
     "data": {
      "text/plain": [
       "set"
      ]
     },
     "execution_count": 45,
     "metadata": {},
     "output_type": "execute_result"
    }
   ],
   "source": [
    "type(d16['mentor_name'])"
   ]
  },
  {
   "cell_type": "code",
   "execution_count": 46,
   "id": "9a49d70a",
   "metadata": {},
   "outputs": [
    {
     "ename": "KeyError",
     "evalue": "'key'",
     "output_type": "error",
     "traceback": [
      "\u001b[1;31m---------------------------------------------------------------------------\u001b[0m",
      "\u001b[1;31mKeyError\u001b[0m                                  Traceback (most recent call last)",
      "\u001b[1;32m~\\AppData\\Local\\Temp\\ipykernel_14496\\10265528.py\u001b[0m in \u001b[0;36m<module>\u001b[1;34m\u001b[0m\n\u001b[1;32m----> 1\u001b[1;33m \u001b[0md16\u001b[0m\u001b[1;33m[\u001b[0m\u001b[1;34m'key'\u001b[0m\u001b[1;33m]\u001b[0m\u001b[1;33m\u001b[0m\u001b[1;33m\u001b[0m\u001b[0m\n\u001b[0m",
      "\u001b[1;31mKeyError\u001b[0m: 'key'"
     ]
    }
   ],
   "source": [
    "d16['key'] #let's search for something which is not availale it is going to give us the keyerror "
   ]
  },
  {
   "cell_type": "code",
   "execution_count": 47,
   "id": "4cdfe3d7",
   "metadata": {},
   "outputs": [],
   "source": [
    "d16['name'] = 'rohan'"
   ]
  },
  {
   "cell_type": "code",
   "execution_count": 48,
   "id": "01123537",
   "metadata": {},
   "outputs": [
    {
     "data": {
      "text/plain": [
       "{'batch_no': ['data science', 'web dev', 'java with DSA', 'system design'],\n",
       " 'start_date': (28, 14, 23, 26, 34),\n",
       " 'mentor_name': {'anurag', 'hitesh', 'krish naik', 'naveen', 'sudhanshu'},\n",
       " 'timing': (8, 8, 8, 8),\n",
       " 'ending date': [12, 30, 21, 13],\n",
       " 'name': 'rohan'}"
      ]
     },
     "execution_count": 48,
     "metadata": {},
     "output_type": "execute_result"
    }
   ],
   "source": [
    "d16"
   ]
  },
  {
   "cell_type": "code",
   "execution_count": 49,
   "id": "af34eb97",
   "metadata": {},
   "outputs": [
    {
     "data": {
      "text/plain": [
       "'rohan'"
      ]
     },
     "execution_count": 49,
     "metadata": {},
     "output_type": "execute_result"
    }
   ],
   "source": [
    "d16['name']"
   ]
  },
  {
   "cell_type": "code",
   "execution_count": 50,
   "id": "18142be7",
   "metadata": {},
   "outputs": [],
   "source": [
    "#can we convert them into the uppercases ??? "
   ]
  },
  {
   "cell_type": "code",
   "execution_count": 51,
   "id": "6f585000",
   "metadata": {},
   "outputs": [
    {
     "data": {
      "text/plain": [
       "'ROHAN'"
      ]
     },
     "execution_count": 51,
     "metadata": {},
     "output_type": "execute_result"
    }
   ],
   "source": [
    "d16['name'].upper()"
   ]
  },
  {
   "cell_type": "code",
   "execution_count": 54,
   "id": "0f5959ba",
   "metadata": {},
   "outputs": [],
   "source": [
    "d15  = {'key':{'name':'rohan' , 'age':25 , 'fathername':'ishwar lal'}}"
   ]
  },
  {
   "cell_type": "code",
   "execution_count": 55,
   "id": "0ef42143",
   "metadata": {},
   "outputs": [
    {
     "data": {
      "text/plain": [
       "{'key': {'name': 'rohan', 'age': 25, 'fathername': 'ishwar lal'}}"
      ]
     },
     "execution_count": 55,
     "metadata": {},
     "output_type": "execute_result"
    }
   ],
   "source": [
    "d15"
   ]
  },
  {
   "cell_type": "code",
   "execution_count": 56,
   "id": "a5cee420",
   "metadata": {},
   "outputs": [
    {
     "data": {
      "text/plain": [
       "25"
      ]
     },
     "execution_count": 56,
     "metadata": {},
     "output_type": "execute_result"
    }
   ],
   "source": [
    "d15['key']['age'] # how to extract the data when value is in the form of dict itself "
   ]
  },
  {
   "cell_type": "code",
   "execution_count": 58,
   "id": "23b81907",
   "metadata": {},
   "outputs": [
    {
     "data": {
      "text/plain": [
       "dict"
      ]
     },
     "execution_count": 58,
     "metadata": {},
     "output_type": "execute_result"
    }
   ],
   "source": [
    "type(d15['key']) # we need to fetch the value out of this dict"
   ]
  },
  {
   "cell_type": "code",
   "execution_count": 59,
   "id": "06c293d8",
   "metadata": {},
   "outputs": [],
   "source": [
    "d15['key1'] = 'abc'"
   ]
  },
  {
   "cell_type": "code",
   "execution_count": 60,
   "id": "5d03a13f",
   "metadata": {},
   "outputs": [
    {
     "data": {
      "text/plain": [
       "{'key': {'name': 'rohan', 'age': 25, 'fathername': 'ishwar lal'},\n",
       " 'key1': 'abc'}"
      ]
     },
     "execution_count": 60,
     "metadata": {},
     "output_type": "execute_result"
    }
   ],
   "source": [
    "d15"
   ]
  },
  {
   "cell_type": "code",
   "execution_count": 62,
   "id": "c17f8a05",
   "metadata": {},
   "outputs": [],
   "source": [
    "del d15['key1'] # delete any key in the dict"
   ]
  },
  {
   "cell_type": "code",
   "execution_count": 63,
   "id": "ebab62bd",
   "metadata": {},
   "outputs": [
    {
     "data": {
      "text/plain": [
       "{'key': {'name': 'rohan', 'age': 25, 'fathername': 'ishwar lal'}}"
      ]
     },
     "execution_count": 63,
     "metadata": {},
     "output_type": "execute_result"
    }
   ],
   "source": [
    "d15 "
   ]
  },
  {
   "cell_type": "code",
   "execution_count": 64,
   "id": "46bec7c5",
   "metadata": {},
   "outputs": [],
   "source": [
    "d15.clear()"
   ]
  },
  {
   "cell_type": "code",
   "execution_count": 65,
   "id": "042011de",
   "metadata": {},
   "outputs": [
    {
     "data": {
      "text/plain": [
       "{}"
      ]
     },
     "execution_count": 65,
     "metadata": {},
     "output_type": "execute_result"
    }
   ],
   "source": [
    "d15"
   ]
  },
  {
   "cell_type": "code",
   "execution_count": 66,
   "id": "1e835993",
   "metadata": {},
   "outputs": [
    {
     "data": {
      "text/plain": [
       "{'batch_no': ['data science', 'web dev', 'java with DSA', 'system design'],\n",
       " 'start_date': (28, 14, 23, 26, 34),\n",
       " 'mentor_name': {'anurag', 'hitesh', 'krish naik', 'naveen', 'sudhanshu'},\n",
       " 'timing': (8, 8, 8, 8),\n",
       " 'ending date': [12, 30, 21, 13],\n",
       " 'name': 'rohan'}"
      ]
     },
     "execution_count": 66,
     "metadata": {},
     "output_type": "execute_result"
    }
   ],
   "source": [
    "    d16"
   ]
  },
  {
   "cell_type": "code",
   "execution_count": 67,
   "id": "7a76d3bd",
   "metadata": {},
   "outputs": [
    {
     "data": {
      "text/plain": [
       "6"
      ]
     },
     "execution_count": 67,
     "metadata": {},
     "output_type": "execute_result"
    }
   ],
   "source": [
    "len(d16)"
   ]
  },
  {
   "cell_type": "code",
   "execution_count": 68,
   "id": "0c95d6cf",
   "metadata": {},
   "outputs": [
    {
     "data": {
      "text/plain": [
       "{'batch_no': ['data science', 'web dev', 'java with DSA', 'system design'],\n",
       " 'start_date': (28, 14, 23, 26, 34),\n",
       " 'mentor_name': {'anurag', 'hitesh', 'krish naik', 'naveen', 'sudhanshu'},\n",
       " 'timing': (8, 8, 8, 8),\n",
       " 'ending date': [12, 30, 21, 13],\n",
       " 'name': 'rohan'}"
      ]
     },
     "execution_count": 68,
     "metadata": {},
     "output_type": "execute_result"
    }
   ],
   "source": [
    "# how to ectract all the keys available in the dataset \n",
    "d16"
   ]
  },
  {
   "cell_type": "code",
   "execution_count": 70,
   "id": "338740bd",
   "metadata": {},
   "outputs": [
    {
     "data": {
      "text/plain": [
       "dict_keys(['batch_no', 'start_date', 'mentor_name', 'timing', 'ending date', 'name'])"
      ]
     },
     "execution_count": 70,
     "metadata": {},
     "output_type": "execute_result"
    }
   ],
   "source": [
    "d16.keys()"
   ]
  },
  {
   "cell_type": "code",
   "execution_count": 71,
   "id": "a5d3b945",
   "metadata": {},
   "outputs": [
    {
     "data": {
      "text/plain": [
       "dict_values([['data science', 'web dev', 'java with DSA', 'system design'], (28, 14, 23, 26, 34), {'naveen', 'hitesh', 'sudhanshu', 'anurag', 'krish naik'}, (8, 8, 8, 8), [12, 30, 21, 13], 'rohan'])"
      ]
     },
     "execution_count": 71,
     "metadata": {},
     "output_type": "execute_result"
    }
   ],
   "source": [
    "d16.values()"
   ]
  },
  {
   "cell_type": "code",
   "execution_count": 72,
   "id": "86d3cc59",
   "metadata": {},
   "outputs": [
    {
     "data": {
      "text/plain": [
       "[['data science', 'web dev', 'java with DSA', 'system design'],\n",
       " (28, 14, 23, 26, 34),\n",
       " {'anurag', 'hitesh', 'krish naik', 'naveen', 'sudhanshu'},\n",
       " (8, 8, 8, 8),\n",
       " [12, 30, 21, 13],\n",
       " 'rohan']"
      ]
     },
     "execution_count": 72,
     "metadata": {},
     "output_type": "execute_result"
    }
   ],
   "source": [
    "# can we convert the data we got into entire list ? , the data of keys and values (output data)\n",
    "list(d16.values())"
   ]
  },
  {
   "cell_type": "code",
   "execution_count": 73,
   "id": "4cc7facb",
   "metadata": {},
   "outputs": [
    {
     "data": {
      "text/plain": [
       "['batch_no', 'start_date', 'mentor_name', 'timing', 'ending date', 'name']"
      ]
     },
     "execution_count": 73,
     "metadata": {},
     "output_type": "execute_result"
    }
   ],
   "source": [
    "list(d16.keys()) "
   ]
  },
  {
   "cell_type": "code",
   "execution_count": 74,
   "id": "10ae53a0",
   "metadata": {},
   "outputs": [
    {
     "data": {
      "text/plain": [
       "dict_items([('batch_no', ['data science', 'web dev', 'java with DSA', 'system design']), ('start_date', (28, 14, 23, 26, 34)), ('mentor_name', {'naveen', 'hitesh', 'sudhanshu', 'anurag', 'krish naik'}), ('timing', (8, 8, 8, 8)), ('ending date', [12, 30, 21, 13]), ('name', 'rohan')])"
      ]
     },
     "execution_count": 74,
     "metadata": {},
     "output_type": "execute_result"
    }
   ],
   "source": [
    "# can we extract a list of keys and value both \n",
    "d16.items()"
   ]
  },
  {
   "cell_type": "code",
   "execution_count": 75,
   "id": "88de1b35",
   "metadata": {},
   "outputs": [
    {
     "data": {
      "text/plain": [
       "[('batch_no', ['data science', 'web dev', 'java with DSA', 'system design']),\n",
       " ('start_date', (28, 14, 23, 26, 34)),\n",
       " ('mentor_name', {'anurag', 'hitesh', 'krish naik', 'naveen', 'sudhanshu'}),\n",
       " ('timing', (8, 8, 8, 8)),\n",
       " ('ending date', [12, 30, 21, 13]),\n",
       " ('name', 'rohan')]"
      ]
     },
     "execution_count": 75,
     "metadata": {},
     "output_type": "execute_result"
    }
   ],
   "source": [
    "list(d16.items())"
   ]
  },
  {
   "cell_type": "code",
   "execution_count": 76,
   "id": "12d02df6",
   "metadata": {},
   "outputs": [],
   "source": [
    "# it is returning us the data of keys and values together in the form of tuples here we can see we have 6 tuples means 6 pair of key and vaalue ."
   ]
  },
  {
   "cell_type": "code",
   "execution_count": 77,
   "id": "c67ea49d",
   "metadata": {},
   "outputs": [
    {
     "data": {
      "text/plain": [
       "{'batch_no': ['data science', 'web dev', 'java with DSA', 'system design'],\n",
       " 'start_date': (28, 14, 23, 26, 34),\n",
       " 'mentor_name': {'anurag', 'hitesh', 'krish naik', 'naveen', 'sudhanshu'},\n",
       " 'timing': (8, 8, 8, 8),\n",
       " 'ending date': [12, 30, 21, 13],\n",
       " 'name': 'rohan'}"
      ]
     },
     "execution_count": 77,
     "metadata": {},
     "output_type": "execute_result"
    }
   ],
   "source": [
    "d16 # we want to make a replica of it "
   ]
  },
  {
   "cell_type": "code",
   "execution_count": 81,
   "id": "f42dcbd1",
   "metadata": {},
   "outputs": [],
   "source": [
    "d17 = d16.copy() # in this case the task done on d17 doen't effet the d17 any way let's see below "
   ]
  },
  {
   "cell_type": "code",
   "execution_count": 82,
   "id": "b23199c7",
   "metadata": {},
   "outputs": [
    {
     "data": {
      "text/plain": [
       "{'batch_no': ['data science', 'web dev', 'java with DSA', 'system design'],\n",
       " 'start_date': (28, 14, 23, 26, 34),\n",
       " 'mentor_name': {'anurag', 'hitesh', 'krish naik', 'naveen', 'sudhanshu'},\n",
       " 'timing': (8, 8, 8, 8),\n",
       " 'ending date': [12, 30, 21, 13],\n",
       " 'name': 'rohan'}"
      ]
     },
     "execution_count": 82,
     "metadata": {},
     "output_type": "execute_result"
    }
   ],
   "source": [
    "d17"
   ]
  },
  {
   "cell_type": "code",
   "execution_count": 83,
   "id": "b56bba1a",
   "metadata": {},
   "outputs": [],
   "source": [
    "# another way \n",
    "d18 = d16 # as we caan seen below in this method of copy if we do any certain task with d16 then it also effect the d18"
   ]
  },
  {
   "cell_type": "code",
   "execution_count": 84,
   "id": "a5f10fba",
   "metadata": {},
   "outputs": [
    {
     "data": {
      "text/plain": [
       "{'batch_no': ['data science', 'web dev', 'java with DSA', 'system design'],\n",
       " 'start_date': (28, 14, 23, 26, 34),\n",
       " 'mentor_name': {'anurag', 'hitesh', 'krish naik', 'naveen', 'sudhanshu'},\n",
       " 'timing': (8, 8, 8, 8),\n",
       " 'ending date': [12, 30, 21, 13],\n",
       " 'name': 'rohan'}"
      ]
     },
     "execution_count": 84,
     "metadata": {},
     "output_type": "execute_result"
    }
   ],
   "source": [
    "d16"
   ]
  },
  {
   "cell_type": "code",
   "execution_count": 86,
   "id": "a6b964c3",
   "metadata": {},
   "outputs": [],
   "source": [
    "d16['keys']='value'"
   ]
  },
  {
   "cell_type": "code",
   "execution_count": 87,
   "id": "e44f19e0",
   "metadata": {},
   "outputs": [
    {
     "data": {
      "text/plain": [
       "{'batch_no': ['data science', 'web dev', 'java with DSA', 'system design'],\n",
       " 'start_date': (28, 14, 23, 26, 34),\n",
       " 'mentor_name': {'anurag', 'hitesh', 'krish naik', 'naveen', 'sudhanshu'},\n",
       " 'timing': (8, 8, 8, 8),\n",
       " 'ending date': [12, 30, 21, 13],\n",
       " 'name': 'rohan',\n",
       " 'keys': 'value'}"
      ]
     },
     "execution_count": 87,
     "metadata": {},
     "output_type": "execute_result"
    }
   ],
   "source": [
    "d16"
   ]
  },
  {
   "cell_type": "code",
   "execution_count": 88,
   "id": "1c702520",
   "metadata": {},
   "outputs": [
    {
     "data": {
      "text/plain": [
       "{'batch_no': ['data science', 'web dev', 'java with DSA', 'system design'],\n",
       " 'start_date': (28, 14, 23, 26, 34),\n",
       " 'mentor_name': {'anurag', 'hitesh', 'krish naik', 'naveen', 'sudhanshu'},\n",
       " 'timing': (8, 8, 8, 8),\n",
       " 'ending date': [12, 30, 21, 13],\n",
       " 'name': 'rohan',\n",
       " 'keys': 'value'}"
      ]
     },
     "execution_count": 88,
     "metadata": {},
     "output_type": "execute_result"
    }
   ],
   "source": [
    "d18 # the new assign values get added to d18 by itself (which we added to d16)"
   ]
  },
  {
   "cell_type": "code",
   "execution_count": 89,
   "id": "2b18e04f",
   "metadata": {},
   "outputs": [
    {
     "data": {
      "text/plain": [
       "{'batch_no': ['data science', 'web dev', 'java with DSA', 'system design'],\n",
       " 'start_date': (28, 14, 23, 26, 34),\n",
       " 'mentor_name': {'anurag', 'hitesh', 'krish naik', 'naveen', 'sudhanshu'},\n",
       " 'timing': (8, 8, 8, 8),\n",
       " 'ending date': [12, 30, 21, 13],\n",
       " 'name': 'rohan'}"
      ]
     },
     "execution_count": 89,
     "metadata": {},
     "output_type": "execute_result"
    }
   ],
   "source": [
    "d17 # here the newly added value in d16 are not present here "
   ]
  },
  {
   "cell_type": "code",
   "execution_count": 93,
   "id": "aa9cb088",
   "metadata": {},
   "outputs": [],
   "source": [
    "del d16['name']"
   ]
  },
  {
   "cell_type": "code",
   "execution_count": 94,
   "id": "0f8d5955",
   "metadata": {},
   "outputs": [
    {
     "data": {
      "text/plain": [
       "{'batch_no': ['data science', 'web dev', 'java with DSA', 'system design'],\n",
       " 'start_date': (28, 14, 23, 26, 34),\n",
       " 'mentor_name': {'anurag', 'hitesh', 'krish naik', 'naveen', 'sudhanshu'},\n",
       " 'timing': (8, 8, 8, 8),\n",
       " 'ending date': [12, 30, 21, 13]}"
      ]
     },
     "execution_count": 94,
     "metadata": {},
     "output_type": "execute_result"
    }
   ],
   "source": [
    "d16"
   ]
  },
  {
   "cell_type": "code",
   "execution_count": 95,
   "id": "90de65a5",
   "metadata": {},
   "outputs": [
    {
     "data": {
      "text/plain": [
       "{'batch_no': ['data science', 'web dev', 'java with DSA', 'system design'],\n",
       " 'start_date': (28, 14, 23, 26, 34),\n",
       " 'mentor_name': {'anurag', 'hitesh', 'krish naik', 'naveen', 'sudhanshu'},\n",
       " 'timing': (8, 8, 8, 8),\n",
       " 'ending date': [12, 30, 21, 13],\n",
       " 'name': 'rohan'}"
      ]
     },
     "execution_count": 95,
     "metadata": {},
     "output_type": "execute_result"
    }
   ],
   "source": [
    " d18 # name is not present here "
   ]
  },
  {
   "cell_type": "code",
   "execution_count": 97,
   "id": "66f588e9",
   "metadata": {},
   "outputs": [
    {
     "data": {
      "text/plain": [
       "{'batch_no': ['data science', 'web dev', 'java with DSA', 'system design'],\n",
       " 'start_date': (28, 14, 23, 26, 34),\n",
       " 'mentor_name': {'anurag', 'hitesh', 'krish naik', 'naveen', 'sudhanshu'},\n",
       " 'timing': (8, 8, 8, 8),\n",
       " 'ending date': [12, 30, 21, 13],\n",
       " 'name': 'rohan'}"
      ]
     },
     "execution_count": 97,
     "metadata": {},
     "output_type": "execute_result"
    }
   ],
   "source": [
    "d17 # name is present "
   ]
  },
  {
   "cell_type": "code",
   "execution_count": 99,
   "id": "0e5ac25e",
   "metadata": {},
   "outputs": [
    {
     "data": {
      "text/plain": [
       "(8, 8, 8, 8)"
      ]
     },
     "execution_count": 99,
     "metadata": {},
     "output_type": "execute_result"
    }
   ],
   "source": [
    "d16.pop('timing')"
   ]
  },
  {
   "cell_type": "code",
   "execution_count": 100,
   "id": "725fb98d",
   "metadata": {},
   "outputs": [
    {
     "data": {
      "text/plain": [
       "{'batch_no': ['data science', 'web dev', 'java with DSA', 'system design'],\n",
       " 'start_date': (28, 14, 23, 26, 34),\n",
       " 'mentor_name': {'anurag', 'hitesh', 'krish naik', 'naveen', 'sudhanshu'},\n",
       " 'ending date': [12, 30, 21, 13]}"
      ]
     },
     "execution_count": 100,
     "metadata": {},
     "output_type": "execute_result"
    }
   ],
   "source": [
    "d16 # timing is deleted "
   ]
  },
  {
   "cell_type": "code",
   "execution_count": 101,
   "id": "6b57d650",
   "metadata": {},
   "outputs": [
    {
     "data": {
      "text/plain": [
       "{'anurag', 'hitesh', 'krish naik', 'naveen', 'sudhanshu'}"
      ]
     },
     "execution_count": 101,
     "metadata": {},
     "output_type": "execute_result"
    }
   ],
   "source": [
    "d16.pop('mentor_name' , 'ending_date') # delete one data at one time "
   ]
  },
  {
   "cell_type": "code",
   "execution_count": 102,
   "id": "9d8d87af",
   "metadata": {},
   "outputs": [
    {
     "data": {
      "text/plain": [
       "{'batch_no': ['data science', 'web dev', 'java with DSA', 'system design'],\n",
       " 'start_date': (28, 14, 23, 26, 34),\n",
       " 'ending date': [12, 30, 21, 13]}"
      ]
     },
     "execution_count": 102,
     "metadata": {},
     "output_type": "execute_result"
    }
   ],
   "source": [
    "d16"
   ]
  },
  {
   "cell_type": "code",
   "execution_count": 103,
   "id": "41b1e7c6",
   "metadata": {},
   "outputs": [
    {
     "data": {
      "text/plain": [
       "{}"
      ]
     },
     "execution_count": 103,
     "metadata": {},
     "output_type": "execute_result"
    }
   ],
   "source": [
    "d"
   ]
  },
  {
   "cell_type": "code",
   "execution_count": 106,
   "id": "aca8e764",
   "metadata": {},
   "outputs": [
    {
     "data": {
      "text/plain": [
       "{1: ('a', 'b', 'c'), 2: ('a', 'b', 'c'), 3: ('a', 'b', 'c')}"
      ]
     },
     "execution_count": 106,
     "metadata": {},
     "output_type": "execute_result"
    }
   ],
   "source": [
    "d.fromkeys((1,2,3),('a','b','c')) # we can pass (1,2,3) even as a list # new dict formed \n",
    "#the 2nd parameter we passes it considered it as a value "
   ]
  },
  {
   "cell_type": "code",
   "execution_count": 109,
   "id": "740012ba",
   "metadata": {},
   "outputs": [],
   "source": [
    "d19 = {'key1':'value1' , 'key2':'value2'}"
   ]
  },
  {
   "cell_type": "code",
   "execution_count": 110,
   "id": "ee979dc2",
   "metadata": {},
   "outputs": [
    {
     "data": {
      "text/plain": [
       "{'key1': 'value1', 'key2': 'value2'}"
      ]
     },
     "execution_count": 110,
     "metadata": {},
     "output_type": "execute_result"
    }
   ],
   "source": [
    "d19"
   ]
  },
  {
   "cell_type": "code",
   "execution_count": 111,
   "id": "14e3ffb0",
   "metadata": {},
   "outputs": [],
   "source": [
    "d20 = {'key3':'value3', 'key4':'value4'}"
   ]
  },
  {
   "cell_type": "code",
   "execution_count": 112,
   "id": "1c067f2d",
   "metadata": {},
   "outputs": [
    {
     "data": {
      "text/plain": [
       "({'key1': 'value1', 'key2': 'value2'}, {'key3': 'value3', 'key4': 'value4'})"
      ]
     },
     "execution_count": 112,
     "metadata": {},
     "output_type": "execute_result"
    }
   ],
   "source": [
    "# let's keep both the dict in single tuples\n",
    "(d19 , d20)"
   ]
  },
  {
   "cell_type": "code",
   "execution_count": 113,
   "id": "8d6f7944",
   "metadata": {},
   "outputs": [],
   "source": [
    "d19.update(d20) #update d 19 with respect to d20 we have all the values of d19 but it has taken an update from d20"
   ]
  },
  {
   "cell_type": "code",
   "execution_count": 114,
   "id": "0f777937",
   "metadata": {},
   "outputs": [
    {
     "data": {
      "text/plain": [
       "{'key1': 'value1', 'key2': 'value2', 'key3': 'value3', 'key4': 'value4'}"
      ]
     },
     "execution_count": 114,
     "metadata": {},
     "output_type": "execute_result"
    }
   ],
   "source": [
    "d19"
   ]
  },
  {
   "cell_type": "code",
   "execution_count": 115,
   "id": "56330d74",
   "metadata": {},
   "outputs": [
    {
     "data": {
      "text/plain": [
       "{'key3': 'value3', 'key4': 'value4'}"
      ]
     },
     "execution_count": 115,
     "metadata": {},
     "output_type": "execute_result"
    }
   ],
   "source": [
    "d20 # d20 will remain same "
   ]
  },
  {
   "cell_type": "code",
   "execution_count": 117,
   "id": "847ab6ab",
   "metadata": {},
   "outputs": [],
   "source": [
    "d20.update(d19)"
   ]
  },
  {
   "cell_type": "code",
   "execution_count": 118,
   "id": "9e01c503",
   "metadata": {},
   "outputs": [
    {
     "data": {
      "text/plain": [
       "{'key3': 'value3', 'key4': 'value4', 'key1': 'value1', 'key2': 'value2'}"
      ]
     },
     "execution_count": 118,
     "metadata": {},
     "output_type": "execute_result"
    }
   ],
   "source": [
    "d20"
   ]
  },
  {
   "cell_type": "code",
   "execution_count": 119,
   "id": "8ff71890",
   "metadata": {},
   "outputs": [],
   "source": [
    "d20.get('sudh') # doesn't even exist"
   ]
  },
  {
   "cell_type": "code",
   "execution_count": 120,
   "id": "34f3696f",
   "metadata": {},
   "outputs": [
    {
     "data": {
      "text/plain": [
       "'value3'"
      ]
     },
     "execution_count": 120,
     "metadata": {},
     "output_type": "execute_result"
    }
   ],
   "source": [
    "d20.get('key3') # giving the value of key3"
   ]
  },
  {
   "cell_type": "code",
   "execution_count": 121,
   "id": "49c3f189",
   "metadata": {},
   "outputs": [
    {
     "data": {
      "text/plain": [
       "'value3'"
      ]
     },
     "execution_count": 121,
     "metadata": {},
     "output_type": "execute_result"
    }
   ],
   "source": [
    "d20['key3']"
   ]
  },
  {
   "cell_type": "code",
   "execution_count": 123,
   "id": "eb031c22",
   "metadata": {},
   "outputs": [
    {
     "ename": "KeyError",
     "evalue": "'shudh'",
     "output_type": "error",
     "traceback": [
      "\u001b[1;31m---------------------------------------------------------------------------\u001b[0m",
      "\u001b[1;31mKeyError\u001b[0m                                  Traceback (most recent call last)",
      "\u001b[1;32m~\\AppData\\Local\\Temp\\ipykernel_14496\\757551515.py\u001b[0m in \u001b[0;36m<module>\u001b[1;34m\u001b[0m\n\u001b[1;32m----> 1\u001b[1;33m \u001b[0md20\u001b[0m\u001b[1;33m[\u001b[0m\u001b[1;34m'shudh'\u001b[0m\u001b[1;33m]\u001b[0m \u001b[1;31m# it is giving us the error while get never give us the error\u001b[0m\u001b[1;33m\u001b[0m\u001b[1;33m\u001b[0m\u001b[0m\n\u001b[0m",
      "\u001b[1;31mKeyError\u001b[0m: 'shudh'"
     ]
    }
   ],
   "source": [
    "d20['shudh'] # it is giving us the error while get never give us the error "
   ]
  },
  {
   "cell_type": "markdown",
   "id": "5530c239",
   "metadata": {},
   "source": [
    "dictionary comprehension --__>>>> running for loop and creating final output as a dictionary "
   ]
  },
  {
   "cell_type": "markdown",
   "id": "326cfe79",
   "metadata": {},
   "source": [
    "let's create a dict where keys are 1 to 10 and values are sq of each no"
   ]
  },
  {
   "cell_type": "code",
   "execution_count": 126,
   "id": "105368a1",
   "metadata": {},
   "outputs": [
    {
     "data": {
      "text/plain": [
       "{1: 1, 2: 4, 3: 9, 4: 16, 5: 25, 6: 36, 7: 49, 8: 64, 9: 81, 10: 100}"
      ]
     },
     "execution_count": 126,
     "metadata": {},
     "output_type": "execute_result"
    }
   ],
   "source": [
    "{i : i **2 for i in range(1,11)} # return i:i**2 , iterate through range with for i in range(1,11) then return i:i**2"
   ]
  },
  {
   "cell_type": "code",
   "execution_count": 127,
   "id": "776b1126",
   "metadata": {},
   "outputs": [
    {
     "data": {
      "text/plain": [
       "{1: 4, 2: 5, 3: 6, 4: 7, 5: 8, 6: 9, 7: 10, 8: 11, 9: 12, 10: 13}"
      ]
     },
     "execution_count": 127,
     "metadata": {},
     "output_type": "execute_result"
    }
   ],
   "source": [
    "{i:i+3 for i in range(1,11)}"
   ]
  },
  {
   "cell_type": "code",
   "execution_count": 133,
   "id": "1f8e9a01",
   "metadata": {},
   "outputs": [],
   "source": [
    "import math\n",
    "d21 = { i: math.log(i) for i in range(1,11)}"
   ]
  },
  {
   "cell_type": "code",
   "execution_count": 129,
   "id": "27a7a7c7",
   "metadata": {},
   "outputs": [
    {
     "data": {
      "text/plain": [
       "{'batch_no': ['data science', 'web dev', 'java with DSA', 'system design'],\n",
       " 'start_date': (28, 14, 23, 26, 34),\n",
       " 'ending date': [12, 30, 21, 13]}"
      ]
     },
     "execution_count": 129,
     "metadata": {},
     "output_type": "execute_result"
    }
   ],
   "source": [
    "d16"
   ]
  },
  {
   "cell_type": "code",
   "execution_count": 131,
   "id": "4be8f2bc",
   "metadata": {},
   "outputs": [
    {
     "data": {
      "text/plain": [
       "True"
      ]
     },
     "execution_count": 131,
     "metadata": {},
     "output_type": "execute_result"
    }
   ],
   "source": [
    "# to check if batchname is key in dict\n",
    "'batch_no' in d16"
   ]
  },
  {
   "cell_type": "code",
   "execution_count": 134,
   "id": "9dd5cb26",
   "metadata": {},
   "outputs": [
    {
     "data": {
      "text/plain": [
       "{1: 0.0,\n",
       " 2: 0.6931471805599453,\n",
       " 3: 1.0986122886681098,\n",
       " 4: 1.3862943611198906,\n",
       " 5: 1.6094379124341003,\n",
       " 6: 1.791759469228055,\n",
       " 7: 1.9459101490553132,\n",
       " 8: 2.0794415416798357,\n",
       " 9: 2.1972245773362196,\n",
       " 10: 2.302585092994046}"
      ]
     },
     "execution_count": 134,
     "metadata": {},
     "output_type": "execute_result"
    }
   ],
   "source": [
    "d21"
   ]
  },
  {
   "cell_type": "code",
   "execution_count": 141,
   "id": "86c40b0f",
   "metadata": {},
   "outputs": [
    {
     "data": {
      "text/plain": [
       "dict_keys([1, 2, 3, 4, 5, 6, 7, 8, 9, 10])"
      ]
     },
     "execution_count": 141,
     "metadata": {},
     "output_type": "execute_result"
    }
   ],
   "source": [
    "d21.keys()"
   ]
  },
  {
   "cell_type": "code",
   "execution_count": 142,
   "id": "595596db",
   "metadata": {},
   "outputs": [
    {
     "name": "stdout",
     "output_type": "stream",
     "text": [
      "0.6931471805599453\n",
      "1.3862943611198906\n",
      "1.791759469228055\n",
      "2.0794415416798357\n",
      "2.302585092994046\n"
     ]
    }
   ],
   "source": [
    "# filter out those value where keys are even number \n",
    "for i in d21.keys():\n",
    "    if i%2==0:\n",
    "        print(d21[i])"
   ]
  },
  {
   "cell_type": "code",
   "execution_count": null,
   "id": "fef90104",
   "metadata": {},
   "outputs": [],
   "source": []
  }
 ],
 "metadata": {
  "kernelspec": {
   "display_name": "Python 3 (ipykernel)",
   "language": "python",
   "name": "python3"
  },
  "language_info": {
   "codemirror_mode": {
    "name": "ipython",
    "version": 3
   },
   "file_extension": ".py",
   "mimetype": "text/x-python",
   "name": "python",
   "nbconvert_exporter": "python",
   "pygments_lexer": "ipython3",
   "version": "3.9.13"
  }
 },
 "nbformat": 4,
 "nbformat_minor": 5
}
