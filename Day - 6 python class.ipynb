{
 "cells": [
  {
   "cell_type": "markdown",
   "id": "626c7cb4",
   "metadata": {},
   "source": [
    "# Day-6 python class "
   ]
  },
  {
   "cell_type": "markdown",
   "id": "acd399b2",
   "metadata": {},
   "source": [
    "# Functions "
   ]
  },
  {
   "cell_type": "markdown",
   "id": "acf9c41a",
   "metadata": {},
   "source": [
    "------->>>>>very very imp topic"
   ]
  },
  {
   "cell_type": "code",
   "execution_count": 1,
   "id": "1fdba17f",
   "metadata": {},
   "outputs": [
    {
     "name": "stdout",
     "output_type": "stream",
     "text": [
      "this is my program\n"
     ]
    }
   ],
   "source": [
    "print(\"this is my program\")"
   ]
  },
  {
   "cell_type": "code",
   "execution_count": 2,
   "id": "f0c7c27b",
   "metadata": {},
   "outputs": [
    {
     "data": {
      "text/plain": [
       "4"
      ]
     },
     "execution_count": 2,
     "metadata": {},
     "output_type": "execute_result"
    }
   ],
   "source": [
    "l = [1,2,3,4]\n",
    "len(l)"
   ]
  },
  {
   "cell_type": "markdown",
   "id": "1a857b8e",
   "metadata": {},
   "source": [
    "we have learnt so many of function so far . Now these function are basically inbuilt function someone has created these function and we are using these function to do some certain tasks and let's see how we are able to make this type of function by our own to do certain tasks "
   ]
  },
  {
   "cell_type": "markdown",
   "id": "b310f4a5",
   "metadata": {},
   "source": [
    "let's see how we can create our own function ...."
   ]
  },
  {
   "cell_type": "markdown",
   "id": "1cfc41bb",
   "metadata": {},
   "source": [
    "whenever we are creating a function we need to call the function by a keyword (def)"
   ]
  },
  {
   "cell_type": "code",
   "execution_count": 3,
   "id": "405f8b22",
   "metadata": {},
   "outputs": [],
   "source": [
    "# def is nothing but definition and we are giving the definition of a function "
   ]
  },
  {
   "cell_type": "code",
   "execution_count": 4,
   "id": "a8adf27b",
   "metadata": {},
   "outputs": [
    {
     "ename": "SyntaxError",
     "evalue": "invalid syntax (1800053262.py, line 1)",
     "output_type": "error",
     "traceback": [
      "\u001b[1;36m  File \u001b[1;32m\"C:\\Users\\Asus\\AppData\\Local\\Temp\\ipykernel_11612\\1800053262.py\"\u001b[1;36m, line \u001b[1;32m1\u001b[0m\n\u001b[1;33m    def test()\u001b[0m\n\u001b[1;37m              ^\u001b[0m\n\u001b[1;31mSyntaxError\u001b[0m\u001b[1;31m:\u001b[0m invalid syntax\n"
     ]
    }
   ],
   "source": [
    "def test()"
   ]
  },
  {
   "cell_type": "code",
   "execution_count": 5,
   "id": "3566da41",
   "metadata": {},
   "outputs": [],
   "source": [
    "# here above test() is nothing but the function name we have given so far "
   ]
  },
  {
   "cell_type": "code",
   "execution_count": 15,
   "id": "cca7d7cd",
   "metadata": {},
   "outputs": [
    {
     "ename": "IndentationError",
     "evalue": "expected an indented block (3378664645.py, line 2)",
     "output_type": "error",
     "traceback": [
      "\u001b[1;36m  File \u001b[1;32m\"C:\\Users\\Asus\\AppData\\Local\\Temp\\ipykernel_11612\\3378664645.py\"\u001b[1;36m, line \u001b[1;32m2\u001b[0m\n\u001b[1;33m    # here we are getting an error because we don't clear that what this function is supposed to do ??\u001b[0m\n\u001b[1;37m                                                                                                      ^\u001b[0m\n\u001b[1;31mIndentationError\u001b[0m\u001b[1;31m:\u001b[0m expected an indented block\n"
     ]
    }
   ],
   "source": [
    "def test():\n",
    "                     # here we are getting an error because we don't clear that what this function is supposed to do ??"
   ]
  },
  {
   "cell_type": "code",
   "execution_count": 16,
   "id": "004556b6",
   "metadata": {},
   "outputs": [],
   "source": [
    "def test():  # pass means pass the entire definition it's fine even we are not giving \n",
    "    pass"
   ]
  },
  {
   "cell_type": "code",
   "execution_count": 17,
   "id": "14815a51",
   "metadata": {},
   "outputs": [],
   "source": [
    "def test1():  # def is intialization of the function \n",
    "    print('this is my very very first function')"
   ]
  },
  {
   "cell_type": "code",
   "execution_count": 20,
   "id": "8fcb1b70",
   "metadata": {},
   "outputs": [
    {
     "name": "stdout",
     "output_type": "stream",
     "text": [
      "this is my very very first function\n"
     ]
    }
   ],
   "source": [
    "test1() # calling the function #"
   ]
  },
  {
   "cell_type": "code",
   "execution_count": 21,
   "id": "3dd78d24",
   "metadata": {},
   "outputs": [],
   "source": [
    "# whatever we have written in the definition as a function we will get as a output .."
   ]
  },
  {
   "cell_type": "code",
   "execution_count": 22,
   "id": "5df64e79",
   "metadata": {},
   "outputs": [],
   "source": [
    "# major advantage of writing a function is --->>> it always tries to increase the usablity"
   ]
  },
  {
   "cell_type": "code",
   "execution_count": 23,
   "id": "45f2fd62",
   "metadata": {},
   "outputs": [
    {
     "name": "stdout",
     "output_type": "stream",
     "text": [
      "this is my very very first function\n"
     ]
    }
   ],
   "source": [
    "test1()"
   ]
  },
  {
   "cell_type": "code",
   "execution_count": 26,
   "id": "30b544fb",
   "metadata": {},
   "outputs": [
    {
     "name": "stdout",
     "output_type": "stream",
     "text": [
      "this is my very very first function\n"
     ]
    },
    {
     "ename": "TypeError",
     "evalue": "unsupported operand type(s) for +: 'NoneType' and 'str'",
     "output_type": "error",
     "traceback": [
      "\u001b[1;31m---------------------------------------------------------------------------\u001b[0m",
      "\u001b[1;31mTypeError\u001b[0m                                 Traceback (most recent call last)",
      "\u001b[1;32m~\\AppData\\Local\\Temp\\ipykernel_11612\\1242607990.py\u001b[0m in \u001b[0;36m<module>\u001b[1;34m\u001b[0m\n\u001b[1;32m----> 1\u001b[1;33m \u001b[0mtest1\u001b[0m\u001b[1;33m(\u001b[0m\u001b[1;33m)\u001b[0m \u001b[1;33m+\u001b[0m \u001b[1;34m\"name\"\u001b[0m\u001b[1;33m\u001b[0m\u001b[1;33m\u001b[0m\u001b[0m\n\u001b[0m",
      "\u001b[1;31mTypeError\u001b[0m: unsupported operand type(s) for +: 'NoneType' and 'str'"
     ]
    }
   ],
   "source": [
    "test1() + \"name\""
   ]
  },
  {
   "cell_type": "markdown",
   "id": "469e5e19",
   "metadata": {},
   "source": [
    "print always give us the nonetype and nonetype and str can not be concatenated ..."
   ]
  },
  {
   "cell_type": "code",
   "execution_count": 27,
   "id": "25502483",
   "metadata": {},
   "outputs": [
    {
     "name": "stdout",
     "output_type": "stream",
     "text": [
      "my name is \n"
     ]
    },
    {
     "ename": "TypeError",
     "evalue": "unsupported operand type(s) for +: 'NoneType' and 'str'",
     "output_type": "error",
     "traceback": [
      "\u001b[1;31m---------------------------------------------------------------------------\u001b[0m",
      "\u001b[1;31mTypeError\u001b[0m                                 Traceback (most recent call last)",
      "\u001b[1;32m~\\AppData\\Local\\Temp\\ipykernel_11612\\548146638.py\u001b[0m in \u001b[0;36m<module>\u001b[1;34m\u001b[0m\n\u001b[1;32m----> 1\u001b[1;33m \u001b[0mprint\u001b[0m\u001b[1;33m(\u001b[0m\u001b[1;34m\"my name is \"\u001b[0m\u001b[1;33m)\u001b[0m \u001b[1;33m+\u001b[0m \u001b[1;34m'Rohan'\u001b[0m\u001b[1;33m\u001b[0m\u001b[1;33m\u001b[0m\u001b[0m\n\u001b[0m",
      "\u001b[1;31mTypeError\u001b[0m: unsupported operand type(s) for +: 'NoneType' and 'str'"
     ]
    }
   ],
   "source": [
    "print(\"my name is \") + 'Rohan'"
   ]
  },
  {
   "cell_type": "code",
   "execution_count": 28,
   "id": "1304afa7",
   "metadata": {},
   "outputs": [],
   "source": [
    "def test2():\n",
    "    return \"this is my function with return\""
   ]
  },
  {
   "cell_type": "code",
   "execution_count": 29,
   "id": "574e1b2f",
   "metadata": {},
   "outputs": [
    {
     "data": {
      "text/plain": [
       "'this is my function with return'"
      ]
     },
     "execution_count": 29,
     "metadata": {},
     "output_type": "execute_result"
    }
   ],
   "source": [
    "test2()"
   ]
  },
  {
   "cell_type": "code",
   "execution_count": 31,
   "id": "977a6269",
   "metadata": {},
   "outputs": [
    {
     "data": {
      "text/plain": [
       "'this is my function with return rohan'"
      ]
     },
     "execution_count": 31,
     "metadata": {},
     "output_type": "execute_result"
    }
   ],
   "source": [
    "test2() + \" rohan\""
   ]
  },
  {
   "cell_type": "code",
   "execution_count": 36,
   "id": "6e815a37",
   "metadata": {},
   "outputs": [],
   "source": [
    "# so we should always use return not the print when we are talking about the function "
   ]
  },
  {
   "cell_type": "code",
   "execution_count": 38,
   "id": "c0a7a810",
   "metadata": {},
   "outputs": [],
   "source": [
    "def test3():\n",
    "    return 1,2,\"pwskills\" , 34.34"
   ]
  },
  {
   "cell_type": "code",
   "execution_count": 40,
   "id": "ebcb3c72",
   "metadata": {},
   "outputs": [
    {
     "data": {
      "text/plain": [
       "(1, 2, 'pwskills', 34.34)"
      ]
     },
     "execution_count": 40,
     "metadata": {},
     "output_type": "execute_result"
    }
   ],
   "source": [
    "test3() # we can get multiple returns from one single function \n"
   ]
  },
  {
   "cell_type": "code",
   "execution_count": 41,
   "id": "8755d190",
   "metadata": {},
   "outputs": [],
   "source": [
    "a = 1,2,3,4,5"
   ]
  },
  {
   "cell_type": "code",
   "execution_count": 42,
   "id": "7be1dd27",
   "metadata": {},
   "outputs": [
    {
     "data": {
      "text/plain": [
       "(1, 2, 3, 4, 5)"
      ]
     },
     "execution_count": 42,
     "metadata": {},
     "output_type": "execute_result"
    }
   ],
   "source": [
    "a # same where here in test3() func we are holding different value in the form of tuple"
   ]
  },
  {
   "cell_type": "code",
   "execution_count": 43,
   "id": "0664d642",
   "metadata": {},
   "outputs": [
    {
     "data": {
      "text/plain": [
       "tuple"
      ]
     },
     "execution_count": 43,
     "metadata": {},
     "output_type": "execute_result"
    }
   ],
   "source": [
    "type(a)"
   ]
  },
  {
   "cell_type": "code",
   "execution_count": 44,
   "id": "6b7d460a",
   "metadata": {},
   "outputs": [
    {
     "data": {
      "text/plain": [
       "tuple"
      ]
     },
     "execution_count": 44,
     "metadata": {},
     "output_type": "execute_result"
    }
   ],
   "source": [
    "type(test3())"
   ]
  },
  {
   "cell_type": "code",
   "execution_count": 46,
   "id": "53d87559",
   "metadata": {},
   "outputs": [],
   "source": [
    "a,b,c,d=1,23,True,False # can hold only 4 values "
   ]
  },
  {
   "cell_type": "code",
   "execution_count": 47,
   "id": "d7dc4ee5",
   "metadata": {},
   "outputs": [
    {
     "data": {
      "text/plain": [
       "1"
      ]
     },
     "execution_count": 47,
     "metadata": {},
     "output_type": "execute_result"
    }
   ],
   "source": [
    "a"
   ]
  },
  {
   "cell_type": "code",
   "execution_count": 48,
   "id": "9979e709",
   "metadata": {},
   "outputs": [
    {
     "data": {
      "text/plain": [
       "23"
      ]
     },
     "execution_count": 48,
     "metadata": {},
     "output_type": "execute_result"
    }
   ],
   "source": [
    "b"
   ]
  },
  {
   "cell_type": "code",
   "execution_count": 49,
   "id": "19bb2533",
   "metadata": {},
   "outputs": [
    {
     "data": {
      "text/plain": [
       "True"
      ]
     },
     "execution_count": 49,
     "metadata": {},
     "output_type": "execute_result"
    }
   ],
   "source": [
    "c"
   ]
  },
  {
   "cell_type": "code",
   "execution_count": 50,
   "id": "5766ad6f",
   "metadata": {},
   "outputs": [
    {
     "data": {
      "text/plain": [
       "False"
      ]
     },
     "execution_count": 50,
     "metadata": {},
     "output_type": "execute_result"
    }
   ],
   "source": [
    "d"
   ]
  },
  {
   "cell_type": "code",
   "execution_count": 52,
   "id": "8267b23f",
   "metadata": {},
   "outputs": [
    {
     "data": {
      "text/plain": [
       "(1, 2, 'pwskills', 34.34)"
      ]
     },
     "execution_count": 52,
     "metadata": {},
     "output_type": "execute_result"
    }
   ],
   "source": [
    "test3() # whatever data it will return always return in the form of tuple "
   ]
  },
  {
   "cell_type": "code",
   "execution_count": 53,
   "id": "b08d5817",
   "metadata": {},
   "outputs": [
    {
     "data": {
      "text/plain": [
       "1"
      ]
     },
     "execution_count": 53,
     "metadata": {},
     "output_type": "execute_result"
    }
   ],
   "source": [
    "#extracting the data \n",
    "test3()[0]"
   ]
  },
  {
   "cell_type": "code",
   "execution_count": 54,
   "id": "565e6e74",
   "metadata": {},
   "outputs": [
    {
     "data": {
      "text/plain": [
       "2"
      ]
     },
     "execution_count": 54,
     "metadata": {},
     "output_type": "execute_result"
    }
   ],
   "source": [
    "test3()[1]"
   ]
  },
  {
   "cell_type": "code",
   "execution_count": 55,
   "id": "e32f2cd5",
   "metadata": {},
   "outputs": [],
   "source": [
    "#let's assign these return value to diff diff variable\n",
    "a,b,c,d = test3()"
   ]
  },
  {
   "cell_type": "code",
   "execution_count": 56,
   "id": "ecdb0be5",
   "metadata": {},
   "outputs": [
    {
     "data": {
      "text/plain": [
       "1"
      ]
     },
     "execution_count": 56,
     "metadata": {},
     "output_type": "execute_result"
    }
   ],
   "source": [
    "a"
   ]
  },
  {
   "cell_type": "code",
   "execution_count": 57,
   "id": "80019661",
   "metadata": {},
   "outputs": [
    {
     "data": {
      "text/plain": [
       "2"
      ]
     },
     "execution_count": 57,
     "metadata": {},
     "output_type": "execute_result"
    }
   ],
   "source": [
    "b"
   ]
  },
  {
   "cell_type": "code",
   "execution_count": 58,
   "id": "669303ca",
   "metadata": {},
   "outputs": [
    {
     "data": {
      "text/plain": [
       "'pwskills'"
      ]
     },
     "execution_count": 58,
     "metadata": {},
     "output_type": "execute_result"
    }
   ],
   "source": [
    "c"
   ]
  },
  {
   "cell_type": "code",
   "execution_count": 59,
   "id": "3850ad44",
   "metadata": {},
   "outputs": [
    {
     "data": {
      "text/plain": [
       "34.34"
      ]
     },
     "execution_count": 59,
     "metadata": {},
     "output_type": "execute_result"
    }
   ],
   "source": [
    "d"
   ]
  },
  {
   "cell_type": "code",
   "execution_count": 61,
   "id": "246d204d",
   "metadata": {},
   "outputs": [],
   "source": [
    "# lets do some operation with these functions #let's  write some logic in the functions \n",
    "def test4():\n",
    "    a = 3*4+5\n",
    "    return a\n",
    "    "
   ]
  },
  {
   "cell_type": "code",
   "execution_count": 62,
   "id": "00ace657",
   "metadata": {},
   "outputs": [
    {
     "data": {
      "text/plain": [
       "17"
      ]
     },
     "execution_count": 62,
     "metadata": {},
     "output_type": "execute_result"
    }
   ],
   "source": [
    "test4()"
   ]
  },
  {
   "cell_type": "code",
   "execution_count": 63,
   "id": "f4704203",
   "metadata": {},
   "outputs": [
    {
     "data": {
      "text/plain": [
       "49"
      ]
     },
     "execution_count": 63,
     "metadata": {},
     "output_type": "execute_result"
    }
   ],
   "source": [
    "test4() + 32"
   ]
  },
  {
   "cell_type": "code",
   "execution_count": 64,
   "id": "e4394d00",
   "metadata": {},
   "outputs": [
    {
     "data": {
      "text/plain": [
       "int"
      ]
     },
     "execution_count": 64,
     "metadata": {},
     "output_type": "execute_result"
    }
   ],
   "source": [
    "type(test4())"
   ]
  },
  {
   "cell_type": "code",
   "execution_count": 72,
   "id": "32d6c941",
   "metadata": {},
   "outputs": [],
   "source": [
    "def test5(a,b):\n",
    "    c = a+b\n",
    "    return c\n",
    "                 # whenever we are creating a function and at the time of creation we are passing some data at the time of call of function \n",
    "    "
   ]
  },
  {
   "cell_type": "code",
   "execution_count": 66,
   "id": "861c0b78",
   "metadata": {},
   "outputs": [
    {
     "ename": "TypeError",
     "evalue": "test5() missing 2 required positional arguments: 'a' and 'b'",
     "output_type": "error",
     "traceback": [
      "\u001b[1;31m---------------------------------------------------------------------------\u001b[0m",
      "\u001b[1;31mTypeError\u001b[0m                                 Traceback (most recent call last)",
      "\u001b[1;32m~\\AppData\\Local\\Temp\\ipykernel_11612\\379652043.py\u001b[0m in \u001b[0;36m<module>\u001b[1;34m\u001b[0m\n\u001b[1;32m----> 1\u001b[1;33m \u001b[0mtest5\u001b[0m\u001b[1;33m(\u001b[0m\u001b[1;33m)\u001b[0m\u001b[1;33m\u001b[0m\u001b[1;33m\u001b[0m\u001b[0m\n\u001b[0m",
      "\u001b[1;31mTypeError\u001b[0m: test5() missing 2 required positional arguments: 'a' and 'b'"
     ]
    }
   ],
   "source": [
    "test5() # we can pass any data we want to add ourself in this way we create our own function "
   ]
  },
  {
   "cell_type": "code",
   "execution_count": 70,
   "id": "9c8127b1",
   "metadata": {},
   "outputs": [
    {
     "ename": "TypeError",
     "evalue": "test5() missing 2 required positional arguments: 'a' and 'b'",
     "output_type": "error",
     "traceback": [
      "\u001b[1;31m---------------------------------------------------------------------------\u001b[0m",
      "\u001b[1;31mTypeError\u001b[0m                                 Traceback (most recent call last)",
      "\u001b[1;32m~\\AppData\\Local\\Temp\\ipykernel_11612\\379652043.py\u001b[0m in \u001b[0;36m<module>\u001b[1;34m\u001b[0m\n\u001b[1;32m----> 1\u001b[1;33m \u001b[0mtest5\u001b[0m\u001b[1;33m(\u001b[0m\u001b[1;33m)\u001b[0m\u001b[1;33m\u001b[0m\u001b[1;33m\u001b[0m\u001b[0m\n\u001b[0m",
      "\u001b[1;31mTypeError\u001b[0m: test5() missing 2 required positional arguments: 'a' and 'b'"
     ]
    }
   ],
   "source": [
    "test5() # it is asking for two argments we need to give it to arguments on which it will do function ... "
   ]
  },
  {
   "cell_type": "code",
   "execution_count": 73,
   "id": "bb742b3a",
   "metadata": {},
   "outputs": [
    {
     "data": {
      "text/plain": [
       "4"
      ]
     },
     "execution_count": 73,
     "metadata": {},
     "output_type": "execute_result"
    }
   ],
   "source": [
    "test5(1,3)"
   ]
  },
  {
   "cell_type": "code",
   "execution_count": 74,
   "id": "7a19fa18",
   "metadata": {},
   "outputs": [
    {
     "data": {
      "text/plain": [
       "'rohan kalra'"
      ]
     },
     "execution_count": 74,
     "metadata": {},
     "output_type": "execute_result"
    }
   ],
   "source": [
    "test5(\"rohan\" , \" kalra\") #it will do concatenation operation "
   ]
  },
  {
   "cell_type": "code",
   "execution_count": 75,
   "id": "fc53df3c",
   "metadata": {},
   "outputs": [
    {
     "data": {
      "text/plain": [
       "[1, 2, 3, 4, 5, 6, 7, 8, 9]"
      ]
     },
     "execution_count": 75,
     "metadata": {},
     "output_type": "execute_result"
    }
   ],
   "source": [
    "test5([1,2,3,4] , [5,6,7,8,9])"
   ]
  },
  {
   "cell_type": "code",
   "execution_count": 79,
   "id": "516033ec",
   "metadata": {},
   "outputs": [
    {
     "data": {
      "text/plain": [
       "'kalra rohan'"
      ]
     },
     "execution_count": 79,
     "metadata": {},
     "output_type": "execute_result"
    }
   ],
   "source": [
    "test5(b = ' rohan' , a = 'kalra')"
   ]
  },
  {
   "cell_type": "code",
   "execution_count": 80,
   "id": "dd41312d",
   "metadata": {},
   "outputs": [],
   "source": [
    "l = [1,2,3,4,5, 'rohan', 'pwskills' , [1,2,3,4,5,6,'rohan', 'kalra']]"
   ]
  },
  {
   "cell_type": "code",
   "execution_count": 81,
   "id": "85ed7858",
   "metadata": {},
   "outputs": [
    {
     "data": {
      "text/plain": [
       "[1, 2, 3, 4, 5, 'rohan', 'pwskills', [1, 2, 3, 4, 5, 6, 'rohan', 'kalra']]"
      ]
     },
     "execution_count": 81,
     "metadata": {},
     "output_type": "execute_result"
    }
   ],
   "source": [
    "l"
   ]
  },
  {
   "cell_type": "code",
   "execution_count": 82,
   "id": "32784fe8",
   "metadata": {},
   "outputs": [],
   "source": [
    "# we have to create a function where it only has to filter out the numeric value  from l \n",
    "# create a function which will take list as a input and give me final list with all the numeric value .\n"
   ]
  },
  {
   "cell_type": "code",
   "execution_count": null,
   "id": "61f4eb9e",
   "metadata": {},
   "outputs": [],
   "source": [
    "#we will not look for the numeric value inside the list because its datatype is a list "
   ]
  },
  {
   "cell_type": "code",
   "execution_count": 83,
   "id": "e1ad8975",
   "metadata": {},
   "outputs": [],
   "source": [
    "def test6(a):   # here a is our argument we hae to pass a single argument here \n",
    "    n=[]         # we define n structure as list\n",
    "    for i in a:    # starting iterating through each element in a(our argument)\n",
    "        if type(i)== int or type(i) == float: # our condition \n",
    "            n.append(i)    # add each element to n one by one \n",
    "    return n           # finally return n \n",
    "            \n",
    "                                  \n",
    "    "
   ]
  },
  {
   "cell_type": "code",
   "execution_count": 85,
   "id": "04cbf8c5",
   "metadata": {},
   "outputs": [
    {
     "data": {
      "text/plain": [
       "[1, 2, 3, 4, 5]"
      ]
     },
     "execution_count": 85,
     "metadata": {},
     "output_type": "execute_result"
    }
   ],
   "source": [
    "test6(l)  # here a = l"
   ]
  },
  {
   "cell_type": "code",
   "execution_count": 86,
   "id": "42295453",
   "metadata": {},
   "outputs": [
    {
     "data": {
      "text/plain": [
       "[1, 2, 3, 4, 5, 'rohan', 'pwskills', [1, 2, 3, 4, 5, 6, 'rohan', 'kalra']]"
      ]
     },
     "execution_count": 86,
     "metadata": {},
     "output_type": "execute_result"
    }
   ],
   "source": [
    "# now lets extract the int from the list inside the list \n",
    "l"
   ]
  },
  {
   "cell_type": "code",
   "execution_count": 111,
   "id": "f128e55f",
   "metadata": {},
   "outputs": [],
   "source": [
    "def test7(a):\n",
    "    n = []\n",
    "    for i in a:\n",
    "        if i == list:\n",
    "            for j in i:\n",
    "                if type(j)==int or type(j) == float:\n",
    "                    n.append(j)\n",
    "        else:\n",
    "            \n",
    "             if type(i) == int or type(i) == float:\n",
    "                n.append(i)\n",
    "                \n",
    "                \n",
    "    return n "
   ]
  },
  {
   "cell_type": "code",
   "execution_count": 114,
   "id": "7f570ce6",
   "metadata": {},
   "outputs": [
    {
     "data": {
      "text/plain": [
       "[1, 2, 3, 4, 5]"
      ]
     },
     "execution_count": 114,
     "metadata": {},
     "output_type": "execute_result"
    }
   ],
   "source": [
    "test7(l)"
   ]
  },
  {
   "cell_type": "code",
   "execution_count": 120,
   "id": "876b7e68",
   "metadata": {},
   "outputs": [],
   "source": [
    "def test8(a):\n",
    "    n=[]\n",
    "    for i in a:\n",
    "        if type(i) == list:\n",
    "            for j in i:\n",
    "                if type(j) == int or type(j) == float:\n",
    "                    n.append(j)\n",
    "        else:\n",
    "            if type(i) == int or type(i) == float:\n",
    "                n.append(i)\n",
    "    return n"
   ]
  },
  {
   "cell_type": "code",
   "execution_count": 121,
   "id": "1af8be70",
   "metadata": {},
   "outputs": [
    {
     "data": {
      "text/plain": [
       "[1, 2, 3, 4, 5, 1, 2, 3, 4, 5, 6]"
      ]
     },
     "execution_count": 121,
     "metadata": {},
     "output_type": "execute_result"
    }
   ],
   "source": [
    "test8(l) # successfully done "
   ]
  },
  {
   "cell_type": "code",
   "execution_count": 122,
   "id": "b9a81373",
   "metadata": {},
   "outputs": [],
   "source": [
    "def test9(a,b,c,d,e): # these a,b,c,d,e are arguments basically \n",
    "    pass             # we use the pass function here because we may use it in the future "
   ]
  },
  {
   "cell_type": "code",
   "execution_count": 123,
   "id": "08b2a966",
   "metadata": {},
   "outputs": [
    {
     "ename": "TypeError",
     "evalue": "test9() takes 5 positional arguments but 9 were given",
     "output_type": "error",
     "traceback": [
      "\u001b[1;31m---------------------------------------------------------------------------\u001b[0m",
      "\u001b[1;31mTypeError\u001b[0m                                 Traceback (most recent call last)",
      "\u001b[1;32m~\\AppData\\Local\\Temp\\ipykernel_11612\\1353035380.py\u001b[0m in \u001b[0;36m<module>\u001b[1;34m\u001b[0m\n\u001b[1;32m----> 1\u001b[1;33m \u001b[0mtest9\u001b[0m\u001b[1;33m(\u001b[0m\u001b[1;36m1\u001b[0m\u001b[1;33m,\u001b[0m\u001b[1;36m2\u001b[0m\u001b[1;33m,\u001b[0m\u001b[1;36m34\u001b[0m\u001b[1;33m,\u001b[0m\u001b[1;36m5\u001b[0m\u001b[1;33m,\u001b[0m\u001b[1;36m6\u001b[0m\u001b[1;33m,\u001b[0m\u001b[1;36m7\u001b[0m\u001b[1;33m,\u001b[0m\u001b[1;36m3\u001b[0m\u001b[1;33m,\u001b[0m\u001b[1;36m2\u001b[0m\u001b[1;33m,\u001b[0m\u001b[1;36m3\u001b[0m\u001b[1;33m)\u001b[0m\u001b[1;33m\u001b[0m\u001b[1;33m\u001b[0m\u001b[0m\n\u001b[0m",
      "\u001b[1;31mTypeError\u001b[0m: test9() takes 5 positional arguments but 9 were given"
     ]
    }
   ],
   "source": [
    "test9(1,2,34,5,6,7,3,2,3) # we take too many arguments here that's why it return an error "
   ]
  },
  {
   "cell_type": "code",
   "execution_count": 124,
   "id": "bf77c3d4",
   "metadata": {},
   "outputs": [],
   "source": [
    "def test1(*args): # when we written *args it means it will take as many arguments we can give \n",
    "    return args  # args = staric of args "
   ]
  },
  {
   "cell_type": "code",
   "execution_count": 125,
   "id": "846ca9b8",
   "metadata": {},
   "outputs": [
    {
     "data": {
      "text/plain": [
       "(1,)"
      ]
     },
     "execution_count": 125,
     "metadata": {},
     "output_type": "execute_result"
    }
   ],
   "source": [
    "test1(1) # taking only one argument "
   ]
  },
  {
   "cell_type": "code",
   "execution_count": 127,
   "id": "fd54fd2f",
   "metadata": {},
   "outputs": [
    {
     "data": {
      "text/plain": [
       "(1, 2, 3, 4, 5)"
      ]
     },
     "execution_count": 127,
     "metadata": {},
     "output_type": "execute_result"
    }
   ],
   "source": [
    "test1(1,2,3,4,5) # now taking 5 arguments "
   ]
  },
  {
   "cell_type": "code",
   "execution_count": 128,
   "id": "5c8467d1",
   "metadata": {},
   "outputs": [
    {
     "data": {
      "text/plain": [
       "(2, 3, 4, 5, 6, 7, 8)"
      ]
     },
     "execution_count": 128,
     "metadata": {},
     "output_type": "execute_result"
    }
   ],
   "source": [
    "test1(2,3,4,5,6,7,8) # taking as much argument as we give thats what star of args do. "
   ]
  },
  {
   "cell_type": "code",
   "execution_count": 129,
   "id": "2166b36f",
   "metadata": {},
   "outputs": [
    {
     "data": {
      "text/plain": [
       "('krish',\n",
       " [1, 2, 3, 4, 5, 6, 7, 8, 8, 9],\n",
       " (1, 2, 3, 4),\n",
       " 1,\n",
       " 1,\n",
       " 3,\n",
       " 4,\n",
       " 6,\n",
       " 7,\n",
       " 8,\n",
       " 5,\n",
       " 3)"
      ]
     },
     "execution_count": 129,
     "metadata": {},
     "output_type": "execute_result"
    }
   ],
   "source": [
    "test1(\"krish\" , [1,2,3,4,5,6,7,8,8,9] , (1,2,3,4) , 1 ,1 ,3 ,4 , 6, 7, 8,5 ,3) # pass the whole data as tuple "
   ]
  },
  {
   "cell_type": "code",
   "execution_count": 132,
   "id": "7c13cb4a",
   "metadata": {},
   "outputs": [],
   "source": [
    "# this args is not a keyword we can give anyname may be our name \n",
    "def test1(*rohan):\n",
    "    return rohan"
   ]
  },
  {
   "cell_type": "code",
   "execution_count": 134,
   "id": "00ea3735",
   "metadata": {},
   "outputs": [
    {
     "data": {
      "text/plain": [
       "(1, 2, 3, 4, 5, 6, 7, 8, 9)"
      ]
     },
     "execution_count": 134,
     "metadata": {},
     "output_type": "execute_result"
    }
   ],
   "source": [
    "test1(1,2,3,4,5,6,7,8,9)"
   ]
  },
  {
   "cell_type": "code",
   "execution_count": 135,
   "id": "87fcd809",
   "metadata": {},
   "outputs": [],
   "source": [
    "def test2(*sudh): #we can take n no of arguments by using staric operation here \n",
    "    return sudh"
   ]
  },
  {
   "cell_type": "code",
   "execution_count": 136,
   "id": "f816c6bd",
   "metadata": {},
   "outputs": [
    {
     "data": {
      "text/plain": [
       "(9, 9, 9, {9}, [9, 9, 9], (9, 9, 9), '999')"
      ]
     },
     "execution_count": 136,
     "metadata": {},
     "output_type": "execute_result"
    }
   ],
   "source": [
    "test2(9,9,9,{9,9,9} , [9,9,9], (9,9,9) , '999')"
   ]
  },
  {
   "cell_type": "code",
   "execution_count": 143,
   "id": "34973a4e",
   "metadata": {},
   "outputs": [],
   "source": [
    "def test(*args , a):\n",
    "    return args , a"
   ]
  },
  {
   "cell_type": "code",
   "execution_count": 140,
   "id": "b2098787",
   "metadata": {},
   "outputs": [
    {
     "ename": "TypeError",
     "evalue": "test() missing 1 required keyword-only argument: 'a'",
     "output_type": "error",
     "traceback": [
      "\u001b[1;31m---------------------------------------------------------------------------\u001b[0m",
      "\u001b[1;31mTypeError\u001b[0m                                 Traceback (most recent call last)",
      "\u001b[1;32m~\\AppData\\Local\\Temp\\ipykernel_11612\\1320254577.py\u001b[0m in \u001b[0;36m<module>\u001b[1;34m\u001b[0m\n\u001b[1;32m----> 1\u001b[1;33m \u001b[0mtest\u001b[0m\u001b[1;33m(\u001b[0m\u001b[1;33m[\u001b[0m\u001b[1;36m1\u001b[0m\u001b[1;33m,\u001b[0m\u001b[1;36m2\u001b[0m\u001b[1;33m,\u001b[0m\u001b[1;36m3\u001b[0m\u001b[1;33m,\u001b[0m\u001b[1;36m4\u001b[0m\u001b[1;33m,\u001b[0m\u001b[1;36m5\u001b[0m\u001b[1;33m]\u001b[0m\u001b[1;33m)\u001b[0m\u001b[1;33m\u001b[0m\u001b[1;33m\u001b[0m\u001b[0m\n\u001b[0m",
      "\u001b[1;31mTypeError\u001b[0m: test() missing 1 required keyword-only argument: 'a'"
     ]
    }
   ],
   "source": [
    "test([1,2,3,4,5]) # missing the values of a "
   ]
  },
  {
   "cell_type": "code",
   "execution_count": 144,
   "id": "31bb9dcb",
   "metadata": {},
   "outputs": [
    {
     "data": {
      "text/plain": [
       "((1, 2, 3, 4), 2)"
      ]
     },
     "execution_count": 144,
     "metadata": {},
     "output_type": "execute_result"
    }
   ],
   "source": [
    "test(1,2,3,4 , a= 2) # we have to define a separately beause we can not differentiate a with comma here "
   ]
  },
  {
   "cell_type": "code",
   "execution_count": 149,
   "id": "c195fc23",
   "metadata": {},
   "outputs": [],
   "source": [
    "def test4(*args): # whatever data it will accumulate it will do it inside tuple # args by default are tuples \n",
    "    l=[]\n",
    "    for i in args:\n",
    "        if type(i) == list:\n",
    "            l.append(i)\n",
    "    return l      "
   ]
  },
  {
   "cell_type": "code",
   "execution_count": 151,
   "id": "b65b43dd",
   "metadata": {},
   "outputs": [
    {
     "data": {
      "text/plain": [
       "[[1, 2, 3, 4, 5, 'rohan', 'sudh', 'krish']]"
      ]
     },
     "execution_count": 151,
     "metadata": {},
     "output_type": "execute_result"
    }
   ],
   "source": [
    "test4(1,2,3,4,[1,2,3,4,5,'rohan' , 'sudh' , 'krish']) # extracting the list out of this data "
   ]
  },
  {
   "cell_type": "code",
   "execution_count": 152,
   "id": "06c0ef42",
   "metadata": {},
   "outputs": [
    {
     "data": {
      "text/plain": [
       "[[22, 34, 34, 55, 25, 2, 2, 2, 13, 12]]"
      ]
     },
     "execution_count": 152,
     "metadata": {},
     "output_type": "execute_result"
    }
   ],
   "source": [
    "test4(1,2,3,4,[22,34,34,55,25,2,2,2,13,12] , 'string' , 1234 , 'popat lal')"
   ]
  },
  {
   "cell_type": "code",
   "execution_count": 155,
   "id": "4c73ded1",
   "metadata": {},
   "outputs": [
    {
     "data": {
      "text/plain": [
       "[[22, 23, 24, 34, 65, 45, 34, 23], [1, 2, 3, 3], [22, 23, 24]]"
      ]
     },
     "execution_count": 155,
     "metadata": {},
     "output_type": "execute_result"
    }
   ],
   "source": [
    "# let's pass couple of more list here \n",
    "test4(1,2,3,4,[22,23,24,34,65,45,34,23], 'krihs' ,'rohan' , [1,2,3,3] , [22,23,24])"
   ]
  },
  {
   "cell_type": "code",
   "execution_count": 159,
   "id": "ddcfb7ac",
   "metadata": {},
   "outputs": [],
   "source": [
    "# we have to pass a key and value pair # kwargs --->> keywords argument \n",
    "def test5(**kwargs):\n",
    "    return kwargs\n",
    "    "
   ]
  },
  {
   "cell_type": "code",
   "execution_count": 162,
   "id": "558c1410",
   "metadata": {},
   "outputs": [
    {
     "data": {
      "text/plain": [
       "{}"
      ]
     },
     "execution_count": 162,
     "metadata": {},
     "output_type": "execute_result"
    }
   ],
   "source": [
    "test5() # tis will give us a simple dictionaries because there is nothing inside **kwargs "
   ]
  },
  {
   "cell_type": "code",
   "execution_count": 161,
   "id": "dbfd732f",
   "metadata": {},
   "outputs": [
    {
     "data": {
      "text/plain": [
       "dict"
      ]
     },
     "execution_count": 161,
     "metadata": {},
     "output_type": "execute_result"
    }
   ],
   "source": [
    "type(test5())"
   ]
  },
  {
   "cell_type": "code",
   "execution_count": 163,
   "id": "d94ce424",
   "metadata": {},
   "outputs": [
    {
     "data": {
      "text/plain": [
       "{'a': 34, 'b': 99, 'c': 88, 'd': [1, 2, 3, 5], 'e': {12, 'krish', 'pwskills'}}"
      ]
     },
     "execution_count": 163,
     "metadata": {},
     "output_type": "execute_result"
    }
   ],
   "source": [
    "test5(a=34 ,b=99 , c=88, d=[1,2,3,5], e={12,'krish' , 'pwskills'}) # it's returning us the data in the form of dictionaries "
   ]
  },
  {
   "cell_type": "markdown",
   "id": "6e704037",
   "metadata": {},
   "source": [
    "to pass multiple key and value arguments we pass the data as the kwargs"
   ]
  },
  {
   "cell_type": "code",
   "execution_count": 165,
   "id": "afcebf15",
   "metadata": {},
   "outputs": [],
   "source": [
    "#lets extract the data of e"
   ]
  },
  {
   "cell_type": "code",
   "execution_count": 168,
   "id": "6fe6dd9b",
   "metadata": {},
   "outputs": [],
   "source": [
    "def test6(**kwargs):\n",
    "    for i in kwargs.keys():\n",
    "        if type(kwargs[i])== list:\n",
    "            \n",
    "            return  i , kwargs[i]\n",
    "                                       # kwargs[i] is used for values alone i will extract keys thats why we used kwags[i]\n",
    "            "
   ]
  },
  {
   "cell_type": "code",
   "execution_count": 169,
   "id": "0f2c4380",
   "metadata": {},
   "outputs": [
    {
     "data": {
      "text/plain": [
       "('d', [1, 2, 3, 5])"
      ]
     },
     "execution_count": 169,
     "metadata": {},
     "output_type": "execute_result"
    }
   ],
   "source": [
    "test6(a=34 ,b=99 , c=88, d=[1,2,3,5], e={12,'krish' , 'pwskills'})"
   ]
  },
  {
   "cell_type": "code",
   "execution_count": 170,
   "id": "bb972d3d",
   "metadata": {},
   "outputs": [],
   "source": [
    "# kwargs is also not a keyword we can use any name "
   ]
  },
  {
   "cell_type": "code",
   "execution_count": 171,
   "id": "8ca5aef2",
   "metadata": {},
   "outputs": [],
   "source": [
    "def test7(*args , **kwargs):\n",
    "    return args , kwargs \n",
    "                              #it means it will take n number of inputs and n no of dict inputs \n",
    "    "
   ]
  },
  {
   "cell_type": "code",
   "execution_count": 172,
   "id": "63f48cf5",
   "metadata": {},
   "outputs": [
    {
     "data": {
      "text/plain": [
       "((1, 2, 3), {'a': 98, 'b': 90, 'c': 56})"
      ]
     },
     "execution_count": 172,
     "metadata": {},
     "output_type": "execute_result"
    }
   ],
   "source": [
    "test7(1,2,3 , a =98 , b = 90 , c = 56)"
   ]
  },
  {
   "cell_type": "markdown",
   "id": "07b20b61",
   "metadata": {},
   "source": [
    "# Generator functions"
   ]
  },
  {
   "cell_type": "code",
   "execution_count": 177,
   "id": "7d5ab899",
   "metadata": {},
   "outputs": [
    {
     "data": {
      "text/plain": [
       "range(1, 10)"
      ]
     },
     "execution_count": 177,
     "metadata": {},
     "output_type": "execute_result"
    }
   ],
   "source": [
    "range(1,10) # it is not giiving us any data unless we do iteration in for loop "
   ]
  },
  {
   "cell_type": "code",
   "execution_count": 180,
   "id": "48300586",
   "metadata": {},
   "outputs": [
    {
     "name": "stdout",
     "output_type": "stream",
     "text": [
      "1\n",
      "2\n",
      "3\n",
      "4\n",
      "5\n",
      "6\n",
      "7\n",
      "8\n",
      "9\n"
     ]
    }
   ],
   "source": [
    "for i in range(1,10):\n",
    "    print(i)"
   ]
  },
  {
   "cell_type": "code",
   "execution_count": 181,
   "id": "bdf0e510",
   "metadata": {},
   "outputs": [],
   "source": [
    "l=[1,2,3,2,3,55,45,35,22,12,12,22,2,3,'pwskills' , 'sudh']"
   ]
  },
  {
   "cell_type": "code",
   "execution_count": 182,
   "id": "7592a61a",
   "metadata": {},
   "outputs": [],
   "source": [
    "def test1(a):\n",
    "    n=[]\n",
    "    for i in a:\n",
    "        if type(i) == int:\n",
    "            n.append(i)\n",
    "    return n"
   ]
  },
  {
   "cell_type": "code",
   "execution_count": 183,
   "id": "c778e087",
   "metadata": {},
   "outputs": [
    {
     "data": {
      "text/plain": [
       "[1, 2, 3, 2, 3, 55, 45, 35, 22, 12, 12, 22, 2, 3]"
      ]
     },
     "execution_count": 183,
     "metadata": {},
     "output_type": "execute_result"
    }
   ],
   "source": [
    "test1(l) # it will try to take input as a list and internally try to prepare a list of int "
   ]
  },
  {
   "cell_type": "code",
   "execution_count": 184,
   "id": "ecac5555",
   "metadata": {},
   "outputs": [],
   "source": [
    "# if we have a lot of no(millions and trillion) it will take much more time to iterate infinite time \n",
    "# let's learn to do it in an easy way "
   ]
  },
  {
   "cell_type": "code",
   "execution_count": 186,
   "id": "a1d7c546",
   "metadata": {},
   "outputs": [],
   "source": [
    "# alternative is range function but it is not giving us the data ..test1() is giving us data by iteration one by one "
   ]
  },
  {
   "cell_type": "markdown",
   "id": "3cbb5c76",
   "metadata": {},
   "source": [
    "for function is i or test1() function is generating the number one by one only and giving us the data it is not keeping our records of millions and trillions of data but it is just remebering the last int or element and then based on it providing the very next element "
   ]
  },
  {
   "cell_type": "code",
   "execution_count": 187,
   "id": "ce0fe76f",
   "metadata": {},
   "outputs": [],
   "source": [
    "# let's create a range kind of  a function through the keyword yield "
   ]
  },
  {
   "cell_type": "markdown",
   "id": "ffe15d9c",
   "metadata": {},
   "source": [
    "fibonacci series:  where the next element is the sum of previoud two elments \n",
    " \n",
    "\n",
    "0 1 1 2 3 5 8 13 21 34 55 "
   ]
  },
  {
   "cell_type": "markdown",
   "id": "4a31814c",
   "metadata": {},
   "source": [
    " here system  don't remember the previous data and giving us data one data and time and then forget about the previous data and then give us the nect element and same process goes on "
   ]
  },
  {
   "cell_type": "code",
   "execution_count": 188,
   "id": "afa46d4b",
   "metadata": {},
   "outputs": [],
   "source": [
    "#let's write a logic for fibonacci series : with generator function "
   ]
  },
  {
   "cell_type": "code",
   "execution_count": 189,
   "id": "35ec4a65",
   "metadata": {},
   "outputs": [],
   "source": [
    "# one of the generator function is range itself let's see another "
   ]
  },
  {
   "cell_type": "code",
   "execution_count": 191,
   "id": "2e53e717",
   "metadata": {},
   "outputs": [],
   "source": [
    "def test_fib(n):\n",
    "    a,b = 0,1\n",
    "    for i in range(n):   # it will iterate n times \n",
    "        yield a\n",
    "        a,b = b , a+b"
   ]
  },
  {
   "cell_type": "code",
   "execution_count": 193,
   "id": "0a41bb2d",
   "metadata": {},
   "outputs": [
    {
     "data": {
      "text/plain": [
       "<generator object test_fib at 0x00000240CE8D59E0>"
      ]
     },
     "execution_count": 193,
     "metadata": {},
     "output_type": "execute_result"
    }
   ],
   "source": [
    "test_fib(10) # we have made a generator function "
   ]
  },
  {
   "cell_type": "code",
   "execution_count": 194,
   "id": "23cdc938",
   "metadata": {},
   "outputs": [],
   "source": [
    "# calling the genearator function "
   ]
  },
  {
   "cell_type": "code",
   "execution_count": 195,
   "id": "3800731e",
   "metadata": {},
   "outputs": [
    {
     "name": "stdout",
     "output_type": "stream",
     "text": [
      "0\n",
      "1\n",
      "1\n",
      "2\n",
      "3\n",
      "5\n",
      "8\n",
      "13\n",
      "21\n",
      "34\n"
     ]
    }
   ],
   "source": [
    "for i in test_fib(10):\n",
    "    print(i)"
   ]
  },
  {
   "cell_type": "markdown",
   "id": "b6a95bbe",
   "metadata": {},
   "source": [
    "# Lambda Function "
   ]
  },
  {
   "cell_type": "code",
   "execution_count": 1,
   "id": "6b70e0dc",
   "metadata": {},
   "outputs": [],
   "source": [
    "# usage of lambda fuction\n",
    "# let's say we need to perform a function which will take two input and then want to convert it into the power  "
   ]
  },
  {
   "cell_type": "code",
   "execution_count": 2,
   "id": "673641d3",
   "metadata": {},
   "outputs": [],
   "source": [
    "n = 3 \n",
    "p=2"
   ]
  },
  {
   "cell_type": "code",
   "execution_count": 3,
   "id": "c42bc2c9",
   "metadata": {},
   "outputs": [],
   "source": [
    "# we need to pass here a function in which we can access the p power of n \n",
    "# if we write an external function \n",
    "def test(n,p):\n",
    "    return n**p"
   ]
  },
  {
   "cell_type": "code",
   "execution_count": 4,
   "id": "791ff9f9",
   "metadata": {},
   "outputs": [
    {
     "data": {
      "text/plain": [
       "8"
      ]
     },
     "execution_count": 4,
     "metadata": {},
     "output_type": "execute_result"
    }
   ],
   "source": [
    "test(2,3)"
   ]
  },
  {
   "cell_type": "code",
   "execution_count": 5,
   "id": "84efaa79",
   "metadata": {},
   "outputs": [
    {
     "data": {
      "text/plain": [
       "190683748116796615589766511371277507701260426349148337437043654910886245033973163156381027646240890976422037778530726249"
      ]
     },
     "execution_count": 5,
     "metadata": {},
     "output_type": "execute_result"
    }
   ],
   "source": [
    "test(9,125)"
   ]
  },
  {
   "cell_type": "code",
   "execution_count": 6,
   "id": "7700e2cd",
   "metadata": {},
   "outputs": [
    {
     "data": {
      "text/plain": [
       "<function __main__.<lambda>(n, p)>"
      ]
     },
     "execution_count": 6,
     "metadata": {},
     "output_type": "execute_result"
    }
   ],
   "source": [
    "# now we can write the same function but in a different way \n",
    "# lambda or anonymus function \n",
    "lambda n,p : n**p # now this will become the lambda function "
   ]
  },
  {
   "cell_type": "code",
   "execution_count": 7,
   "id": "79b5391c",
   "metadata": {},
   "outputs": [],
   "source": [
    "#the lambda function doesn't have any name it's a function without any  name so we must have to assign a variable here \n",
    "a = lambda n,p : n**p"
   ]
  },
  {
   "cell_type": "code",
   "execution_count": 8,
   "id": "e5627c0c",
   "metadata": {},
   "outputs": [
    {
     "data": {
      "text/plain": [
       "8"
      ]
     },
     "execution_count": 8,
     "metadata": {},
     "output_type": "execute_result"
    }
   ],
   "source": [
    "# how to use lambda function\n",
    "a(2,3)"
   ]
  },
  {
   "cell_type": "code",
   "execution_count": 9,
   "id": "8c39ff4a",
   "metadata": {},
   "outputs": [
    {
     "data": {
      "text/plain": [
       "387420489"
      ]
     },
     "execution_count": 9,
     "metadata": {},
     "output_type": "execute_result"
    }
   ],
   "source": [
    "a(9,9)"
   ]
  },
  {
   "cell_type": "code",
   "execution_count": 10,
   "id": "444615e2",
   "metadata": {},
   "outputs": [
    {
     "data": {
      "text/plain": [
       "6561"
      ]
     },
     "execution_count": 10,
     "metadata": {},
     "output_type": "execute_result"
    }
   ],
   "source": [
    "a(9,4)"
   ]
  },
  {
   "cell_type": "code",
   "execution_count": 11,
   "id": "6f99c9df",
   "metadata": {},
   "outputs": [],
   "source": [
    "add = lambda a , b , c:a+b+c # a,b,c are our parameters or arguments \n",
    "# this function also known as short hand function "
   ]
  },
  {
   "cell_type": "code",
   "execution_count": 12,
   "id": "51132b02",
   "metadata": {},
   "outputs": [
    {
     "data": {
      "text/plain": [
       "27"
      ]
     },
     "execution_count": 12,
     "metadata": {},
     "output_type": "execute_result"
    }
   ],
   "source": [
    "add(9,9,9)"
   ]
  },
  {
   "cell_type": "markdown",
   "id": "88c67861",
   "metadata": {},
   "source": [
    "basically we can make full fletched define function or we can use one liner lambda function it's upto our wish .."
   ]
  },
  {
   "cell_type": "code",
   "execution_count": 13,
   "id": "64775fe9",
   "metadata": {},
   "outputs": [],
   "source": [
    "# function to convert celsius into the ferhanite \n",
    "c_to_f = lambda c:9/5 * c +32"
   ]
  },
  {
   "cell_type": "code",
   "execution_count": 14,
   "id": "c280996a",
   "metadata": {},
   "outputs": [
    {
     "data": {
      "text/plain": [
       "89.6"
      ]
     },
     "execution_count": 14,
     "metadata": {},
     "output_type": "execute_result"
    }
   ],
   "source": [
    "c_to_f(32)"
   ]
  },
  {
   "cell_type": "code",
   "execution_count": 17,
   "id": "ebc4938d",
   "metadata": {},
   "outputs": [],
   "source": [
    "max_two = lambda x,y : x if x>y else y"
   ]
  },
  {
   "cell_type": "code",
   "execution_count": 18,
   "id": "4425b44e",
   "metadata": {},
   "outputs": [
    {
     "data": {
      "text/plain": [
       "99"
      ]
     },
     "execution_count": 18,
     "metadata": {},
     "output_type": "execute_result"
    }
   ],
   "source": [
    "max_two(99,9)"
   ]
  },
  {
   "cell_type": "code",
   "execution_count": 19,
   "id": "acb27238",
   "metadata": {},
   "outputs": [],
   "source": [
    "s = 'pwskills'\n",
    "l = lambda y: len(y)"
   ]
  },
  {
   "cell_type": "code",
   "execution_count": 20,
   "id": "5b1bbbe9",
   "metadata": {},
   "outputs": [
    {
     "data": {
      "text/plain": [
       "8"
      ]
     },
     "execution_count": 20,
     "metadata": {},
     "output_type": "execute_result"
    }
   ],
   "source": [
    "l(s)"
   ]
  },
  {
   "cell_type": "markdown",
   "id": "ec60c7a8",
   "metadata": {},
   "source": [
    "# Map Reduce and Filter Function "
   ]
  },
  {
   "cell_type": "code",
   "execution_count": 2,
   "id": "73ea3739",
   "metadata": {},
   "outputs": [],
   "source": [
    "l = [1,2,3,4,5]\n"
   ]
  },
  {
   "cell_type": "code",
   "execution_count": 3,
   "id": "246a5e44",
   "metadata": {},
   "outputs": [],
   "source": [
    "# let's do a square of each and every element in the list and give a list as outcome \n",
    "def test1(a):\n",
    "    l1 = []\n",
    "    for i in a:\n",
    "        l1.append(i**2)\n",
    "    return l1\n",
    "    \n"
   ]
  },
  {
   "cell_type": "code",
   "execution_count": 4,
   "id": "e6aa18d3",
   "metadata": {},
   "outputs": [
    {
     "data": {
      "text/plain": [
       "[1, 4, 9, 16, 25]"
      ]
     },
     "execution_count": 4,
     "metadata": {},
     "output_type": "execute_result"
    }
   ],
   "source": [
    "test1(l)"
   ]
  },
  {
   "cell_type": "markdown",
   "id": "f2e70b7f",
   "metadata": {},
   "source": [
    "let's do the above task with one single function ---->>>> Map function , Reudce and Filter function "
   ]
  },
  {
   "cell_type": "code",
   "execution_count": 5,
   "id": "c5eec6c3",
   "metadata": {},
   "outputs": [],
   "source": [
    "def sq(x):               #sq is the name of function\n",
    "    return x**2"
   ]
  },
  {
   "cell_type": "code",
   "execution_count": 6,
   "id": "e58eac68",
   "metadata": {},
   "outputs": [
    {
     "data": {
      "text/plain": [
       "<map at 0x2723f361bb0>"
      ]
     },
     "execution_count": 6,
     "metadata": {},
     "output_type": "execute_result"
    }
   ],
   "source": [
    "map(sq ,l ) # we give the define function here and give the iterable l on which we need to perform the function ..\n",
    "# this function here give us the mapper object \n",
    "# map function takes two arguments 1 is test and other 1 is iterables "
   ]
  },
  {
   "cell_type": "code",
   "execution_count": 7,
   "id": "7914b61e",
   "metadata": {},
   "outputs": [
    {
     "data": {
      "text/plain": [
       "[1, 4, 9, 16, 25]"
      ]
     },
     "execution_count": 7,
     "metadata": {},
     "output_type": "execute_result"
    }
   ],
   "source": [
    "list(map(sq, l)) "
   ]
  },
  {
   "cell_type": "code",
   "execution_count": 8,
   "id": "a3108a8e",
   "metadata": {},
   "outputs": [],
   "source": [
    "# iterables are those data strcture in which we can do iteration by using loops "
   ]
  },
  {
   "cell_type": "code",
   "execution_count": 9,
   "id": "d3405240",
   "metadata": {},
   "outputs": [
    {
     "data": {
      "text/plain": [
       "[1, 4, 9, 16, 25]"
      ]
     },
     "execution_count": 9,
     "metadata": {},
     "output_type": "execute_result"
    }
   ],
   "source": [
    "# we can pass lambda function in map too \n",
    "list(map(lambda x : x **2 , l))"
   ]
  },
  {
   "cell_type": "code",
   "execution_count": 10,
   "id": "7d761a9c",
   "metadata": {},
   "outputs": [
    {
     "data": {
      "text/plain": [
       "[11, 12, 13, 14, 15]"
      ]
     },
     "execution_count": 10,
     "metadata": {},
     "output_type": "execute_result"
    }
   ],
   "source": [
    "# another example\n",
    "list(map(lambda x : x + 10 , l))"
   ]
  },
  {
   "cell_type": "code",
   "execution_count": 12,
   "id": "5c9f407e",
   "metadata": {},
   "outputs": [
    {
     "data": {
      "text/plain": [
       "['1', '2', '3', '4', '5']"
      ]
     },
     "execution_count": 12,
     "metadata": {},
     "output_type": "execute_result"
    }
   ],
   "source": [
    "list(map(lambda x : str(x), l))"
   ]
  },
  {
   "cell_type": "code",
   "execution_count": 13,
   "id": "cc1ef0a0",
   "metadata": {},
   "outputs": [],
   "source": [
    "l1=[1,2,3,4,5]\n",
    "l2 = [6,7,8,9,10]"
   ]
  },
  {
   "cell_type": "code",
   "execution_count": 14,
   "id": "6b7be4d6",
   "metadata": {},
   "outputs": [
    {
     "data": {
      "text/plain": [
       "[7, 9, 11, 13, 15]"
      ]
     },
     "execution_count": 14,
     "metadata": {},
     "output_type": "execute_result"
    }
   ],
   "source": [
    "list(map(lambda x,y : x+y , l1,l2))"
   ]
  },
  {
   "cell_type": "code",
   "execution_count": 18,
   "id": "6dc95f4a",
   "metadata": {},
   "outputs": [],
   "source": [
    "f = lambda l1,l2:l1+l2"
   ]
  },
  {
   "cell_type": "code",
   "execution_count": 19,
   "id": "c4a9ebf3",
   "metadata": {},
   "outputs": [
    {
     "data": {
      "text/plain": [
       "[7, 9, 11, 13, 15]"
      ]
     },
     "execution_count": 19,
     "metadata": {},
     "output_type": "execute_result"
    }
   ],
   "source": [
    "# another method\n",
    "list(map(f , l1,l2))"
   ]
  },
  {
   "cell_type": "code",
   "execution_count": 24,
   "id": "2388f499",
   "metadata": {},
   "outputs": [
    {
     "data": {
      "text/plain": [
       "[['p'], ['w'], ['s'], ['k'], ['i'], ['l'], ['l'], ['s']]"
      ]
     },
     "execution_count": 24,
     "metadata": {},
     "output_type": "execute_result"
    }
   ],
   "source": [
    "s = 'pwskills'\n",
    "list(map(lambda x : x.split() , s))"
   ]
  },
  {
   "cell_type": "code",
   "execution_count": 22,
   "id": "29b7becd",
   "metadata": {},
   "outputs": [
    {
     "data": {
      "text/plain": [
       "['P', 'W', 'S', 'K', 'I', 'L', 'L', 'S']"
      ]
     },
     "execution_count": 22,
     "metadata": {},
     "output_type": "execute_result"
    }
   ],
   "source": [
    "list(map(lambda x : x.upper() , s))"
   ]
  },
  {
   "cell_type": "code",
   "execution_count": 25,
   "id": "df89597b",
   "metadata": {},
   "outputs": [],
   "source": [
    "# map function just do maping of each and every item with given function "
   ]
  },
  {
   "cell_type": "markdown",
   "id": "0aec93a1",
   "metadata": {},
   "source": [
    "# Reduce "
   ]
  },
  {
   "cell_type": "code",
   "execution_count": 28,
   "id": "42c9718f",
   "metadata": {},
   "outputs": [],
   "source": [
    "# by default reduce is not available in our python we have to import it \n",
    "from functools import reduce"
   ]
  },
  {
   "cell_type": "code",
   "execution_count": 31,
   "id": "a2172f2d",
   "metadata": {},
   "outputs": [],
   "source": [
    "l = [1,2,3,4,5,4]"
   ]
  },
  {
   "cell_type": "code",
   "execution_count": 33,
   "id": "5bbab61c",
   "metadata": {},
   "outputs": [
    {
     "data": {
      "text/plain": [
       "19"
      ]
     },
     "execution_count": 33,
     "metadata": {},
     "output_type": "execute_result"
    }
   ],
   "source": [
    "# reduce function just reduce the iterable \n",
    "reduce(lambda x , y:x+y , l) # give us the submission of all the elements "
   ]
  },
  {
   "cell_type": "code",
   "execution_count": 35,
   "id": "9eda83e9",
   "metadata": {},
   "outputs": [],
   "source": [
    "# how it is giving me the result\n",
    "# first it will take 1 and 2 as x and y from l then after their submission it take (1+2) as x and next element 3 as y .\n",
    "# it does the same process again and again and return us the submission . \n",
    "# so it will keep of reducing the element and give us one single result "
   ]
  },
  {
   "cell_type": "code",
   "execution_count": 39,
   "id": "1ab0816d",
   "metadata": {},
   "outputs": [],
   "source": [
    "def add(x,y):\n",
    "    return x+y"
   ]
  },
  {
   "cell_type": "code",
   "execution_count": 41,
   "id": "79d42885",
   "metadata": {},
   "outputs": [
    {
     "data": {
      "text/plain": [
       "19"
      ]
     },
     "execution_count": 41,
     "metadata": {},
     "output_type": "execute_result"
    }
   ],
   "source": [
    "reduce(add , l)"
   ]
  },
  {
   "cell_type": "code",
   "execution_count": 42,
   "id": "e32b9c6b",
   "metadata": {},
   "outputs": [
    {
     "ename": "TypeError",
     "evalue": "<lambda>() missing 1 required positional argument: 'z'",
     "output_type": "error",
     "traceback": [
      "\u001b[1;31m---------------------------------------------------------------------------\u001b[0m",
      "\u001b[1;31mTypeError\u001b[0m                                 Traceback (most recent call last)",
      "\u001b[1;32m~\\AppData\\Local\\Temp\\ipykernel_2632\\4231404624.py\u001b[0m in \u001b[0;36m<module>\u001b[1;34m\u001b[0m\n\u001b[1;32m----> 1\u001b[1;33m \u001b[0mreduce\u001b[0m\u001b[1;33m(\u001b[0m\u001b[1;32mlambda\u001b[0m \u001b[0mx\u001b[0m\u001b[1;33m,\u001b[0m\u001b[0my\u001b[0m\u001b[1;33m,\u001b[0m\u001b[0mz\u001b[0m\u001b[1;33m:\u001b[0m\u001b[0mx\u001b[0m\u001b[1;33m+\u001b[0m\u001b[0my\u001b[0m\u001b[1;33m+\u001b[0m\u001b[0mz\u001b[0m \u001b[1;33m,\u001b[0m \u001b[0ml\u001b[0m\u001b[1;33m)\u001b[0m\u001b[1;33m\u001b[0m\u001b[1;33m\u001b[0m\u001b[0m\n\u001b[0m",
      "\u001b[1;31mTypeError\u001b[0m: <lambda>() missing 1 required positional argument: 'z'"
     ]
    }
   ],
   "source": [
    "reduce(lambda x,y,z:x+y+z , l) # not working telling us missing one parametere \n",
    "# why it is teeling us missing one parameter because "
   ]
  },
  {
   "cell_type": "code",
   "execution_count": 43,
   "id": "e6bcf013",
   "metadata": {},
   "outputs": [
    {
     "data": {
      "text/plain": [
       "[1, 2, 3, 4, 5, 4]"
      ]
     },
     "execution_count": 43,
     "metadata": {},
     "output_type": "execute_result"
    }
   ],
   "source": [
    "l"
   ]
  },
  {
   "cell_type": "code",
   "execution_count": 44,
   "id": "a29a290c",
   "metadata": {},
   "outputs": [],
   "source": [
    "# now we aree taking three parameters (x+y+z) = (1+2+3) = 6 which will be later considered as x then add 6+4+5 = x+y+z then for other process we dont have z "
   ]
  },
  {
   "cell_type": "code",
   "execution_count": 45,
   "id": "e1b9ec01",
   "metadata": {},
   "outputs": [],
   "source": [
    "# no make another list which have z \n",
    "l = [1,2,3,4,5,6,6]"
   ]
  },
  {
   "cell_type": "code",
   "execution_count": 49,
   "id": "eb765d73",
   "metadata": {},
   "outputs": [
    {
     "ename": "TypeError",
     "evalue": "<lambda>() missing 1 required positional argument: 'z'",
     "output_type": "error",
     "traceback": [
      "\u001b[1;31m---------------------------------------------------------------------------\u001b[0m",
      "\u001b[1;31mTypeError\u001b[0m                                 Traceback (most recent call last)",
      "\u001b[1;32m~\\AppData\\Local\\Temp\\ipykernel_2632\\68646513.py\u001b[0m in \u001b[0;36m<module>\u001b[1;34m\u001b[0m\n\u001b[1;32m----> 1\u001b[1;33m \u001b[0mreduce\u001b[0m\u001b[1;33m(\u001b[0m\u001b[1;32mlambda\u001b[0m \u001b[0mx\u001b[0m\u001b[1;33m,\u001b[0m\u001b[0my\u001b[0m\u001b[1;33m,\u001b[0m\u001b[0mz\u001b[0m\u001b[1;33m:\u001b[0m\u001b[0mx\u001b[0m\u001b[1;33m+\u001b[0m\u001b[0my\u001b[0m\u001b[1;33m+\u001b[0m\u001b[0mz\u001b[0m \u001b[1;33m,\u001b[0m\u001b[0ml\u001b[0m\u001b[1;33m)\u001b[0m\u001b[1;33m\u001b[0m\u001b[1;33m\u001b[0m\u001b[0m\n\u001b[0m\u001b[0;32m      2\u001b[0m \u001b[1;31m# still not working\u001b[0m\u001b[1;33m\u001b[0m\u001b[1;33m\u001b[0m\u001b[0m\n\u001b[0;32m      3\u001b[0m \u001b[1;31m# the reason is reduce is trying to collapse so it will always try to find next element\u001b[0m\u001b[1;33m\u001b[0m\u001b[1;33m\u001b[0m\u001b[0m\n\u001b[0;32m      4\u001b[0m \u001b[1;31m# reduce function doesn't work for three elements\u001b[0m\u001b[1;33m\u001b[0m\u001b[1;33m\u001b[0m\u001b[0m\n",
      "\u001b[1;31mTypeError\u001b[0m: <lambda>() missing 1 required positional argument: 'z'"
     ]
    }
   ],
   "source": [
    "reduce(lambda x,y,z:x+y+z ,l)\n",
    "# still not working \n",
    "# the reason is reduce is trying to collapse so it will always try to find next element \n",
    "# reduce function doesn't work for three elements "
   ]
  },
  {
   "cell_type": "code",
   "execution_count": 48,
   "id": "b4f3c319",
   "metadata": {},
   "outputs": [
    {
     "data": {
      "text/plain": [
       "[1, 2, 3, 4, 5, 6, 6]"
      ]
     },
     "execution_count": 48,
     "metadata": {},
     "output_type": "execute_result"
    }
   ],
   "source": [
    "l"
   ]
  },
  {
   "cell_type": "code",
   "execution_count": 51,
   "id": "c66af7af",
   "metadata": {},
   "outputs": [
    {
     "ename": "TypeError",
     "evalue": "reduce() of empty sequence with no initial value",
     "output_type": "error",
     "traceback": [
      "\u001b[1;31m---------------------------------------------------------------------------\u001b[0m",
      "\u001b[1;31mTypeError\u001b[0m                                 Traceback (most recent call last)",
      "\u001b[1;32m~\\AppData\\Local\\Temp\\ipykernel_2632\\365697235.py\u001b[0m in \u001b[0;36m<module>\u001b[1;34m\u001b[0m\n\u001b[0;32m      1\u001b[0m \u001b[1;31m#let's give it an empty list\u001b[0m\u001b[1;33m\u001b[0m\u001b[1;33m\u001b[0m\u001b[0m\n\u001b[1;32m----> 2\u001b[1;33m \u001b[0mreduce\u001b[0m\u001b[1;33m(\u001b[0m\u001b[1;32mlambda\u001b[0m \u001b[0mx\u001b[0m\u001b[1;33m,\u001b[0m\u001b[0my\u001b[0m\u001b[1;33m:\u001b[0m\u001b[0mx\u001b[0m\u001b[1;33m+\u001b[0m\u001b[0my\u001b[0m\u001b[1;33m,\u001b[0m\u001b[1;33m[\u001b[0m\u001b[1;33m]\u001b[0m\u001b[1;33m)\u001b[0m\u001b[1;33m\u001b[0m\u001b[1;33m\u001b[0m\u001b[0m\n\u001b[0m",
      "\u001b[1;31mTypeError\u001b[0m: reduce() of empty sequence with no initial value"
     ]
    }
   ],
   "source": [
    "#let's give it an empty list\n",
    "reduce(lambda x,y:x+y,[]) # not working "
   ]
  },
  {
   "cell_type": "code",
   "execution_count": 54,
   "id": "a47e06e2",
   "metadata": {},
   "outputs": [
    {
     "data": {
      "text/plain": [
       "1"
      ]
     },
     "execution_count": 54,
     "metadata": {},
     "output_type": "execute_result"
    }
   ],
   "source": [
    "# let's pass a single element list \n",
    "reduce(lambda x, y : x+y , [1]) # it will work for single element \n",
    "# and we can see there is no y present too , it's an exceptional case "
   ]
  },
  {
   "cell_type": "code",
   "execution_count": 55,
   "id": "991c2d48",
   "metadata": {},
   "outputs": [
    {
     "data": {
      "text/plain": [
       "1"
      ]
     },
     "execution_count": 55,
     "metadata": {},
     "output_type": "execute_result"
    }
   ],
   "source": [
    "# reduce function basically reduce krta hai \n",
    "reduce(lambda x , y : x* y , [1])"
   ]
  },
  {
   "cell_type": "code",
   "execution_count": 56,
   "id": "d3cd6f5f",
   "metadata": {},
   "outputs": [],
   "source": [
    "l = [1,2,3,4,5,4]"
   ]
  },
  {
   "cell_type": "code",
   "execution_count": 57,
   "id": "fa2ab717",
   "metadata": {},
   "outputs": [
    {
     "data": {
      "text/plain": [
       "5"
      ]
     },
     "execution_count": 57,
     "metadata": {},
     "output_type": "execute_result"
    }
   ],
   "source": [
    "# let's find out the maximum of this particular list \n",
    "reduce(lambda x, y : x if x> y else y , l)"
   ]
  },
  {
   "cell_type": "code",
   "execution_count": 58,
   "id": "b13bd047",
   "metadata": {},
   "outputs": [],
   "source": [
    "# how it is doing the comparison ?"
   ]
  },
  {
   "cell_type": "code",
   "execution_count": 59,
   "id": "65aed1eb",
   "metadata": {},
   "outputs": [],
   "source": [
    "# first it take 1 and 2 as x and y and choose which is greater no then b/w 2 and 3 and did this process for whole list "
   ]
  },
  {
   "cell_type": "markdown",
   "id": "d2cf475c",
   "metadata": {},
   "source": [
    "# filter function "
   ]
  },
  {
   "cell_type": "markdown",
   "id": "9401e29c",
   "metadata": {},
   "source": [
    "filter funvtion can do filter based on some condition ...simple "
   ]
  },
  {
   "cell_type": "code",
   "execution_count": 60,
   "id": "bcfbee34",
   "metadata": {},
   "outputs": [
    {
     "data": {
      "text/plain": [
       "[1, 2, 3, 4, 5, 4]"
      ]
     },
     "execution_count": 60,
     "metadata": {},
     "output_type": "execute_result"
    }
   ],
   "source": [
    "l "
   ]
  },
  {
   "cell_type": "code",
   "execution_count": 61,
   "id": "fd925724",
   "metadata": {},
   "outputs": [],
   "source": [
    "# let's filter out the even or the odd no out of the list "
   ]
  },
  {
   "cell_type": "code",
   "execution_count": 63,
   "id": "4354b34c",
   "metadata": {},
   "outputs": [
    {
     "data": {
      "text/plain": [
       "<filter at 0x272421f4b50>"
      ]
     },
     "execution_count": 63,
     "metadata": {},
     "output_type": "execute_result"
    }
   ],
   "source": [
    "filter(lambda x :x%2 == 0 , l)"
   ]
  },
  {
   "cell_type": "code",
   "execution_count": 64,
   "id": "b9901f85",
   "metadata": {},
   "outputs": [
    {
     "data": {
      "text/plain": [
       "[2, 4, 4]"
      ]
     },
     "execution_count": 64,
     "metadata": {},
     "output_type": "execute_result"
    }
   ],
   "source": [
    "# calling the function \n",
    "list(filter(lambda x :x%2 == 0 , l))"
   ]
  },
  {
   "cell_type": "code",
   "execution_count": 65,
   "id": "3546a487",
   "metadata": {},
   "outputs": [
    {
     "data": {
      "text/plain": [
       "[1, 3, 5]"
      ]
     },
     "execution_count": 65,
     "metadata": {},
     "output_type": "execute_result"
    }
   ],
   "source": [
    "list(filter(lambda x :x%2 != 0 , l))"
   ]
  },
  {
   "cell_type": "code",
   "execution_count": 66,
   "id": "7e2dc3f0",
   "metadata": {},
   "outputs": [],
   "source": [
    "l = [-1,-4,-5,2,4,6,7,-6,-7]"
   ]
  },
  {
   "cell_type": "code",
   "execution_count": 67,
   "id": "23acccb9",
   "metadata": {},
   "outputs": [
    {
     "data": {
      "text/plain": [
       "[-1, -4, -5, -6, -7]"
      ]
     },
     "execution_count": 67,
     "metadata": {},
     "output_type": "execute_result"
    }
   ],
   "source": [
    "# can u pls give me neg no \n",
    "list(filter( lambda x : x<0 , l))"
   ]
  },
  {
   "cell_type": "code",
   "execution_count": 69,
   "id": "8584e968",
   "metadata": {},
   "outputs": [
    {
     "data": {
      "text/plain": [
       "[2, 4, 6, 7]"
      ]
     },
     "execution_count": 69,
     "metadata": {},
     "output_type": "execute_result"
    }
   ],
   "source": [
    "# positive no \n",
    "list(filter( lambda x : x>0 , l))"
   ]
  },
  {
   "cell_type": "code",
   "execution_count": 73,
   "id": "0fdcb517",
   "metadata": {},
   "outputs": [],
   "source": [
    "l = ['shudh' , 'pwkills' , 'kalra' , 'benglore' , 'krish']"
   ]
  },
  {
   "cell_type": "code",
   "execution_count": 74,
   "id": "bec0699a",
   "metadata": {},
   "outputs": [
    {
     "data": {
      "text/plain": [
       "['shudh', 'kalra', 'krish']"
      ]
     },
     "execution_count": 74,
     "metadata": {},
     "output_type": "execute_result"
    }
   ],
   "source": [
    "# filter those string whose len is less than 6 \n",
    "list(filter(lambda x : len(x)<6 , l))"
   ]
  },
  {
   "cell_type": "code",
   "execution_count": 75,
   "id": "e7f3b576",
   "metadata": {},
   "outputs": [
    {
     "data": {
      "text/plain": [
       "['pwkills', 'benglore']"
      ]
     },
     "execution_count": 75,
     "metadata": {},
     "output_type": "execute_result"
    }
   ],
   "source": [
    "# filter those string whose len is greater  than 6 \n",
    "list(filter(lambda x : len(x)>6 , l))"
   ]
  },
  {
   "cell_type": "code",
   "execution_count": null,
   "id": "6d3ea560",
   "metadata": {},
   "outputs": [],
   "source": []
  }
 ],
 "metadata": {
  "kernelspec": {
   "display_name": "Python 3 (ipykernel)",
   "language": "python",
   "name": "python3"
  },
  "language_info": {
   "codemirror_mode": {
    "name": "ipython",
    "version": 3
   },
   "file_extension": ".py",
   "mimetype": "text/x-python",
   "name": "python",
   "nbconvert_exporter": "python",
   "pygments_lexer": "ipython3",
   "version": "3.9.13"
  }
 },
 "nbformat": 4,
 "nbformat_minor": 5
}
