{
 "cells": [
  {
   "cell_type": "markdown",
   "id": "5070fba1",
   "metadata": {},
   "source": [
    "# Day - 4 python Notes "
   ]
  },
  {
   "cell_type": "markdown",
   "id": "cfe66465",
   "metadata": {},
   "source": [
    "# String And list "
   ]
  },
  {
   "cell_type": "code",
   "execution_count": 1,
   "id": "002f8d27",
   "metadata": {},
   "outputs": [],
   "source": [
    "name = \"Data sceince Masters \""
   ]
  },
  {
   "cell_type": "code",
   "execution_count": 2,
   "id": "abe005bf",
   "metadata": {},
   "outputs": [
    {
     "data": {
      "text/plain": [
       "'dATA SCEINCE mASTERS '"
      ]
     },
     "execution_count": 2,
     "metadata": {},
     "output_type": "execute_result"
    }
   ],
   "source": [
    "name.swapcase()"
   ]
  },
  {
   "cell_type": "code",
   "execution_count": 4,
   "id": "4a52a3d2",
   "metadata": {},
   "outputs": [
    {
     "data": {
      "text/plain": [
       "'Data Sceince Masters '"
      ]
     },
     "execution_count": 4,
     "metadata": {},
     "output_type": "execute_result"
    }
   ],
   "source": [
    "name.title() # every word first character will be capital letter "
   ]
  },
  {
   "cell_type": "code",
   "execution_count": 7,
   "id": "5ac24ef0",
   "metadata": {},
   "outputs": [
    {
     "data": {
      "text/plain": [
       "'Data sceince masters '"
      ]
     },
     "execution_count": 7,
     "metadata": {},
     "output_type": "execute_result"
    }
   ],
   "source": [
    "name.capitalize()"
   ]
  },
  {
   "cell_type": "code",
   "execution_count": 8,
   "id": "07e2b9be",
   "metadata": {},
   "outputs": [
    {
     "data": {
      "text/plain": [
       "' sretsaM ecniecs ataD'"
      ]
     },
     "execution_count": 8,
     "metadata": {},
     "output_type": "execute_result"
    }
   ],
   "source": [
    "# Reversing a string \n",
    "name[::-1]"
   ]
  },
  {
   "cell_type": "code",
   "execution_count": 9,
   "id": "20d9db6d",
   "metadata": {},
   "outputs": [
    {
     "data": {
      "text/plain": [
       "<reversed at 0x2e53717d760>"
      ]
     },
     "execution_count": 9,
     "metadata": {},
     "output_type": "execute_result"
    }
   ],
   "source": [
    "#another method \n",
    "reversed(name) # we are getting object stored at this specified memory location  "
   ]
  },
  {
   "cell_type": "code",
   "execution_count": 10,
   "id": "e6a91087",
   "metadata": {},
   "outputs": [
    {
     "data": {
      "text/plain": [
       "'  s r e t s a M   e c n i e c s   a t a D'"
      ]
     },
     "execution_count": 10,
     "metadata": {},
     "output_type": "execute_result"
    }
   ],
   "source": [
    "' '.join(reversed(name))"
   ]
  },
  {
   "cell_type": "code",
   "execution_count": 11,
   "id": "ca6e1fd2",
   "metadata": {},
   "outputs": [
    {
     "data": {
      "text/plain": [
       "'nkrishakrishikrishk'"
      ]
     },
     "execution_count": 11,
     "metadata": {},
     "output_type": "execute_result"
    }
   ],
   "source": [
    "'krish'.join(\"naik\") # every character is getting concatinated "
   ]
  },
  {
   "cell_type": "code",
   "execution_count": 15,
   "id": "77d3bbd0",
   "metadata": {},
   "outputs": [
    {
     "data": {
      "text/plain": [
       "'a'"
      ]
     },
     "execution_count": 15,
     "metadata": {},
     "output_type": "execute_result"
    }
   ],
   "source": [
    "\" \".join(\"a\")"
   ]
  },
  {
   "cell_type": "code",
   "execution_count": 18,
   "id": "72e8197a",
   "metadata": {},
   "outputs": [
    {
     "data": {
      "text/plain": [
       "'a b'"
      ]
     },
     "execution_count": 18,
     "metadata": {},
     "output_type": "execute_result"
    }
   ],
   "source": [
    "\" \".join(\"ab\") # first a is coming then this string which include only space is getting print and then b will printed "
   ]
  },
  {
   "cell_type": "code",
   "execution_count": 19,
   "id": "06679317",
   "metadata": {},
   "outputs": [
    {
     "data": {
      "text/plain": [
       "'  s r e t s a M   e c n i e c s   a t a D'"
      ]
     },
     "execution_count": 19,
     "metadata": {},
     "output_type": "execute_result"
    }
   ],
   "source": [
    "' '.join(reversed(name)) # now this will reverse the string and then by having space each time print the string in reverse"
   ]
  },
  {
   "cell_type": "code",
   "execution_count": 21,
   "id": "abfa0da5",
   "metadata": {},
   "outputs": [
    {
     "data": {
      "text/plain": [
       "'t b t'"
      ]
     },
     "execution_count": 21,
     "metadata": {},
     "output_type": "execute_result"
    }
   ],
   "source": [
    "' '.join(\"tbt\")"
   ]
  },
  {
   "cell_type": "code",
   "execution_count": 22,
   "id": "c192210c",
   "metadata": {},
   "outputs": [
    {
     "data": {
      "text/plain": [
       "'  t   ,   b   ,   t'"
      ]
     },
     "execution_count": 22,
     "metadata": {},
     "output_type": "execute_result"
    }
   ],
   "source": [
    "' '.join(\" t , b , t\")"
   ]
  },
  {
   "cell_type": "code",
   "execution_count": 23,
   "id": "2a6cb848",
   "metadata": {},
   "outputs": [
    {
     "data": {
      "text/plain": [
       "'  s r e t s a M   e c n i e c s   a t a D'"
      ]
     },
     "execution_count": 23,
     "metadata": {},
     "output_type": "execute_result"
    }
   ],
   "source": [
    "' '.join(reversed(name))"
   ]
  },
  {
   "cell_type": "code",
   "execution_count": 24,
   "id": "b7b28519",
   "metadata": {},
   "outputs": [],
   "source": [
    "name = \"pwskills\"\n"
   ]
  },
  {
   "cell_type": "code",
   "execution_count": 25,
   "id": "0dae3d99",
   "metadata": {},
   "outputs": [
    {
     "data": {
      "text/plain": [
       "'s l l i k s w p'"
      ]
     },
     "execution_count": 25,
     "metadata": {},
     "output_type": "execute_result"
    }
   ],
   "source": [
    "' '.join(reversed(name))"
   ]
  },
  {
   "cell_type": "code",
   "execution_count": 26,
   "id": "01c9c436",
   "metadata": {},
   "outputs": [
    {
     "data": {
      "text/plain": [
       "'p w s k i l l s'"
      ]
     },
     "execution_count": 26,
     "metadata": {},
     "output_type": "execute_result"
    }
   ],
   "source": [
    "' '.join(name)"
   ]
  },
  {
   "cell_type": "code",
   "execution_count": 29,
   "id": "3b14fcaf",
   "metadata": {},
   "outputs": [],
   "source": [
    "name = \"data\""
   ]
  },
  {
   "cell_type": "code",
   "execution_count": 31,
   "id": "faeaee4a",
   "metadata": {},
   "outputs": [
    {
     "data": {
      "text/plain": [
       "'apw skills tpw skills apw skills d'"
      ]
     },
     "execution_count": 31,
     "metadata": {},
     "output_type": "execute_result"
    }
   ],
   "source": [
    "'pw skills '.join(reversed(name))"
   ]
  },
  {
   "cell_type": "code",
   "execution_count": 33,
   "id": "f76168d9",
   "metadata": {},
   "outputs": [
    {
     "data": {
      "text/plain": [
       "<reversed at 0x2e53717a100>"
      ]
     },
     "execution_count": 33,
     "metadata": {},
     "output_type": "execute_result"
    }
   ],
   "source": [
    "reversed('ant') # by default it will give us string object \n",
    "# by typecasting it into list we can get it in the form of list"
   ]
  },
  {
   "cell_type": "code",
   "execution_count": 34,
   "id": "a49731ce",
   "metadata": {},
   "outputs": [
    {
     "data": {
      "text/plain": [
       "['t', 'n', 'a']"
      ]
     },
     "execution_count": 34,
     "metadata": {},
     "output_type": "execute_result"
    }
   ],
   "source": [
    "list(reversed('ant'))"
   ]
  },
  {
   "cell_type": "code",
   "execution_count": 35,
   "id": "30e614dd",
   "metadata": {},
   "outputs": [
    {
     "data": {
      "text/plain": [
       "'p skills w skills   skills i skills s skills   skills a skills   skills g skills o skills o skills d skills   skills c skills o skills m skills p skills a skills n skills y'"
      ]
     },
     "execution_count": 35,
     "metadata": {},
     "output_type": "execute_result"
    }
   ],
   "source": [
    "str1='pw is a good company'\n",
    "\n",
    "' skills '.join(str1)"
   ]
  },
  {
   "cell_type": "code",
   "execution_count": 40,
   "id": "bb6be478",
   "metadata": {},
   "outputs": [
    {
     "name": "stdout",
     "output_type": "stream",
     "text": [
      "a,t,a,d,"
     ]
    }
   ],
   "source": [
    "for i in list(reversed(name)):\n",
    "    print(i , end= ',')"
   ]
  },
  {
   "cell_type": "code",
   "execution_count": 41,
   "id": "af881f30",
   "metadata": {},
   "outputs": [
    {
     "data": {
      "text/plain": [
       "'data'"
      ]
     },
     "execution_count": 41,
     "metadata": {},
     "output_type": "execute_result"
    }
   ],
   "source": [
    "name"
   ]
  },
  {
   "cell_type": "code",
   "execution_count": 42,
   "id": "3dba6c34",
   "metadata": {},
   "outputs": [],
   "source": [
    "# Removing characters from the end of the list "
   ]
  },
  {
   "cell_type": "code",
   "execution_count": 43,
   "id": "2ab3f134",
   "metadata": {},
   "outputs": [],
   "source": [
    "string_a = \" pwskills \"\n",
    "# we want to remove these spaces let's say "
   ]
  },
  {
   "cell_type": "code",
   "execution_count": 48,
   "id": "c38bf36a",
   "metadata": {},
   "outputs": [
    {
     "data": {
      "text/plain": [
       "' pwskills '"
      ]
     },
     "execution_count": 48,
     "metadata": {},
     "output_type": "execute_result"
    }
   ],
   "source": [
    "string_a.strip(\"\") # it is not removing any space because we don't mention any space here "
   ]
  },
  {
   "cell_type": "code",
   "execution_count": 49,
   "id": "57f7ddbe",
   "metadata": {},
   "outputs": [
    {
     "data": {
      "text/plain": [
       "'pwskills'"
      ]
     },
     "execution_count": 49,
     "metadata": {},
     "output_type": "execute_result"
    }
   ],
   "source": [
    "string_a.strip(' ') #to remove the strips (blank in the begining and in the end )"
   ]
  },
  {
   "cell_type": "markdown",
   "id": "df2cc1c1",
   "metadata": {},
   "source": [
    "just use shift + tab after strip it will tell what function it does"
   ]
  },
  {
   "cell_type": "code",
   "execution_count": 50,
   "id": "0253dafd",
   "metadata": {},
   "outputs": [],
   "source": [
    "# .strip method removes the first and last whitespace"
   ]
  },
  {
   "cell_type": "code",
   "execution_count": 51,
   "id": "b33a145e",
   "metadata": {},
   "outputs": [
    {
     "data": {
      "text/plain": [
       "'pwskills '"
      ]
     },
     "execution_count": 51,
     "metadata": {},
     "output_type": "execute_result"
    }
   ],
   "source": [
    "string_a.lstrip(\" \") # leading whitespace removed # last one is not yet removed "
   ]
  },
  {
   "cell_type": "code",
   "execution_count": 52,
   "id": "277578fb",
   "metadata": {},
   "outputs": [
    {
     "data": {
      "text/plain": [
       "' pwskills'"
      ]
     },
     "execution_count": 52,
     "metadata": {},
     "output_type": "execute_result"
    }
   ],
   "source": [
    "string_a.rstrip(\" \") # remove the trailing space "
   ]
  },
  {
   "cell_type": "markdown",
   "id": "7477e332",
   "metadata": {},
   "source": [
    "we can just remove the spaces with the string and either we can remove complete string but can not remoce any part of it as strings are non mutable "
   ]
  },
  {
   "cell_type": "code",
   "execution_count": 53,
   "id": "996179f2",
   "metadata": {},
   "outputs": [
    {
     "data": {
      "text/plain": [
       "'Greeting from Pwskills'"
      ]
     },
     "execution_count": 53,
     "metadata": {},
     "output_type": "execute_result"
    }
   ],
   "source": [
    "#replacing string  # we must give two parameteres for what string we want to replace with what string \n",
    "string_n = \"Greeting to Pwskills\"\n",
    "string_n.replace(\"to\" , 'from') # here it got replaced "
   ]
  },
  {
   "cell_type": "markdown",
   "id": "5fe682b6",
   "metadata": {},
   "source": [
    "we can not change a character in the string but we can change a whole word .."
   ]
  },
  {
   "cell_type": "code",
   "execution_count": 54,
   "id": "f1206d80",
   "metadata": {},
   "outputs": [],
   "source": [
    "name = 'krish'\n",
    "name = 'pw skills ' # here also whole word is getting chnaged with the other one "
   ]
  },
  {
   "cell_type": "code",
   "execution_count": 55,
   "id": "c63f5501",
   "metadata": {},
   "outputs": [
    {
     "data": {
      "text/plain": [
       "'Greeting to Pwskills'"
      ]
     },
     "execution_count": 55,
     "metadata": {},
     "output_type": "execute_result"
    }
   ],
   "source": [
    "string_n"
   ]
  },
  {
   "cell_type": "code",
   "execution_count": 59,
   "id": "f0deb964",
   "metadata": {},
   "outputs": [
    {
     "data": {
      "text/plain": [
       "'Welcome to Pwskills'"
      ]
     },
     "execution_count": 59,
     "metadata": {},
     "output_type": "execute_result"
    }
   ],
   "source": [
    "string_n.replace('Greeting','Welcome') # it will replace the old string with a new one "
   ]
  },
  {
   "cell_type": "code",
   "execution_count": 60,
   "id": "6b4777a8",
   "metadata": {},
   "outputs": [
    {
     "data": {
      "text/plain": [
       "'Greeting to Ewskills'"
      ]
     },
     "execution_count": 60,
     "metadata": {},
     "output_type": "execute_result"
    }
   ],
   "source": [
    "string_n.replace('P' , 'E') # it is not changing anything but returning a new copy "
   ]
  },
  {
   "cell_type": "code",
   "execution_count": 61,
   "id": "40a6dc8d",
   "metadata": {},
   "outputs": [
    {
     "data": {
      "text/plain": [
       "'Grssting to Pwskills'"
      ]
     },
     "execution_count": 61,
     "metadata": {},
     "output_type": "execute_result"
    }
   ],
   "source": [
    "string_n.replace('e' , 's')"
   ]
  },
  {
   "cell_type": "code",
   "execution_count": 62,
   "id": "cca79c91",
   "metadata": {},
   "outputs": [],
   "source": [
    "string_n =\"Greeting to Pwskills\"\n",
    "var1 = string_n.replace(\"G\" , \"T\")"
   ]
  },
  {
   "cell_type": "code",
   "execution_count": 63,
   "id": "690377b6",
   "metadata": {},
   "outputs": [
    {
     "data": {
      "text/plain": [
       "'Treeting to Pwskills'"
      ]
     },
     "execution_count": 63,
     "metadata": {},
     "output_type": "execute_result"
    }
   ],
   "source": [
    "var1"
   ]
  },
  {
   "cell_type": "code",
   "execution_count": 64,
   "id": "9a2f5ab0",
   "metadata": {},
   "outputs": [
    {
     "name": "stdout",
     "output_type": "stream",
     "text": [
      "3183536200480\n",
      "3183536201280\n"
     ]
    }
   ],
   "source": [
    "print(id(string_n))\n",
    "print(id(var1)) # both id are different "
   ]
  },
  {
   "cell_type": "code",
   "execution_count": 66,
   "id": "7ae07447",
   "metadata": {},
   "outputs": [
    {
     "name": "stdout",
     "output_type": "stream",
     "text": [
      "3183495463296\n"
     ]
    }
   ],
   "source": [
    "list_a = [1,2,3]\n",
    "print(id(list_a))"
   ]
  },
  {
   "cell_type": "code",
   "execution_count": 68,
   "id": "30995220",
   "metadata": {},
   "outputs": [],
   "source": [
    "list_a[0] = 4"
   ]
  },
  {
   "cell_type": "code",
   "execution_count": 69,
   "id": "5accf49b",
   "metadata": {},
   "outputs": [
    {
     "name": "stdout",
     "output_type": "stream",
     "text": [
      "3183495463296\n"
     ]
    }
   ],
   "source": [
    "print(id(list_a)) # loook the id is same here when we doing some mutation with the string "
   ]
  },
  {
   "cell_type": "code",
   "execution_count": 70,
   "id": "b735dc81",
   "metadata": {},
   "outputs": [],
   "source": [
    "# so in the above case we are just making a new string "
   ]
  },
  {
   "cell_type": "code",
   "execution_count": 73,
   "id": "75309e1b",
   "metadata": {},
   "outputs": [],
   "source": [
    "a='hello world '"
   ]
  },
  {
   "cell_type": "code",
   "execution_count": 74,
   "id": "87db0b10",
   "metadata": {},
   "outputs": [],
   "source": [
    "m = a.replace(\"hello\" , 'yello')"
   ]
  },
  {
   "cell_type": "code",
   "execution_count": 75,
   "id": "2c1cd88d",
   "metadata": {},
   "outputs": [
    {
     "data": {
      "text/plain": [
       "'yello world '"
      ]
     },
     "execution_count": 75,
     "metadata": {},
     "output_type": "execute_result"
    }
   ],
   "source": [
    "m"
   ]
  },
  {
   "cell_type": "code",
   "execution_count": 76,
   "id": "cf41e90f",
   "metadata": {},
   "outputs": [
    {
     "name": "stdout",
     "output_type": "stream",
     "text": [
      "3183540257392\n",
      "3183530152112\n"
     ]
    }
   ],
   "source": [
    "print(id(a))\n",
    "print(id(m))"
   ]
  },
  {
   "cell_type": "code",
   "execution_count": 80,
   "id": "0897762e",
   "metadata": {},
   "outputs": [],
   "source": [
    "string_n = 'test@gmail.com'\n",
    "var_a = string_n.replace('@' , ' ')"
   ]
  },
  {
   "cell_type": "code",
   "execution_count": 81,
   "id": "6dadf52d",
   "metadata": {},
   "outputs": [
    {
     "data": {
      "text/plain": [
       "'test gmail.com'"
      ]
     },
     "execution_count": 81,
     "metadata": {},
     "output_type": "execute_result"
    }
   ],
   "source": [
    "var_a"
   ]
  },
  {
   "cell_type": "code",
   "execution_count": 82,
   "id": "ed0c954c",
   "metadata": {},
   "outputs": [
    {
     "data": {
      "text/plain": [
       "'hello \\n world'"
      ]
     },
     "execution_count": 82,
     "metadata": {},
     "output_type": "execute_result"
    }
   ],
   "source": [
    "'hello \\n world'"
   ]
  },
  {
   "cell_type": "code",
   "execution_count": 86,
   "id": "6c39d85e",
   "metadata": {},
   "outputs": [
    {
     "data": {
      "text/plain": [
       "'hello   world'"
      ]
     },
     "execution_count": 86,
     "metadata": {},
     "output_type": "execute_result"
    }
   ],
   "source": [
    "'hello \\tworld'.expandtabs() #\\t stands for tabs."
   ]
  },
  {
   "cell_type": "code",
   "execution_count": 87,
   "id": "e4e9d99c",
   "metadata": {},
   "outputs": [],
   "source": [
    "str1 = 'Welcome to Pwskills .welcome to dat cience masters'"
   ]
  },
  {
   "cell_type": "code",
   "execution_count": 88,
   "id": "b4262594",
   "metadata": {},
   "outputs": [
    {
     "data": {
      "text/plain": [
       "'Welcome to Pwskills .welcome to data cience masters'"
      ]
     },
     "execution_count": 88,
     "metadata": {},
     "output_type": "execute_result"
    }
   ],
   "source": [
    "str1.replace(\"dat\" , \"data\")"
   ]
  },
  {
   "cell_type": "code",
   "execution_count": 89,
   "id": "c0c48cb8",
   "metadata": {},
   "outputs": [
    {
     "data": {
      "text/plain": [
       "'Welcome to Pwskills .welcome to dat science masters'"
      ]
     },
     "execution_count": 89,
     "metadata": {},
     "output_type": "execute_result"
    }
   ],
   "source": [
    "str1.replace(\"cience\" , \"science\")"
   ]
  },
  {
   "cell_type": "code",
   "execution_count": 90,
   "id": "a2a89c69",
   "metadata": {},
   "outputs": [
    {
     "data": {
      "text/plain": [
       "'Welcome to Pwskills .welcome to dat cience masters'"
      ]
     },
     "execution_count": 90,
     "metadata": {},
     "output_type": "execute_result"
    }
   ],
   "source": [
    "str1"
   ]
  },
  {
   "cell_type": "code",
   "execution_count": 91,
   "id": "ff9491bf",
   "metadata": {},
   "outputs": [
    {
     "data": {
      "text/plain": [
       "'Welcome to Pwskills .welcome to data science masters'"
      ]
     },
     "execution_count": 91,
     "metadata": {},
     "output_type": "execute_result"
    }
   ],
   "source": [
    "#also do in this way\n",
    "str1.replace('dat' , 'data').replace('cience' , 'science')"
   ]
  },
  {
   "cell_type": "code",
   "execution_count": 92,
   "id": "183210f0",
   "metadata": {},
   "outputs": [
    {
     "data": {
      "text/plain": [
       "False"
      ]
     },
     "execution_count": 92,
     "metadata": {},
     "output_type": "execute_result"
    }
   ],
   "source": [
    "# how to check wether a string is in upper case or not \n",
    "str1.isupper()"
   ]
  },
  {
   "cell_type": "code",
   "execution_count": 93,
   "id": "0dbd11c7",
   "metadata": {},
   "outputs": [
    {
     "data": {
      "text/plain": [
       "False"
      ]
     },
     "execution_count": 93,
     "metadata": {},
     "output_type": "execute_result"
    }
   ],
   "source": [
    "str1.islower()"
   ]
  },
  {
   "cell_type": "code",
   "execution_count": 95,
   "id": "0acc11de",
   "metadata": {},
   "outputs": [
    {
     "data": {
      "text/plain": [
       "True"
      ]
     },
     "execution_count": 95,
     "metadata": {},
     "output_type": "execute_result"
    }
   ],
   "source": [
    "str2 = 'DATA'\n",
    "str2.isupper()"
   ]
  },
  {
   "cell_type": "code",
   "execution_count": 96,
   "id": "e46c2526",
   "metadata": {},
   "outputs": [
    {
     "data": {
      "text/plain": [
       "True"
      ]
     },
     "execution_count": 96,
     "metadata": {},
     "output_type": "execute_result"
    }
   ],
   "source": [
    "str2='data'\n",
    "str2.islower()"
   ]
  },
  {
   "cell_type": "code",
   "execution_count": 97,
   "id": "b02bec1e",
   "metadata": {},
   "outputs": [
    {
     "data": {
      "text/plain": [
       "False"
      ]
     },
     "execution_count": 97,
     "metadata": {},
     "output_type": "execute_result"
    }
   ],
   "source": [
    "str2.isspace()"
   ]
  },
  {
   "cell_type": "code",
   "execution_count": 98,
   "id": "52118b13",
   "metadata": {},
   "outputs": [],
   "source": [
    "str2 = 'd a t a '"
   ]
  },
  {
   "cell_type": "code",
   "execution_count": 100,
   "id": "3e1a5ad5",
   "metadata": {},
   "outputs": [
    {
     "data": {
      "text/plain": [
       "False"
      ]
     },
     "execution_count": 100,
     "metadata": {},
     "output_type": "execute_result"
    }
   ],
   "source": [
    "str2.isspace()"
   ]
  },
  {
   "cell_type": "code",
   "execution_count": 104,
   "id": "2fc2052b",
   "metadata": {},
   "outputs": [],
   "source": [
    "str2 = '  data '"
   ]
  },
  {
   "cell_type": "code",
   "execution_count": 106,
   "id": "10b2a30d",
   "metadata": {},
   "outputs": [
    {
     "data": {
      "text/plain": [
       "False"
      ]
     },
     "execution_count": 106,
     "metadata": {},
     "output_type": "execute_result"
    }
   ],
   "source": [
    "str2.isspace()"
   ]
  },
  {
   "cell_type": "code",
   "execution_count": 107,
   "id": "becb55b3",
   "metadata": {},
   "outputs": [
    {
     "data": {
      "text/plain": [
       "'  data '"
      ]
     },
     "execution_count": 107,
     "metadata": {},
     "output_type": "execute_result"
    }
   ],
   "source": [
    "str2"
   ]
  },
  {
   "cell_type": "code",
   "execution_count": 108,
   "id": "0c79755c",
   "metadata": {},
   "outputs": [],
   "source": [
    "# isspace looks for whitespace string that means completely blank ...."
   ]
  },
  {
   "cell_type": "code",
   "execution_count": 109,
   "id": "71a01dd8",
   "metadata": {},
   "outputs": [
    {
     "data": {
      "text/plain": [
       "True"
      ]
     },
     "execution_count": 109,
     "metadata": {},
     "output_type": "execute_result"
    }
   ],
   "source": [
    "\" \".isspace()"
   ]
  },
  {
   "cell_type": "code",
   "execution_count": 113,
   "id": "283dd189",
   "metadata": {},
   "outputs": [
    {
     "name": "stdout",
     "output_type": "stream",
     "text": [
      "it's ok \n"
     ]
    }
   ],
   "source": [
    "if str1.isspace == True:\n",
    "    print('fuck you')\n",
    "else:\n",
    "     print(\"it's ok \")"
   ]
  },
  {
   "cell_type": "code",
   "execution_count": 115,
   "id": "8048ddb6",
   "metadata": {},
   "outputs": [],
   "source": [
    "if str1.isspace():\n",
    "    print(Ttttt)"
   ]
  },
  {
   "cell_type": "code",
   "execution_count": 117,
   "id": "9df099b7",
   "metadata": {},
   "outputs": [
    {
     "name": "stdout",
     "output_type": "stream",
     "text": [
      "yyyyy\n"
     ]
    }
   ],
   "source": [
    "if \" \".isspace():\n",
    "    print('yyyyy')"
   ]
  },
  {
   "cell_type": "code",
   "execution_count": 118,
   "id": "7fd84f7f",
   "metadata": {},
   "outputs": [],
   "source": [
    "str2 = \"pwskills\""
   ]
  },
  {
   "cell_type": "code",
   "execution_count": 119,
   "id": "a626172e",
   "metadata": {},
   "outputs": [
    {
     "data": {
      "text/plain": [
       "True"
      ]
     },
     "execution_count": 119,
     "metadata": {},
     "output_type": "execute_result"
    }
   ],
   "source": [
    "str2.endswith('s')"
   ]
  },
  {
   "cell_type": "code",
   "execution_count": 120,
   "id": "c0f5a443",
   "metadata": {},
   "outputs": [
    {
     "data": {
      "text/plain": [
       "False"
      ]
     },
     "execution_count": 120,
     "metadata": {},
     "output_type": "execute_result"
    }
   ],
   "source": [
    "str2.endswith('5')"
   ]
  },
  {
   "cell_type": "code",
   "execution_count": 123,
   "id": "40dd96b4",
   "metadata": {},
   "outputs": [
    {
     "data": {
      "text/plain": [
       "True"
      ]
     },
     "execution_count": 123,
     "metadata": {},
     "output_type": "execute_result"
    }
   ],
   "source": [
    "str2.startswith('p')"
   ]
  },
  {
   "cell_type": "code",
   "execution_count": 126,
   "id": "1ee88d5b",
   "metadata": {},
   "outputs": [
    {
     "data": {
      "text/plain": [
       "True"
      ]
     },
     "execution_count": 126,
     "metadata": {},
     "output_type": "execute_result"
    }
   ],
   "source": [
    "# check if all the characters in the string are the alpha numeric \n",
    "a = 'abcd12234'\n",
    "a.isalnum()"
   ]
  },
  {
   "cell_type": "code",
   "execution_count": 127,
   "id": "ae905772",
   "metadata": {},
   "outputs": [],
   "source": [
    "## to count the no of  character in the strings \n"
   ]
  },
  {
   "cell_type": "code",
   "execution_count": 129,
   "id": "b7941587",
   "metadata": {},
   "outputs": [
    {
     "name": "stdout",
     "output_type": "stream",
     "text": [
      "8\n"
     ]
    }
   ],
   "source": [
    "str2= 'pwskills'\n",
    "count=0\n",
    "for i in str2:\n",
    "    count = count +1\n",
    "print(count)"
   ]
  },
  {
   "cell_type": "code",
   "execution_count": 130,
   "id": "8ba52dbb",
   "metadata": {},
   "outputs": [
    {
     "name": "stdout",
     "output_type": "stream",
     "text": [
      "1\n",
      "2\n",
      "3\n",
      "4\n",
      "5\n",
      "6\n",
      "7\n",
      "8\n"
     ]
    }
   ],
   "source": [
    "str2= 'pwskills'\n",
    "count=0\n",
    "for i in str2:\n",
    "    count = count +1\n",
    "    print(count)"
   ]
  },
  {
   "cell_type": "code",
   "execution_count": 131,
   "id": "e8580beb",
   "metadata": {},
   "outputs": [
    {
     "data": {
      "text/plain": [
       "8"
      ]
     },
     "execution_count": 131,
     "metadata": {},
     "output_type": "execute_result"
    }
   ],
   "source": [
    "len(str2)"
   ]
  },
  {
   "cell_type": "code",
   "execution_count": 132,
   "id": "3bc47150",
   "metadata": {},
   "outputs": [
    {
     "name": "stdout",
     "output_type": "stream",
     "text": [
      "p\n",
      "w\n",
      "s\n",
      "k\n",
      "i\n",
      "l\n",
      "l\n",
      "s\n"
     ]
    }
   ],
   "source": [
    "for i in str2:\n",
    "    print(i)"
   ]
  },
  {
   "cell_type": "code",
   "execution_count": 136,
   "id": "9d0d6c55",
   "metadata": {},
   "outputs": [
    {
     "name": "stdout",
     "output_type": "stream",
     "text": [
      "p\n",
      "w\n",
      "s\n",
      "k\n",
      "i\n",
      "l\n",
      "l\n",
      "s\n"
     ]
    }
   ],
   "source": [
    "for i in range(len(str2)):\n",
    "    print(str2[i])"
   ]
  },
  {
   "cell_type": "code",
   "execution_count": 137,
   "id": "5cd05386",
   "metadata": {},
   "outputs": [
    {
     "data": {
      "text/plain": [
       "range(0, 8)"
      ]
     },
     "execution_count": 137,
     "metadata": {},
     "output_type": "execute_result"
    }
   ],
   "source": [
    "range(len(str2))"
   ]
  },
  {
   "cell_type": "code",
   "execution_count": 138,
   "id": "4897b576",
   "metadata": {},
   "outputs": [
    {
     "name": "stdout",
     "output_type": "stream",
     "text": [
      "0 = p\n",
      "1 = w\n",
      "2 = s\n",
      "3 = k\n",
      "4 = i\n",
      "5 = l\n",
      "6 = l\n",
      "7 = s\n"
     ]
    }
   ],
   "source": [
    "for i in range(len(str2)):\n",
    "    print( i , '=' , str2[i])"
   ]
  },
  {
   "cell_type": "code",
   "execution_count": 139,
   "id": "ad2ce694",
   "metadata": {},
   "outputs": [
    {
     "name": "stdout",
     "output_type": "stream",
     "text": [
      "s\n",
      "l\n",
      "l\n",
      "i\n",
      "k\n",
      "s\n",
      "w\n",
      "p\n"
     ]
    }
   ],
   "source": [
    "# we can use index to iterate string reverse direction \n",
    "for i in range(len(str2)-1,-1,-1):\n",
    "    print(str2[i]) # last index to -1 index in reverse order "
   ]
  },
  {
   "cell_type": "code",
   "execution_count": 140,
   "id": "24dbf606",
   "metadata": {},
   "outputs": [
    {
     "data": {
      "text/plain": [
       "7"
      ]
     },
     "execution_count": 140,
     "metadata": {},
     "output_type": "execute_result"
    }
   ],
   "source": [
    "len(str2)-1"
   ]
  },
  {
   "cell_type": "code",
   "execution_count": 143,
   "id": "6406dced",
   "metadata": {},
   "outputs": [
    {
     "name": "stdout",
     "output_type": "stream",
     "text": [
      "s\n",
      "l\n",
      "l\n",
      "i\n",
      "k\n",
      "s\n",
      "w\n",
      "p\n"
     ]
    }
   ],
   "source": [
    "string = 'pwskills'\n",
    "ch = len(string)-1\n",
    "while ch>=0:\n",
    "    print(string[ch])\n",
    "    ch=ch-1"
   ]
  },
  {
   "cell_type": "code",
   "execution_count": 142,
   "id": "12694079",
   "metadata": {},
   "outputs": [
    {
     "data": {
      "text/plain": [
       "7"
      ]
     },
     "execution_count": 142,
     "metadata": {},
     "output_type": "execute_result"
    }
   ],
   "source": [
    "ch"
   ]
  },
  {
   "cell_type": "code",
   "execution_count": 144,
   "id": "d68efc9b",
   "metadata": {},
   "outputs": [
    {
     "data": {
      "text/plain": [
       "('s', 'l', 'l', 'i', 'k', 's')"
      ]
     },
     "execution_count": 144,
     "metadata": {},
     "output_type": "execute_result"
    }
   ],
   "source": [
    "string[7] , string[6] , string[5] , string[4] , string[3] , string[2]"
   ]
  },
  {
   "cell_type": "code",
   "execution_count": 145,
   "id": "6a177ac9",
   "metadata": {},
   "outputs": [
    {
     "name": "stdout",
     "output_type": "stream",
     "text": [
      "s\n",
      "l\n",
      "l\n",
      "i\n",
      "k\n",
      "s\n",
      "w\n",
      "p\n"
     ]
    }
   ],
   "source": [
    "for i in range(len(string)):\n",
    "    print(string[len(string)-(i+1)])"
   ]
  },
  {
   "cell_type": "code",
   "execution_count": 146,
   "id": "c7ecbf5c",
   "metadata": {},
   "outputs": [
    {
     "name": "stdout",
     "output_type": "stream",
     "text": [
      "sllikswp"
     ]
    }
   ],
   "source": [
    "for i in range(len(string)):\n",
    "    print(string[len(string)-(i+1)] , end = '')"
   ]
  },
  {
   "cell_type": "code",
   "execution_count": 147,
   "id": "8871a8ed",
   "metadata": {},
   "outputs": [],
   "source": [
    "name = \"pwskills\"\n",
    "vowels = \"AaEeIiOoUu\""
   ]
  },
  {
   "cell_type": "code",
   "execution_count": 148,
   "id": "427e229b",
   "metadata": {},
   "outputs": [
    {
     "data": {
      "text/plain": [
       "-1"
      ]
     },
     "execution_count": 148,
     "metadata": {},
     "output_type": "execute_result"
    }
   ],
   "source": [
    "ch"
   ]
  },
  {
   "cell_type": "code",
   "execution_count": 149,
   "id": "01d8dffa",
   "metadata": {},
   "outputs": [
    {
     "name": "stdout",
     "output_type": "stream",
     "text": [
      "p\n",
      "w\n",
      "s\n",
      "k\n",
      "i\n",
      "l\n",
      "l\n",
      "s\n"
     ]
    }
   ],
   "source": [
    "for ch in name:\n",
    "    print(ch)"
   ]
  },
  {
   "cell_type": "code",
   "execution_count": 150,
   "id": "9ef9ea4a",
   "metadata": {},
   "outputs": [
    {
     "name": "stdout",
     "output_type": "stream",
     "text": [
      "p is not a vowel\n",
      "w is not a vowel\n",
      "s is not a vowel\n",
      "k is not a vowel\n",
      "i is a vowel\n",
      "l is not a vowel\n",
      "l is not a vowel\n",
      "s is not a vowel\n"
     ]
    }
   ],
   "source": [
    "for ch in name:\n",
    "    if ch in vowels:\n",
    "        print(\"{} is a vowel\".format(ch))# to check if ch is available in vowels \n",
    "    else:\n",
    "        print(\"{} is not a vowel\".format(ch))\n",
    "                                                           "
   ]
  },
  {
   "cell_type": "markdown",
   "id": "d8edd977",
   "metadata": {},
   "source": [
    "# Lists "
   ]
  },
  {
   "cell_type": "markdown",
   "id": "e181288c",
   "metadata": {},
   "source": [
    "we must say an empty brackets are list ..."
   ]
  },
  {
   "cell_type": "code",
   "execution_count": 151,
   "id": "ae25465b",
   "metadata": {},
   "outputs": [
    {
     "data": {
      "text/plain": [
       "list"
      ]
     },
     "execution_count": 151,
     "metadata": {},
     "output_type": "execute_result"
    }
   ],
   "source": [
    "type([])"
   ]
  },
  {
   "cell_type": "code",
   "execution_count": 152,
   "id": "c3731031",
   "metadata": {},
   "outputs": [
    {
     "data": {
      "text/plain": [
       "['krish', 'naik', 'rohan', 'kalra']"
      ]
     },
     "execution_count": 152,
     "metadata": {},
     "output_type": "execute_result"
    }
   ],
   "source": [
    "['krish' , 'naik' , 'rohan' , 'kalra']"
   ]
  },
  {
   "cell_type": "code",
   "execution_count": 153,
   "id": "96378efe",
   "metadata": {},
   "outputs": [
    {
     "data": {
      "text/plain": [
       "[1, 2, 3, 4, 5, 6, 7]"
      ]
     },
     "execution_count": 153,
     "metadata": {},
     "output_type": "execute_result"
    }
   ],
   "source": [
    "list([1,2,3,4,5,6,7])"
   ]
  },
  {
   "cell_type": "code",
   "execution_count": 154,
   "id": "1b68a5db",
   "metadata": {},
   "outputs": [
    {
     "data": {
      "text/plain": [
       "['p', 'w', 's', 'k', 'i', 'l', 'l', 's']"
      ]
     },
     "execution_count": 154,
     "metadata": {},
     "output_type": "execute_result"
    }
   ],
   "source": [
    "str1 = 'pwskills'\n",
    "list(str1)"
   ]
  },
  {
   "cell_type": "code",
   "execution_count": 171,
   "id": "927aaf3c",
   "metadata": {},
   "outputs": [],
   "source": [
    "str1 = \"pw skills data science masters\"\n"
   ]
  },
  {
   "cell_type": "code",
   "execution_count": 156,
   "id": "0d9a3cc5",
   "metadata": {},
   "outputs": [
    {
     "data": {
      "text/plain": [
       "['pw', 'skills', 'data', 'science', 'masters', '']"
      ]
     },
     "execution_count": 156,
     "metadata": {},
     "output_type": "execute_result"
    }
   ],
   "source": [
    "list(str1.split(\" \"))"
   ]
  },
  {
   "cell_type": "code",
   "execution_count": 159,
   "id": "bec19411",
   "metadata": {},
   "outputs": [
    {
     "data": {
      "text/plain": [
       "['pw', 'skills', 'data', 'science', 'masters', '']"
      ]
     },
     "execution_count": 159,
     "metadata": {},
     "output_type": "execute_result"
    }
   ],
   "source": [
    "str1.split(\" \")  # return function of split inside string is list , it will return result into the list form "
   ]
  },
  {
   "cell_type": "code",
   "execution_count": 173,
   "id": "6f63118e",
   "metadata": {},
   "outputs": [],
   "source": [
    "lst1 =list(str1.split(\" \"))"
   ]
  },
  {
   "cell_type": "code",
   "execution_count": 164,
   "id": "d9b39e22",
   "metadata": {},
   "outputs": [
    {
     "data": {
      "text/plain": [
       "'pw'"
      ]
     },
     "execution_count": 164,
     "metadata": {},
     "output_type": "execute_result"
    }
   ],
   "source": [
    "lst1[0]"
   ]
  },
  {
   "cell_type": "code",
   "execution_count": 174,
   "id": "74f9328f",
   "metadata": {},
   "outputs": [
    {
     "data": {
      "text/plain": [
       "['pw', 'skills', 'data', 'science', 'masters']"
      ]
     },
     "execution_count": 174,
     "metadata": {},
     "output_type": "execute_result"
    }
   ],
   "source": [
    "lst1"
   ]
  },
  {
   "cell_type": "code",
   "execution_count": 166,
   "id": "d9bd499f",
   "metadata": {},
   "outputs": [],
   "source": [
    "lst1[2] = 'Data'"
   ]
  },
  {
   "cell_type": "code",
   "execution_count": 176,
   "id": "95be3216",
   "metadata": {},
   "outputs": [
    {
     "data": {
      "text/plain": [
       "['pw', 'skills', 'data', 'science', 'masters']"
      ]
     },
     "execution_count": 176,
     "metadata": {},
     "output_type": "execute_result"
    }
   ],
   "source": [
    "lst1"
   ]
  },
  {
   "cell_type": "code",
   "execution_count": 168,
   "id": "2da7ead0",
   "metadata": {},
   "outputs": [
    {
     "data": {
      "text/plain": [
       "'masters'"
      ]
     },
     "execution_count": 168,
     "metadata": {},
     "output_type": "execute_result"
    }
   ],
   "source": [
    "lst1[-2]"
   ]
  },
  {
   "cell_type": "code",
   "execution_count": 177,
   "id": "9c97997c",
   "metadata": {},
   "outputs": [
    {
     "data": {
      "text/plain": [
       "['masters', 'data', 'pw']"
      ]
     },
     "execution_count": 177,
     "metadata": {},
     "output_type": "execute_result"
    }
   ],
   "source": [
    "lst1[::-2] # last element masters is coming then then the step size of -2(means every 2nd element )"
   ]
  },
  {
   "cell_type": "code",
   "execution_count": 178,
   "id": "3dc80d32",
   "metadata": {},
   "outputs": [
    {
     "data": {
      "text/plain": [
       "['pw']"
      ]
     },
     "execution_count": 178,
     "metadata": {},
     "output_type": "execute_result"
    }
   ],
   "source": [
    "# let's bring pw\n",
    "lst1[-5::-2]"
   ]
  },
  {
   "cell_type": "code",
   "execution_count": 179,
   "id": "edbf4f00",
   "metadata": {},
   "outputs": [
    {
     "data": {
      "text/plain": [
       "'pw'"
      ]
     },
     "execution_count": 179,
     "metadata": {},
     "output_type": "execute_result"
    }
   ],
   "source": [
    "lst1[-5]"
   ]
  },
  {
   "cell_type": "code",
   "execution_count": 180,
   "id": "cc47f0c7",
   "metadata": {},
   "outputs": [
    {
     "data": {
      "text/plain": [
       "['pw', 'skills', 'data', 'science', 'masters']"
      ]
     },
     "execution_count": 180,
     "metadata": {},
     "output_type": "execute_result"
    }
   ],
   "source": [
    "lst1"
   ]
  },
  {
   "cell_type": "code",
   "execution_count": 181,
   "id": "3507f53e",
   "metadata": {},
   "outputs": [
    {
     "data": {
      "text/plain": [
       "[]"
      ]
     },
     "execution_count": 181,
     "metadata": {},
     "output_type": "execute_result"
    }
   ],
   "source": [
    "lst1[-5:3:-2] #there is nothing overlapping "
   ]
  },
  {
   "cell_type": "code",
   "execution_count": 182,
   "id": "b2f72fec",
   "metadata": {},
   "outputs": [
    {
     "data": {
      "text/plain": [
       "[]"
      ]
     },
     "execution_count": 182,
     "metadata": {},
     "output_type": "execute_result"
    }
   ],
   "source": [
    "lst1[-5:-3:-2]"
   ]
  },
  {
   "cell_type": "code",
   "execution_count": 183,
   "id": "d4f7aebc",
   "metadata": {},
   "outputs": [
    {
     "ename": "TypeError",
     "evalue": "can only concatenate list (not \"int\") to list",
     "output_type": "error",
     "traceback": [
      "\u001b[1;31m---------------------------------------------------------------------------\u001b[0m",
      "\u001b[1;31mTypeError\u001b[0m                                 Traceback (most recent call last)",
      "\u001b[1;32m~\\AppData\\Local\\Temp\\ipykernel_4180\\993786256.py\u001b[0m in \u001b[0;36m<module>\u001b[1;34m\u001b[0m\n\u001b[0;32m      1\u001b[0m \u001b[1;31m# concatenation operation\u001b[0m\u001b[1;33m\u001b[0m\u001b[1;33m\u001b[0m\u001b[0m\n\u001b[1;32m----> 2\u001b[1;33m \u001b[0mlst1\u001b[0m \u001b[1;33m+\u001b[0m \u001b[1;36m1\u001b[0m\u001b[1;33m\u001b[0m\u001b[1;33m\u001b[0m\u001b[0m\n\u001b[0m",
      "\u001b[1;31mTypeError\u001b[0m: can only concatenate list (not \"int\") to list"
     ]
    }
   ],
   "source": [
    "# concatenation operation \n",
    "lst1 + 1"
   ]
  },
  {
   "cell_type": "code",
   "execution_count": 184,
   "id": "ffc985a2",
   "metadata": {},
   "outputs": [
    {
     "data": {
      "text/plain": [
       "['pw', 'skills', 'data', 'science', 'masters', ' ']"
      ]
     },
     "execution_count": 184,
     "metadata": {},
     "output_type": "execute_result"
    }
   ],
   "source": [
    "lst1 + [\" \"]"
   ]
  },
  {
   "cell_type": "code",
   "execution_count": 185,
   "id": "1d67044e",
   "metadata": {},
   "outputs": [
    {
     "data": {
      "text/plain": [
       "['pw', 'skills', 'data', 'science', 'masters', 'new element ', 3]"
      ]
     },
     "execution_count": 185,
     "metadata": {},
     "output_type": "execute_result"
    }
   ],
   "source": [
    "lst1 +[\"new element \" , 3]"
   ]
  },
  {
   "cell_type": "code",
   "execution_count": 186,
   "id": "57dc54b1",
   "metadata": {},
   "outputs": [
    {
     "data": {
      "text/plain": [
       "['pw', 'skills', 'data', 'science', 'masters', ['new elements', 3, 4, 5]]"
      ]
     },
     "execution_count": 186,
     "metadata": {},
     "output_type": "execute_result"
    }
   ],
   "source": [
    "# if we make double bracket it will become the muti nested list \n",
    "lst1 + [[\"new elements\" ,3]] # nested list = list inside list "
   ]
  },
  {
   "cell_type": "code",
   "execution_count": 187,
   "id": "4e8aebe4",
   "metadata": {},
   "outputs": [],
   "source": [
    "lst2 = lst1 + [[\"new elements\" ,3]] "
   ]
  },
  {
   "cell_type": "code",
   "execution_count": 188,
   "id": "a38827c1",
   "metadata": {},
   "outputs": [
    {
     "data": {
      "text/plain": [
       "['pw', 'skills', 'data', 'science', 'masters', ['new elements', 3]]"
      ]
     },
     "execution_count": 188,
     "metadata": {},
     "output_type": "execute_result"
    }
   ],
   "source": [
    "lst2"
   ]
  },
  {
   "cell_type": "code",
   "execution_count": 189,
   "id": "fc5f9135",
   "metadata": {},
   "outputs": [],
   "source": [
    "# suppose we want to iterate the 'new elements'"
   ]
  },
  {
   "cell_type": "code",
   "execution_count": 190,
   "id": "27298aab",
   "metadata": {},
   "outputs": [
    {
     "data": {
      "text/plain": [
       "['new elements', 3]"
      ]
     },
     "execution_count": 190,
     "metadata": {},
     "output_type": "execute_result"
    }
   ],
   "source": [
    "lst2[-1]"
   ]
  },
  {
   "cell_type": "code",
   "execution_count": 191,
   "id": "6124425b",
   "metadata": {},
   "outputs": [
    {
     "data": {
      "text/plain": [
       "'new elements'"
      ]
     },
     "execution_count": 191,
     "metadata": {},
     "output_type": "execute_result"
    }
   ],
   "source": [
    "lst2[-1][0] # return type is string "
   ]
  },
  {
   "cell_type": "code",
   "execution_count": 192,
   "id": "facd9971",
   "metadata": {},
   "outputs": [
    {
     "data": {
      "text/plain": [
       "['pw',\n",
       " 'skills',\n",
       " 'data',\n",
       " 'science',\n",
       " 'masters',\n",
       " 'pw',\n",
       " 'skills',\n",
       " 'data',\n",
       " 'science',\n",
       " 'masters']"
      ]
     },
     "execution_count": 192,
     "metadata": {},
     "output_type": "execute_result"
    }
   ],
   "source": [
    "lst1 * 2 # all the elements getting repeated two times "
   ]
  },
  {
   "cell_type": "markdown",
   "id": "6c22a28e",
   "metadata": {},
   "source": [
    "when we do any operation and we are not assigning it to any variable like in the above cell then it knows as  not a inplace process "
   ]
  },
  {
   "cell_type": "code",
   "execution_count": 193,
   "id": "79bc280a",
   "metadata": {},
   "outputs": [
    {
     "data": {
      "text/plain": [
       "['pw', 'skills', 'data', 'science', 'masters']"
      ]
     },
     "execution_count": 193,
     "metadata": {},
     "output_type": "execute_result"
    }
   ],
   "source": [
    "# check wether science is present in the list or not \n",
    "lst1"
   ]
  },
  {
   "cell_type": "code",
   "execution_count": 196,
   "id": "4a70b3ae",
   "metadata": {},
   "outputs": [
    {
     "name": "stdout",
     "output_type": "stream",
     "text": [
      "pw\n",
      "skills\n",
      "data\n",
      "science\n",
      "masters\n"
     ]
    }
   ],
   "source": [
    "for element in lst1:\n",
    "    print(element)"
   ]
  },
  {
   "cell_type": "code",
   "execution_count": 197,
   "id": "fc29adc1",
   "metadata": {},
   "outputs": [
    {
     "name": "stdout",
     "output_type": "stream",
     "text": [
      "present\n"
     ]
    }
   ],
   "source": [
    "if 'science' in lst1:\n",
    "    print('present')\n",
    "    "
   ]
  },
  {
   "cell_type": "code",
   "execution_count": 201,
   "id": "1a7b6527",
   "metadata": {},
   "outputs": [
    {
     "name": "stdout",
     "output_type": "stream",
     "text": [
      "science\n"
     ]
    }
   ],
   "source": [
    "for elements in lst1:\n",
    "    if elements == 'science':\n",
    "        \n",
    "        print(elements)\n",
    "        break"
   ]
  },
  {
   "cell_type": "code",
   "execution_count": 202,
   "id": "4d48350c",
   "metadata": {},
   "outputs": [
    {
     "data": {
      "text/plain": [
       "True"
      ]
     },
     "execution_count": 202,
     "metadata": {},
     "output_type": "execute_result"
    }
   ],
   "source": [
    "# check elements inside a list \n",
    "lst = [1,2,3,4]\n",
    "4 in lst"
   ]
  },
  {
   "cell_type": "code",
   "execution_count": 203,
   "id": "e83f75da",
   "metadata": {},
   "outputs": [
    {
     "data": {
      "text/plain": [
       "False"
      ]
     },
     "execution_count": 203,
     "metadata": {},
     "output_type": "execute_result"
    }
   ],
   "source": [
    "lst = [1,2,3,4]\n",
    "5 in lst"
   ]
  },
  {
   "cell_type": "code",
   "execution_count": 204,
   "id": "6b268518",
   "metadata": {},
   "outputs": [],
   "source": [
    "lst1 = ['zebra' , 'monkey' , 'donkey' , 'lion']\n",
    "lst2 = [5,6,2,9,5,8,6]"
   ]
  },
  {
   "cell_type": "code",
   "execution_count": 205,
   "id": "267e6070",
   "metadata": {},
   "outputs": [
    {
     "name": "stdout",
     "output_type": "stream",
     "text": [
      "zebra\n"
     ]
    }
   ],
   "source": [
    "print(max(lst1)) # it will go and see alphabetically (look with z ascii character )"
   ]
  },
  {
   "cell_type": "code",
   "execution_count": 206,
   "id": "401857a3",
   "metadata": {},
   "outputs": [
    {
     "data": {
      "text/plain": [
       "9"
      ]
     },
     "execution_count": 206,
     "metadata": {},
     "output_type": "execute_result"
    }
   ],
   "source": [
    "max(lst2) # maximum value "
   ]
  },
  {
   "cell_type": "code",
   "execution_count": 207,
   "id": "f550b635",
   "metadata": {},
   "outputs": [
    {
     "data": {
      "text/plain": [
       "2"
      ]
     },
     "execution_count": 207,
     "metadata": {},
     "output_type": "execute_result"
    }
   ],
   "source": [
    "min(lst2)"
   ]
  },
  {
   "cell_type": "code",
   "execution_count": 208,
   "id": "fbbed34e",
   "metadata": {},
   "outputs": [
    {
     "data": {
      "text/plain": [
       "'donkey'"
      ]
     },
     "execution_count": 208,
     "metadata": {},
     "output_type": "execute_result"
    }
   ],
   "source": [
    "min(lst1)"
   ]
  },
  {
   "cell_type": "code",
   "execution_count": 210,
   "id": "f7187b5b",
   "metadata": {},
   "outputs": [],
   "source": [
    "# Append \n",
    "lst1 = [1,2,3,4,5,6]"
   ]
  },
  {
   "cell_type": "code",
   "execution_count": 211,
   "id": "8054b45b",
   "metadata": {},
   "outputs": [],
   "source": [
    "# lst = [2,3,45,5]\n",
    "# type(5.0) is float\n",
    "# lst1[4] is a int\n",
    "# 5.0 in lst is True\n",
    "# the lst will check if the value of 5.0 is 5 is True"
   ]
  },
  {
   "cell_type": "code",
   "execution_count": 212,
   "id": "8db350e2",
   "metadata": {},
   "outputs": [
    {
     "name": "stderr",
     "output_type": "stream",
     "text": [
      "<>:1: SyntaxWarning: \"is\" with a literal. Did you mean \"==\"?\n",
      "<>:1: SyntaxWarning: \"is\" with a literal. Did you mean \"==\"?\n",
      "C:\\Users\\Asus\\AppData\\Local\\Temp\\ipykernel_4180\\1142485709.py:1: SyntaxWarning: \"is\" with a literal. Did you mean \"==\"?\n",
      "  5.0 is 5\n"
     ]
    },
    {
     "data": {
      "text/plain": [
       "False"
      ]
     },
     "execution_count": 212,
     "metadata": {},
     "output_type": "execute_result"
    }
   ],
   "source": [
    "5.0 is 5"
   ]
  },
  {
   "cell_type": "code",
   "execution_count": 213,
   "id": "bc85d2bb",
   "metadata": {},
   "outputs": [
    {
     "data": {
      "text/plain": [
       "True"
      ]
     },
     "execution_count": 213,
     "metadata": {},
     "output_type": "execute_result"
    }
   ],
   "source": [
    "5 ==5.0"
   ]
  },
  {
   "cell_type": "code",
   "execution_count": 214,
   "id": "a32bea2a",
   "metadata": {},
   "outputs": [
    {
     "data": {
      "text/plain": [
       "False"
      ]
     },
     "execution_count": 214,
     "metadata": {},
     "output_type": "execute_result"
    }
   ],
   "source": [
    "1.999999999 in [2,4,5]"
   ]
  },
  {
   "cell_type": "code",
   "execution_count": 215,
   "id": "0f6a7629",
   "metadata": {},
   "outputs": [
    {
     "data": {
      "text/plain": [
       "True"
      ]
     },
     "execution_count": 215,
     "metadata": {},
     "output_type": "execute_result"
    }
   ],
   "source": [
    "1.9999999999999999999 in [2,4,5]"
   ]
  },
  {
   "cell_type": "code",
   "execution_count": 216,
   "id": "df33c078",
   "metadata": {},
   "outputs": [],
   "source": [
    "# append basically add an value in the end of the list \n",
    "lst.append('ilu')"
   ]
  },
  {
   "cell_type": "code",
   "execution_count": 217,
   "id": "2e260ca6",
   "metadata": {},
   "outputs": [
    {
     "data": {
      "text/plain": [
       "[1, 2, 3, 4, 'ilu']"
      ]
     },
     "execution_count": 217,
     "metadata": {},
     "output_type": "execute_result"
    }
   ],
   "source": [
    "lst # so now the list is update and it is an inplace operation "
   ]
  },
  {
   "cell_type": "code",
   "execution_count": 218,
   "id": "a6e06068",
   "metadata": {},
   "outputs": [],
   "source": [
    "lst.append([1,2,3])"
   ]
  },
  {
   "cell_type": "code",
   "execution_count": 219,
   "id": "4487d136",
   "metadata": {},
   "outputs": [
    {
     "data": {
      "text/plain": [
       "[1, 2, 3, 4, 'ilu', [1, 2, 3]]"
      ]
     },
     "execution_count": 219,
     "metadata": {},
     "output_type": "execute_result"
    }
   ],
   "source": [
    "lst"
   ]
  },
  {
   "cell_type": "code",
   "execution_count": 220,
   "id": "e589ff89",
   "metadata": {},
   "outputs": [],
   "source": [
    "lst.remove([1,2,3]) # this will give us the multinested list "
   ]
  },
  {
   "cell_type": "code",
   "execution_count": 221,
   "id": "3e76b2b0",
   "metadata": {},
   "outputs": [
    {
     "data": {
      "text/plain": [
       "[1, 2, 3, 4, 'ilu']"
      ]
     },
     "execution_count": 221,
     "metadata": {},
     "output_type": "execute_result"
    }
   ],
   "source": [
    "lst"
   ]
  },
  {
   "cell_type": "code",
   "execution_count": 222,
   "id": "267d7be6",
   "metadata": {},
   "outputs": [
    {
     "data": {
      "text/plain": [
       "'lion'"
      ]
     },
     "execution_count": 222,
     "metadata": {},
     "output_type": "execute_result"
    }
   ],
   "source": [
    "lst = ['zebra' , 'monkey' , 'donkey' , 'lion']\n",
    "lst.pop() # we are not giving any index so it is removing from the last one "
   ]
  },
  {
   "cell_type": "code",
   "execution_count": 223,
   "id": "380e1c5b",
   "metadata": {},
   "outputs": [
    {
     "data": {
      "text/plain": [
       "['zebra', 'monkey', 'donkey']"
      ]
     },
     "execution_count": 223,
     "metadata": {},
     "output_type": "execute_result"
    }
   ],
   "source": [
    "lst # this is an inplace operation "
   ]
  },
  {
   "cell_type": "code",
   "execution_count": 224,
   "id": "2cd4b9c9",
   "metadata": {},
   "outputs": [
    {
     "data": {
      "text/plain": [
       "'zebra'"
      ]
     },
     "execution_count": 224,
     "metadata": {},
     "output_type": "execute_result"
    }
   ],
   "source": [
    "# let's pop by giving index \n",
    "lst.pop(0)"
   ]
  },
  {
   "cell_type": "code",
   "execution_count": 225,
   "id": "ff84b3b8",
   "metadata": {},
   "outputs": [
    {
     "data": {
      "text/plain": [
       "['monkey', 'donkey']"
      ]
     },
     "execution_count": 225,
     "metadata": {},
     "output_type": "execute_result"
    }
   ],
   "source": [
    "lst"
   ]
  },
  {
   "cell_type": "code",
   "execution_count": 227,
   "id": "302a0de8",
   "metadata": {},
   "outputs": [],
   "source": [
    "lst.append('zebra')"
   ]
  },
  {
   "cell_type": "code",
   "execution_count": 228,
   "id": "22aa2bdc",
   "metadata": {},
   "outputs": [],
   "source": [
    "lst.append('lion')"
   ]
  },
  {
   "cell_type": "code",
   "execution_count": 229,
   "id": "4124c8c1",
   "metadata": {},
   "outputs": [
    {
     "data": {
      "text/plain": [
       "['monkey', 'donkey', 'zebra', 'lion']"
      ]
     },
     "execution_count": 229,
     "metadata": {},
     "output_type": "execute_result"
    }
   ],
   "source": [
    "lst"
   ]
  },
  {
   "cell_type": "code",
   "execution_count": 230,
   "id": "871fdbf4",
   "metadata": {},
   "outputs": [
    {
     "data": {
      "text/plain": [
       "'donkey'"
      ]
     },
     "execution_count": 230,
     "metadata": {},
     "output_type": "execute_result"
    }
   ],
   "source": [
    "lst.pop(1)"
   ]
  },
  {
   "cell_type": "code",
   "execution_count": 231,
   "id": "2b51ac7b",
   "metadata": {},
   "outputs": [
    {
     "data": {
      "text/plain": [
       "['monkey', 'zebra', 'lion']"
      ]
     },
     "execution_count": 231,
     "metadata": {},
     "output_type": "execute_result"
    }
   ],
   "source": [
    "lst"
   ]
  },
  {
   "cell_type": "code",
   "execution_count": 232,
   "id": "2d325b0c",
   "metadata": {},
   "outputs": [],
   "source": [
    "lst.append('donkey')"
   ]
  },
  {
   "cell_type": "code",
   "execution_count": 233,
   "id": "8377476e",
   "metadata": {},
   "outputs": [
    {
     "data": {
      "text/plain": [
       "['monkey', 'zebra', 'lion', 'donkey']"
      ]
     },
     "execution_count": 233,
     "metadata": {},
     "output_type": "execute_result"
    }
   ],
   "source": [
    "lst"
   ]
  },
  {
   "cell_type": "code",
   "execution_count": 235,
   "id": "4a374158",
   "metadata": {},
   "outputs": [],
   "source": [
    "removed_element = lst.pop(1)"
   ]
  },
  {
   "cell_type": "code",
   "execution_count": 236,
   "id": "3d57efef",
   "metadata": {},
   "outputs": [
    {
     "data": {
      "text/plain": [
       "'zebra'"
      ]
     },
     "execution_count": 236,
     "metadata": {},
     "output_type": "execute_result"
    }
   ],
   "source": [
    "removed_element"
   ]
  },
  {
   "cell_type": "code",
   "execution_count": 237,
   "id": "be8591ea",
   "metadata": {},
   "outputs": [
    {
     "ename": "IndexError",
     "evalue": "list index out of range",
     "output_type": "error",
     "traceback": [
      "\u001b[1;31m---------------------------------------------------------------------------\u001b[0m",
      "\u001b[1;31mIndexError\u001b[0m                                Traceback (most recent call last)",
      "\u001b[1;32m~\\AppData\\Local\\Temp\\ipykernel_4180\\1110495527.py\u001b[0m in \u001b[0;36m<module>\u001b[1;34m\u001b[0m\n\u001b[1;32m----> 1\u001b[1;33m \u001b[0mlst\u001b[0m\u001b[1;33m[\u001b[0m\u001b[1;36m100\u001b[0m\u001b[1;33m]\u001b[0m\u001b[1;33m\u001b[0m\u001b[1;33m\u001b[0m\u001b[0m\n\u001b[0m",
      "\u001b[1;31mIndexError\u001b[0m: list index out of range"
     ]
    }
   ],
   "source": [
    "lst[100]"
   ]
  },
  {
   "cell_type": "code",
   "execution_count": 238,
   "id": "03c63ee0",
   "metadata": {},
   "outputs": [],
   "source": [
    "# Sorting and Reversed Method in list\n",
    "new_list = ['q' , 'e' , 'f' , 's' , 't' , 'u']"
   ]
  },
  {
   "cell_type": "code",
   "execution_count": 239,
   "id": "b4cb1411",
   "metadata": {},
   "outputs": [],
   "source": [
    "new_list.sort() # by default it sort in ascending order "
   ]
  },
  {
   "cell_type": "code",
   "execution_count": 240,
   "id": "51f95159",
   "metadata": {},
   "outputs": [
    {
     "data": {
      "text/plain": [
       "['e', 'f', 'q', 's', 't', 'u']"
      ]
     },
     "execution_count": 240,
     "metadata": {},
     "output_type": "execute_result"
    }
   ],
   "source": [
    "new_list"
   ]
  },
  {
   "cell_type": "code",
   "execution_count": 241,
   "id": "7386fed5",
   "metadata": {},
   "outputs": [],
   "source": [
    "new_list.sort(reverse = True)"
   ]
  },
  {
   "cell_type": "code",
   "execution_count": 243,
   "id": "66b38ab0",
   "metadata": {},
   "outputs": [
    {
     "data": {
      "text/plain": [
       "['u', 't', 's', 'q', 'f', 'e']"
      ]
     },
     "execution_count": 243,
     "metadata": {},
     "output_type": "execute_result"
    }
   ],
   "source": [
    "new_list"
   ]
  },
  {
   "cell_type": "code",
   "execution_count": 244,
   "id": "3e5a907c",
   "metadata": {},
   "outputs": [],
   "source": [
    "new_list.reverse()"
   ]
  },
  {
   "cell_type": "code",
   "execution_count": 245,
   "id": "568548b5",
   "metadata": {},
   "outputs": [
    {
     "data": {
      "text/plain": [
       "['e', 'f', 'q', 's', 't', 'u']"
      ]
     },
     "execution_count": 245,
     "metadata": {},
     "output_type": "execute_result"
    }
   ],
   "source": [
    "new_list"
   ]
  },
  {
   "cell_type": "code",
   "execution_count": 246,
   "id": "6468a176",
   "metadata": {},
   "outputs": [],
   "source": [
    "# all the above operation are inplace "
   ]
  },
  {
   "cell_type": "code",
   "execution_count": 247,
   "id": "ce5a5f5a",
   "metadata": {},
   "outputs": [],
   "source": [
    "lst.append(['pw' , 'skiils'])"
   ]
  },
  {
   "cell_type": "code",
   "execution_count": 248,
   "id": "243d6ceb",
   "metadata": {},
   "outputs": [
    {
     "data": {
      "text/plain": [
       "['monkey', 'lion', 'donkey', ['pw', 'skiils']]"
      ]
     },
     "execution_count": 248,
     "metadata": {},
     "output_type": "execute_result"
    }
   ],
   "source": [
    "lst"
   ]
  },
  {
   "cell_type": "code",
   "execution_count": 249,
   "id": "94ac63f2",
   "metadata": {},
   "outputs": [
    {
     "data": {
      "text/plain": [
       "['monkey', 'lion', 'donkey', ['pw', 'skiils']]"
      ]
     },
     "execution_count": 249,
     "metadata": {},
     "output_type": "execute_result"
    }
   ],
   "source": [
    "# how to add two element in the list \n",
    "lst"
   ]
  },
  {
   "cell_type": "code",
   "execution_count": 252,
   "id": "6373a186",
   "metadata": {},
   "outputs": [],
   "source": [
    "lst.remove(['pw', 'skiils'])"
   ]
  },
  {
   "cell_type": "code",
   "execution_count": 253,
   "id": "08bce932",
   "metadata": {},
   "outputs": [
    {
     "data": {
      "text/plain": [
       "['monkey', 'lion', 'donkey']"
      ]
     },
     "execution_count": 253,
     "metadata": {},
     "output_type": "execute_result"
    }
   ],
   "source": [
    "lst"
   ]
  },
  {
   "cell_type": "code",
   "execution_count": 255,
   "id": "0038bdab",
   "metadata": {},
   "outputs": [],
   "source": [
    "lst.extend(['pw' , 'skills'])"
   ]
  },
  {
   "cell_type": "code",
   "execution_count": 256,
   "id": "840cb456",
   "metadata": {},
   "outputs": [
    {
     "data": {
      "text/plain": [
       "['monkey', 'lion', 'donkey', 'pw', 'skills']"
      ]
     },
     "execution_count": 256,
     "metadata": {},
     "output_type": "execute_result"
    }
   ],
   "source": [
    "lst"
   ]
  },
  {
   "cell_type": "code",
   "execution_count": 259,
   "id": "4f459b6a",
   "metadata": {},
   "outputs": [],
   "source": [
    "lst.extend([1,2,3,4,5,6]) # add as much as element u want "
   ]
  },
  {
   "cell_type": "code",
   "execution_count": 258,
   "id": "640f9a20",
   "metadata": {},
   "outputs": [
    {
     "data": {
      "text/plain": [
       "['monkey', 'lion', 'donkey', 'pw', 'skills', 1, 2, 3, 4, 5, 6]"
      ]
     },
     "execution_count": 258,
     "metadata": {},
     "output_type": "execute_result"
    }
   ],
   "source": [
    "lst"
   ]
  },
  {
   "cell_type": "markdown",
   "id": "cb71394a",
   "metadata": {},
   "source": [
    "# Nested list"
   ]
  },
  {
   "cell_type": "code",
   "execution_count": 260,
   "id": "8182d028",
   "metadata": {},
   "outputs": [],
   "source": [
    "lst1 = [1,2,3]\n",
    "lst2 = [4,5,6]\n",
    "lst3 = [7,8,9]\n",
    "# make a list of lists to form a matrix\n",
    "matrix = [lst1 , lst2 , lst3]"
   ]
  },
  {
   "cell_type": "code",
   "execution_count": 261,
   "id": "5d1679e8",
   "metadata": {},
   "outputs": [
    {
     "data": {
      "text/plain": [
       "[[1, 2, 3], [4, 5, 6], [7, 8, 9]]"
      ]
     },
     "execution_count": 261,
     "metadata": {},
     "output_type": "execute_result"
    }
   ],
   "source": [
    "matrix"
   ]
  },
  {
   "cell_type": "code",
   "execution_count": 262,
   "id": "c964d928",
   "metadata": {},
   "outputs": [
    {
     "data": {
      "text/plain": [
       "[1, 2, 3]"
      ]
     },
     "execution_count": 262,
     "metadata": {},
     "output_type": "execute_result"
    }
   ],
   "source": [
    "# how to pickup 6 value \n",
    "matrix[0]"
   ]
  },
  {
   "cell_type": "code",
   "execution_count": 263,
   "id": "993c7d91",
   "metadata": {},
   "outputs": [
    {
     "data": {
      "text/plain": [
       "6"
      ]
     },
     "execution_count": 263,
     "metadata": {},
     "output_type": "execute_result"
    }
   ],
   "source": [
    "matrix[1][2]"
   ]
  },
  {
   "cell_type": "code",
   "execution_count": 266,
   "id": "f9643719",
   "metadata": {},
   "outputs": [
    {
     "data": {
      "text/plain": [
       "[8, 9]"
      ]
     },
     "execution_count": 266,
     "metadata": {},
     "output_type": "execute_result"
    }
   ],
   "source": [
    "matrix[2][1:4]"
   ]
  },
  {
   "cell_type": "code",
   "execution_count": 267,
   "id": "fe8ab962",
   "metadata": {},
   "outputs": [
    {
     "data": {
      "text/plain": [
       "[8, 9]"
      ]
     },
     "execution_count": 267,
     "metadata": {},
     "output_type": "execute_result"
    }
   ],
   "source": [
    "matrix[2][1:]"
   ]
  },
  {
   "cell_type": "code",
   "execution_count": 268,
   "id": "cb4d812b",
   "metadata": {},
   "outputs": [
    {
     "data": {
      "text/plain": [
       "[[1, 2, 3], [4, 5, 6], [7, 8, 9]]"
      ]
     },
     "execution_count": 268,
     "metadata": {},
     "output_type": "execute_result"
    }
   ],
   "source": [
    "matrix[:]"
   ]
  },
  {
   "cell_type": "code",
   "execution_count": 270,
   "id": "e1c0dffb",
   "metadata": {},
   "outputs": [
    {
     "data": {
      "text/plain": [
       "[[1, 2, 3], [4, 5, 6], [7, 8, 9]]"
      ]
     },
     "execution_count": 270,
     "metadata": {},
     "output_type": "execute_result"
    }
   ],
   "source": [
    "matrix[0:3]"
   ]
  },
  {
   "cell_type": "code",
   "execution_count": 271,
   "id": "202061a0",
   "metadata": {},
   "outputs": [
    {
     "data": {
      "text/plain": [
       "[1, 2, 3]"
      ]
     },
     "execution_count": 271,
     "metadata": {},
     "output_type": "execute_result"
    }
   ],
   "source": [
    "matrix[0:3][0]"
   ]
  },
  {
   "cell_type": "code",
   "execution_count": 272,
   "id": "fb5f09e1",
   "metadata": {},
   "outputs": [],
   "source": [
    "# how to fetch elements (1,4,7) # this will be done in arrays "
   ]
  },
  {
   "cell_type": "code",
   "execution_count": 276,
   "id": "41e20245",
   "metadata": {},
   "outputs": [
    {
     "data": {
      "text/plain": [
       "[0, 1, 2, 3, 4, 5, 6, 7, 8, 9, 10, 11, 12, 13, 14, 15, 16, 17, 18, 19]"
      ]
     },
     "execution_count": 276,
     "metadata": {},
     "output_type": "execute_result"
    }
   ],
   "source": [
    "# list comprehension \n",
    "[i for i in range(20)] # basically this means print i for i in range(20)"
   ]
  },
  {
   "cell_type": "code",
   "execution_count": 279,
   "id": "93fff0cf",
   "metadata": {},
   "outputs": [
    {
     "data": {
      "text/plain": [
       "[0, 1, 2, 3, 4, 5, 6, 7, 8, 9, 10, 11, 12, 13, 14, 15, 16, 17, 18, 19]"
      ]
     },
     "execution_count": 279,
     "metadata": {},
     "output_type": "execute_result"
    }
   ],
   "source": [
    "# list comprehension \n",
    "# even numbers \n",
    "[i%2==0 else for i in range(20)]"
   ]
  },
  {
   "cell_type": "code",
   "execution_count": 282,
   "id": "57c275f5",
   "metadata": {},
   "outputs": [],
   "source": [
    "ls = [i for i in range(100) if i%3==0]"
   ]
  },
  {
   "cell_type": "code",
   "execution_count": 283,
   "id": "848d5328",
   "metadata": {},
   "outputs": [
    {
     "data": {
      "text/plain": [
       "[0,\n",
       " 3,\n",
       " 6,\n",
       " 9,\n",
       " 12,\n",
       " 15,\n",
       " 18,\n",
       " 21,\n",
       " 24,\n",
       " 27,\n",
       " 30,\n",
       " 33,\n",
       " 36,\n",
       " 39,\n",
       " 42,\n",
       " 45,\n",
       " 48,\n",
       " 51,\n",
       " 54,\n",
       " 57,\n",
       " 60,\n",
       " 63,\n",
       " 66,\n",
       " 69,\n",
       " 72,\n",
       " 75,\n",
       " 78,\n",
       " 81,\n",
       " 84,\n",
       " 87,\n",
       " 90,\n",
       " 93,\n",
       " 96,\n",
       " 99]"
      ]
     },
     "execution_count": 283,
     "metadata": {},
     "output_type": "execute_result"
    }
   ],
   "source": [
    "ls"
   ]
  },
  {
   "cell_type": "code",
   "execution_count": 285,
   "id": "6cde850c",
   "metadata": {},
   "outputs": [
    {
     "data": {
      "text/plain": [
       "[0,\n",
       " 'odd',\n",
       " 2,\n",
       " 'odd',\n",
       " 4,\n",
       " 'odd',\n",
       " 6,\n",
       " 'odd',\n",
       " 8,\n",
       " 'odd',\n",
       " 10,\n",
       " 'odd',\n",
       " 12,\n",
       " 'odd',\n",
       " 14,\n",
       " 'odd',\n",
       " 16,\n",
       " 'odd',\n",
       " 18,\n",
       " 'odd']"
      ]
     },
     "execution_count": 285,
     "metadata": {},
     "output_type": "execute_result"
    }
   ],
   "source": [
    "[i if i%2==0 else 'odd' for i in range(20)]"
   ]
  },
  {
   "cell_type": "code",
   "execution_count": 296,
   "id": "7fa69ace",
   "metadata": {},
   "outputs": [
    {
     "name": "stdout",
     "output_type": "stream",
     "text": [
      "[0, 1, 2, 3, 4, 5, 6, 7, 8, 9, 10, 11, 12, 13, 14, 15, 16, 17, 18, 19]\n"
     ]
    }
   ],
   "source": [
    "gen = (i for i in range(20))\n",
    "print(list(gen))"
   ]
  },
  {
   "cell_type": "code",
   "execution_count": 297,
   "id": "70face4f",
   "metadata": {},
   "outputs": [],
   "source": [
    "# [i for  i in range(20)]\n",
    "# this is like \n",
    "# for i in range\n",
    "# print(i)\n",
    "# and list comprehension just pass it as a list"
   ]
  },
  {
   "cell_type": "code",
   "execution_count": 299,
   "id": "fe8e4301",
   "metadata": {},
   "outputs": [
    {
     "name": "stdout",
     "output_type": "stream",
     "text": [
      "0\n",
      "1\n",
      "2\n",
      "3\n",
      "4\n",
      "5\n",
      "6\n",
      "7\n",
      "8\n",
      "9\n",
      "10\n",
      "11\n",
      "12\n",
      "13\n",
      "14\n",
      "15\n",
      "16\n",
      "17\n",
      "18\n",
      "19\n"
     ]
    }
   ],
   "source": [
    "ran = range(20)\n",
    "for i in ran:\n",
    "    print(i) #(i for i in range(20)) this is the same statement "
   ]
  },
  {
   "cell_type": "code",
   "execution_count": 303,
   "id": "39188aa2",
   "metadata": {},
   "outputs": [
    {
     "data": {
      "text/plain": [
       "[0,\n",
       " 'odd',\n",
       " 2,\n",
       " 'odd',\n",
       " 4,\n",
       " 'odd',\n",
       " 6,\n",
       " 'odd',\n",
       " 8,\n",
       " 'odd',\n",
       " 10,\n",
       " 'odd',\n",
       " 12,\n",
       " 'odd',\n",
       " 14,\n",
       " 'odd',\n",
       " 16,\n",
       " 'odd',\n",
       " 18,\n",
       " 'odd']"
      ]
     },
     "execution_count": 303,
     "metadata": {},
     "output_type": "execute_result"
    }
   ],
   "source": [
    "[ i if i%2==0  else 'odd' for i in range(0,20)]# print i if i%2==0 else odd for i in range(0.20)"
   ]
  },
  {
   "cell_type": "code",
   "execution_count": 308,
   "id": "acef4695",
   "metadata": {},
   "outputs": [
    {
     "name": "stdout",
     "output_type": "stream",
     "text": [
      "20\n",
      "16\n"
     ]
    }
   ],
   "source": [
    "lst=[1,2,3,4,5,6,7,8]\n",
    "# find sum of even numbers and odd numbers \n",
    "even_sum =0\n",
    "odd_sum =0\n",
    "for i in lst:\n",
    "    if i%2 ==0:\n",
    "        even_sum +=i\n",
    "    else:\n",
    "        odd_sum +=i\n",
    "print(even_sum)\n",
    "print(odd_sum)\n"
   ]
  },
  {
   "cell_type": "code",
   "execution_count": 309,
   "id": "d5096e8d",
   "metadata": {},
   "outputs": [
    {
     "data": {
      "text/plain": [
       "[1, 2, 3, 4, 5, 6, 7, 8]"
      ]
     },
     "execution_count": 309,
     "metadata": {},
     "output_type": "execute_result"
    }
   ],
   "source": [
    "# let's do it with list comprehension \n",
    "[num for num in lst]"
   ]
  },
  {
   "cell_type": "code",
   "execution_count": 310,
   "id": "bfea4b04",
   "metadata": {},
   "outputs": [
    {
     "data": {
      "text/plain": [
       "[2, 4, 6, 8]"
      ]
     },
     "execution_count": 310,
     "metadata": {},
     "output_type": "execute_result"
    }
   ],
   "source": [
    "[num for num in lst if num%2==0]"
   ]
  },
  {
   "cell_type": "code",
   "execution_count": 311,
   "id": "bab8e179",
   "metadata": {},
   "outputs": [],
   "source": [
    "even_sum = sum([num for num in lst if num%2==0])"
   ]
  },
  {
   "cell_type": "code",
   "execution_count": 312,
   "id": "5124e441",
   "metadata": {},
   "outputs": [
    {
     "data": {
      "text/plain": [
       "20"
      ]
     },
     "execution_count": 312,
     "metadata": {},
     "output_type": "execute_result"
    }
   ],
   "source": [
    "even_sum"
   ]
  },
  {
   "cell_type": "code",
   "execution_count": 314,
   "id": "c892d4e9",
   "metadata": {},
   "outputs": [],
   "source": [
    "odd_sum = sum([num for num in lst if num%2!=0])"
   ]
  },
  {
   "cell_type": "code",
   "execution_count": 315,
   "id": "ca91c412",
   "metadata": {},
   "outputs": [
    {
     "data": {
      "text/plain": [
       "16"
      ]
     },
     "execution_count": 315,
     "metadata": {},
     "output_type": "execute_result"
    }
   ],
   "source": [
    "odd_sum"
   ]
  },
  {
   "cell_type": "code",
   "execution_count": 316,
   "id": "1fae5a78",
   "metadata": {},
   "outputs": [
    {
     "data": {
      "text/plain": [
       "[1, 4, 9, 16, 25, 36, 49, 64, 81]"
      ]
     },
     "execution_count": 316,
     "metadata": {},
     "output_type": "execute_result"
    }
   ],
   "source": [
    "lst = [1,2,3,4,5,6,7,8,9] # find the square of all numbers \n",
    "[num**2 for num in lst ]"
   ]
  },
  {
   "cell_type": "code",
   "execution_count": 318,
   "id": "305fd92f",
   "metadata": {},
   "outputs": [
    {
     "data": {
      "text/plain": [
       "[1, 2, 3, 4]"
      ]
     },
     "execution_count": 318,
     "metadata": {},
     "output_type": "execute_result"
    }
   ],
   "source": [
    "numbers = [-2 , -1 , 0, 1,2, 3, 4]\n",
    "#craete a list of only the positive number from the given list \n",
    "[num for num in numbers if num>0]"
   ]
  },
  {
   "cell_type": "code",
   "execution_count": 320,
   "id": "426ea746",
   "metadata": {},
   "outputs": [
    {
     "data": {
      "text/plain": [
       "['a', 'b', 'c', 'd']"
      ]
     },
     "execution_count": 320,
     "metadata": {},
     "output_type": "execute_result"
    }
   ],
   "source": [
    "# create a list of of only the first letter of words in the list \n",
    "words = ['apple' , 'banana' , 'cherry' , 'date']\n",
    "[word[0] for word in words ]"
   ]
  },
  {
   "cell_type": "code",
   "execution_count": 321,
   "id": "41eac7d9",
   "metadata": {},
   "outputs": [],
   "source": [
    "# how to covert temprature in diff forms \n",
    "# formula \n",
    "#formula = (9/5) * temprature + 32"
   ]
  },
  {
   "cell_type": "code",
   "execution_count": 322,
   "id": "3dd9c18e",
   "metadata": {},
   "outputs": [],
   "source": [
    "# convert a list of temprature from celsius to fehrenheit \n",
    "celsius_temprature = [0,10,20,30,40,50]"
   ]
  },
  {
   "cell_type": "code",
   "execution_count": 324,
   "id": "ef75a9f8",
   "metadata": {},
   "outputs": [
    {
     "data": {
      "text/plain": [
       "[32.0, 50.0, 68.0, 86.0, 104.0, 122.0]"
      ]
     },
     "execution_count": 324,
     "metadata": {},
     "output_type": "execute_result"
    }
   ],
   "source": [
    "[temp*(9/5)+32 for temp in celsius_temprature]"
   ]
  },
  {
   "cell_type": "code",
   "execution_count": 325,
   "id": "2df11e90",
   "metadata": {},
   "outputs": [],
   "source": [
    "# Flatten a list of list in single list \n",
    "lists = [[1,2,3] , [4,5,6] , [7,8,9]]"
   ]
  },
  {
   "cell_type": "code",
   "execution_count": 326,
   "id": "23014dc4",
   "metadata": {},
   "outputs": [
    {
     "data": {
      "text/plain": [
       "[1, 2, 3, 4, 5, 6, 7, 8, 9]"
      ]
     },
     "execution_count": 326,
     "metadata": {},
     "output_type": "execute_result"
    }
   ],
   "source": [
    "[num for sublist in lists for num in sublist]"
   ]
  },
  {
   "cell_type": "code",
   "execution_count": 327,
   "id": "08e3f4bc",
   "metadata": {},
   "outputs": [],
   "source": [
    "# Assignment \n",
    "# do using both code and list comprehension \n",
    "#create a list of only the prime number from the given list \n",
    "numbers = [1,2,3,4,5,6,7,8,9,10]"
   ]
  },
  {
   "cell_type": "code",
   "execution_count": 328,
   "id": "74e76347",
   "metadata": {},
   "outputs": [],
   "source": [
    "#create a list of all the possible combination of 2 elements from a list \n",
    "numbers = [1,2,3,4,5]"
   ]
  },
  {
   "cell_type": "code",
   "execution_count": 331,
   "id": "5952357b",
   "metadata": {},
   "outputs": [
    {
     "data": {
      "text/plain": [
       "[1, 2, 3, 4, 5, 6, 7, 8, 9]"
      ]
     },
     "execution_count": 331,
     "metadata": {},
     "output_type": "execute_result"
    }
   ],
   "source": [
    "lists = [[1,2,3] , [4,5,6] , [7,8,9]] # first of all we have to iterate through each list inside lists \n",
    "# [for i in lists] # it will choose all the three lists \n",
    "# then [j in i] # j will iterate each elements from the lists and print j \n",
    "[j for i in lists for j in i]"
   ]
  },
  {
   "cell_type": "code",
   "execution_count": null,
   "id": "0a52b3c1",
   "metadata": {},
   "outputs": [],
   "source": []
  }
 ],
 "metadata": {
  "kernelspec": {
   "display_name": "Python 3 (ipykernel)",
   "language": "python",
   "name": "python3"
  },
  "language_info": {
   "codemirror_mode": {
    "name": "ipython",
    "version": 3
   },
   "file_extension": ".py",
   "mimetype": "text/x-python",
   "name": "python",
   "nbconvert_exporter": "python",
   "pygments_lexer": "ipython3",
   "version": "3.9.13"
  }
 },
 "nbformat": 4,
 "nbformat_minor": 5
}
